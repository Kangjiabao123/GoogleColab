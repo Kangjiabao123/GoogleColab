{
  "nbformat": 4,
  "nbformat_minor": 0,
  "metadata": {
    "colab": {
      "name": "genpass from github.ipynb",
      "provenance": [],
      "collapsed_sections": [],
      "authorship_tag": "ABX9TyMByXwCV7LalvntvxPmfnR0",
      "include_colab_link": true
    },
    "kernelspec": {
      "name": "python3",
      "display_name": "Python 3"
    },
    "language_info": {
      "name": "python"
    }
  },
  "cells": [
    {
      "cell_type": "markdown",
      "metadata": {
        "id": "view-in-github",
        "colab_type": "text"
      },
      "source": [
        "<a href=\"https://colab.research.google.com/github/YapingWu/GoogleColab/blob/main/genpass_from_github.ipynb\" target=\"_parent\"><img src=\"https://colab.research.google.com/assets/colab-badge.svg\" alt=\"Open In Colab\"/></a>"
      ]
    },
    {
      "cell_type": "markdown",
      "metadata": {
        "id": "XG2uyd_S4tEf"
      },
      "source": [
        "# github代码复制到google colab\n",
        "\n",
        "参考资料：\n",
        "1. https://techsupportallbugs.wordpress.com/2018/06/05/using-git-with-colab-via-ssh/"
      ]
    },
    {
      "cell_type": "markdown",
      "metadata": {
        "id": "NKNtwhnL4zIX"
      },
      "source": [
        "## 配置SSH\n",
        "1. **上传压缩后的密钥对文件和配置文件**\n",
        "1. 将密钥对文件和配置文件解压到/root/.ssh文件夹中\n",
        "2. 将私钥加载到本地ssh-agent中\n",
        "3. 设置git账户"
      ]
    },
    {
      "cell_type": "code",
      "metadata": {
        "id": "hDBqGHhh9TV7"
      },
      "source": [
        "!rm -rf ~/.ssh\n",
        "!unzip '/content/ssh-colab.zip' -d ~/.ssh\n",
        "!chmod 700 ~/.ssh\n",
        "\n",
        "# add the ssh server as a hnown host\n",
        "!touch ~/.ssh/known_hosts\n",
        "!ssh-keyscan github.com >> ~/.ssh/known_hosts\n",
        "!chmod 644 ~/.ssh/known_hosts"
      ],
      "execution_count": null,
      "outputs": []
    },
    {
      "cell_type": "code",
      "metadata": {
        "id": "kMTGwhmh_6Xj"
      },
      "source": [
        "!ssh-agent /bin/bash \n",
        "\n",
        "# 以下命令在ssh-agent启动的shell中执行\n",
        "# chmod 600 ~/.ssh/id_rsa_colab  # 私钥需要设置仅自己可以访问，才能添加到代理\n",
        "# ssh-add ~/.ssh/id_rsa_colab\n",
        "# ssh-add -l\n",
        "# exit"
      ],
      "execution_count": null,
      "outputs": []
    },
    {
      "cell_type": "code",
      "metadata": {
        "id": "niqZxsQrDAz9"
      },
      "source": [
        "!git config --global user.name 'colab'\n",
        "!git config --global user.email 'vyapings@163.com'"
      ],
      "execution_count": null,
      "outputs": []
    },
    {
      "cell_type": "markdown",
      "metadata": {
        "id": "1redRBlVDRVu"
      },
      "source": [
        "## clone私有库\n",
        "1. 安装google云盘\n",
        "2. 将工作目录更改为云端硬盘内的文件夹\n",
        "3. 运行git clone。"
      ]
    },
    {
      "cell_type": "code",
      "metadata": {
        "id": "HgmO9CHC-9M5"
      },
      "source": [
        "from google.colab import drive\n",
        "drive.mount('./drive')\n",
        "\n",
        "import os\n",
        "os.chdir('/content/drive/MyDrive/gen_pass')\n",
        "\n",
        "!pwd\n",
        "!ls"
      ],
      "execution_count": null,
      "outputs": []
    },
    {
      "cell_type": "code",
      "metadata": {
        "id": "hTxxiKQvA-5p"
      },
      "source": [
        "# !rm -rf gen_pass\n",
        "# !git clone git@github.com:YapingWu/gen_pass.git\n",
        "\n",
        "!git stash\n",
        "!git stash clear\n",
        "!git pull origin master"
      ],
      "execution_count": null,
      "outputs": []
    },
    {
      "cell_type": "markdown",
      "metadata": {
        "id": "WecgaSNAD6uE"
      },
      "source": [
        "# 运行genpass项目"
      ]
    },
    {
      "cell_type": "code",
      "metadata": {
        "id": "_oOp1Ote4_j7"
      },
      "source": [
        "# 修改时区\n",
        "!date -R\n",
        "import os\n",
        "os.environ['TZ'] = \"Asia/Shanghai\"\n",
        "!date -R\n",
        "\n",
        "# 修改工作目录\n",
        "import os\n",
        "print(os.getcwd())\n",
        "os.chdir('/content/drive/MyDrive/gen_pass')\n",
        "print(os.getcwd())"
      ],
      "execution_count": null,
      "outputs": []
    },
    {
      "cell_type": "markdown",
      "metadata": {
        "id": "vb2ln895Eyee"
      },
      "source": [
        "## 数据分析"
      ]
    },
    {
      "cell_type": "code",
      "metadata": {
        "id": "Wz4USzDbFAYg"
      },
      "source": [
        "!python main.py \\\n",
        "  -e pro \\\n",
        "  --stats-only"
      ],
      "execution_count": null,
      "outputs": []
    },
    {
      "cell_type": "markdown",
      "metadata": {
        "id": "RIjqmF5_tyal"
      },
      "source": [
        "## 数据预处理"
      ]
    },
    {
      "cell_type": "code",
      "metadata": {
        "id": "uYmyHJt2txki"
      },
      "source": [
        "!python main.py \\\n",
        "  -e pro \\\n",
        "  --pre-processing-only"
      ],
      "execution_count": null,
      "outputs": []
    },
    {
      "cell_type": "markdown",
      "metadata": {
        "id": "oXIMmvMduBct"
      },
      "source": [
        "## 训练word-level LSTM"
      ]
    },
    {
      "cell_type": "markdown",
      "metadata": {
        "id": "ulFWdvZcEpRR"
      },
      "source": [
        "### 训练分词器"
      ]
    },
    {
      "cell_type": "code",
      "metadata": {
        "id": "8qdT20rOuBBA"
      },
      "source": [
        "!python main.py \\\n",
        "  -e pro \\\n",
        "  --train --model tokenizer"
      ],
      "execution_count": null,
      "outputs": []
    },
    {
      "cell_type": "markdown",
      "metadata": {
        "id": "z38Jg6u7uvXt"
      },
      "source": [
        "### 使用pcfg编码结果训练LSTM模型"
      ]
    },
    {
      "cell_type": "code",
      "metadata": {
        "id": "ilRlmgPIuupJ"
      },
      "source": [
        "!python main.py \\\n",
        "    -e pro \\\n",
        "    --train \\\n",
        "    --model lstm"
      ],
      "execution_count": null,
      "outputs": []
    },
    {
      "cell_type": "markdown",
      "metadata": {
        "id": "JYdgdH0kwUHz"
      },
      "source": [
        "## 训练char-level CNN"
      ]
    },
    {
      "cell_type": "code",
      "metadata": {
        "id": "z7yH2xi2uA5V"
      },
      "source": [
        "!python main.py \\\n",
        "    -e pro \\\n",
        "    --train \\\n",
        "    --model cnn"
      ],
      "execution_count": null,
      "outputs": []
    },
    {
      "cell_type": "code",
      "metadata": {
        "id": "SG6Ly43Oq3Pt"
      },
      "source": [
        "%load_ext tensorboard"
      ],
      "execution_count": null,
      "outputs": []
    },
    {
      "cell_type": "code",
      "metadata": {
        "id": "vJJh9AG3q5U9"
      },
      "source": [
        "%tensorboard --logdir 'logs/cnn/cnn210327230105'"
      ],
      "execution_count": null,
      "outputs": []
    },
    {
      "cell_type": "markdown",
      "metadata": {
        "id": "yU47aUJIE1cz"
      },
      "source": [
        "## 生成密码"
      ]
    },
    {
      "cell_type": "markdown",
      "metadata": {
        "id": "Iz0IMVRn14zz"
      },
      "source": [
        "### 使用genpass模型生成密码"
      ]
    },
    {
      "cell_type": "code",
      "metadata": {
        "id": "W8gjzrA_FGsN"
      },
      "source": [
        "# 使用genpass模型生成密码\n",
        "!python main.py \\\n",
        "  -e pro \\\n",
        "  --generate --model genpass \\\n",
        "  -c 0.3 \\\n",
        "  --alphas 3 4 5 \\\n",
        "  --chunk 10000\n",
        "\n",
        "!python main.py \\\n",
        "  -e pro \\\n",
        "  --generate --model genpass \\\n",
        "  -c 0.3 \\\n",
        "  --alphas 6 \\\n",
        "  --chunk 10000"
      ],
      "execution_count": null,
      "outputs": []
    },
    {
      "cell_type": "markdown",
      "metadata": {
        "id": "7l5oqIzO18Of"
      },
      "source": [
        "### 使用PL模型生成密码"
      ]
    },
    {
      "cell_type": "code",
      "metadata": {
        "id": "b993O7PPJnCt"
      },
      "source": [
        "!python main.py \\\n",
        "  -e default \\\n",
        "  --generate --model pl \\\n",
        "  --dnames myspace phpbb myspace_part phpbb_part\\\n",
        "  --alphas 3 4 5 \\\n",
        "  --chunk 100000\n",
        "\n",
        "!python main.py \\\n",
        "  -e default \\\n",
        "  --generate --model pl \\\n",
        "  --dnames myspace phpbb myspace_part phpbb_part\\\n",
        "  --alphas 6 \\\n",
        "  --chunk 100000"
      ],
      "execution_count": null,
      "outputs": []
    },
    {
      "cell_type": "markdown",
      "metadata": {
        "id": "9yHtWUb6E3Ow"
      },
      "source": [
        "## 评估模型"
      ]
    },
    {
      "cell_type": "markdown",
      "metadata": {
        "id": "7ix0ibwaOPHh"
      },
      "source": [
        "### genpass模型"
      ]
    },
    {
      "cell_type": "code",
      "metadata": {
        "id": "VqsLah_mYSFG"
      },
      "source": [
        "!python main.py \\\n",
        "    -e pro \\\n",
        "    --evaluate --model genpass \\\n",
        "    --alphas 3 4 5 6 \\\n",
        "    -c 0.3"
      ],
      "execution_count": null,
      "outputs": []
    },
    {
      "cell_type": "markdown",
      "metadata": {
        "id": "KjOeTY6WOS3w"
      },
      "source": [
        "### PL模型"
      ]
    },
    {
      "cell_type": "code",
      "metadata": {
        "id": "7VV2QMbwwXmH"
      },
      "source": [
        "!python main.py \\\n",
        "    -e pro \\\n",
        "    --evaluate --model pl \\\n",
        "    --test-size 7000 \\\n",
        "    --alphas 3 4 5 6"
      ],
      "execution_count": null,
      "outputs": []
    },
    {
      "cell_type": "markdown",
      "metadata": {
        "id": "PDYlL5ygn-1Z"
      },
      "source": [
        "### 画图"
      ]
    },
    {
      "cell_type": "code",
      "metadata": {
        "colab": {
          "base_uri": "https://localhost:8080/",
          "height": 297
        },
        "id": "KCF76Wd0LlIC",
        "outputId": "903248b0-93de-485e-ca08-25487eee3d31"
      },
      "source": [
        "import pandas as pd\n",
        "import numpy as np\n",
        "import matplotlib.pyplot as plt\n",
        "\n",
        "def draw_line(x, y, label):\n",
        "  fig, ax = plt.subplots(1, 3, figsize=(12, 4), sharex='all', sharey='all')\n",
        "  plt.xticks(x)\n",
        "\n",
        "  for i in [0, 1, 2]:\n",
        "      for y_, label_ in zip(y[i], label[i]):\n",
        "          ax[i].plot(x, y_, label=label_)\n",
        "\n",
        "      ax[i].grid(axis='y', linestyle='dotted')\n",
        "      ax[i].legend()\n",
        "\n",
        "  ax[0].set_title(\"pl evaluation(cross-site)\")\n",
        "  ax[1].set_title(\"pl evaluation(one-site)\")\n",
        "  ax[2].set_title(\"genpass evaluation\")\n",
        "\n",
        "  fig.tight_layout()\n",
        "\n",
        "  plt.show()\n",
        "\n",
        "\n",
        "\n",
        "eva_pl = pd.read_csv('result/eva/eva_pl_210331183902.txt',\n",
        "                     converters={'mr': eval})\n",
        "eva_genpass = pd.read_csv('result/eva/eva_genpass_210331183719.txt',\n",
        "                     converters={'mr': eval})\n",
        "pl_cross = eva_pl.loc[:1]\n",
        "pl_one = eva_pl.loc[2:]\n",
        "\n",
        "x = [3, 4, 5, 6]\n",
        "y = [pl_cross['mr'].to_list(), pl_one['mr'].to_list(), eva_genpass['mr'].to_list()]\n",
        "label = [pl_cross['desc'].to_list(), pl_one['desc'].to_list(), eva_genpass['desc'].to_list()]\n",
        "\n",
        "draw_line(x, y, label)\n"
      ],
      "execution_count": null,
      "outputs": [
        {
          "output_type": "display_data",
          "data": {
            "image/png": "[encoded data removed]",
            "text/plain": [
              "<Figure size 864x288 with 3 Axes>"
            ]
          },
          "metadata": {
            "tags": [],
            "needs_background": "light"
          }
        }
      ]
    }
  ]
}