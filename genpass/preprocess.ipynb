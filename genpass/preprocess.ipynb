{
  "nbformat": 4,
  "nbformat_minor": 0,
  "metadata": {
    "colab": {
      "name": "preprocess.ipynb",
      "provenance": [],
      "collapsed_sections": [],
      "toc_visible": true,
      "authorship_tag": "ABX9TyMw/RPLkAUhDk8a2tuvl+Bj",
      "include_colab_link": true
    },
    "kernelspec": {
      "name": "python3",
      "display_name": "Python 3"
    }
  },
  "cells": [
    {
      "cell_type": "markdown",
      "metadata": {
        "id": "view-in-github",
        "colab_type": "text"
      },
      "source": [
        "<a href=\"https://colab.research.google.com/github/YapingWu/GoogleColab/blob/main/genpass/preprocess.ipynb\" target=\"_parent\"><img src=\"https://colab.research.google.com/assets/colab-badge.svg\" alt=\"Open In Colab\"/></a>"
      ]
    },
    {
      "cell_type": "markdown",
      "metadata": {
        "id": "oaRgFkB2wnfu"
      },
      "source": [
        "# 数据准备\r\n",
        "需要的数据：\r\n",
        "1. 将`myspace`和`phpbb`的数据按照`7：3`的比例划分为训练集`xxx_70`和测试集`xxx_30`，用于PL模型的`one-site test`。\r\n",
        "2. 按照PCFG规则对`myspace`、`phpbb`和`xxx_70`进行编码并生成密码频次表。"
      ]
    },
    {
      "cell_type": "code",
      "metadata": {
        "id": "1UHGydES2MMB"
      },
      "source": [
        "!mkdir 'raw_data'\r\n",
        "!mv '/content/myspace.txt' '/content/raw_data/myspace.txt'\r\n",
        "!mv '/content/phpbb.txt' '/content/raw_data/phpbb.txt'"
      ],
      "execution_count": 10,
      "outputs": []
    },
    {
      "cell_type": "code",
      "metadata": {
        "id": "aFTl5NqZ2wce"
      },
      "source": [
        "!mkdir 'pcfg'"
      ],
      "execution_count": 13,
      "outputs": []
    },
    {
      "cell_type": "code",
      "metadata": {
        "colab": {
          "base_uri": "https://localhost:8080/"
        },
        "id": "aSEp-t9b6ojB",
        "outputId": "3c3fe589-9b1e-4e80-eea6-78433428a3e0"
      },
      "source": [
        "!mkdir 'freq'"
      ],
      "execution_count": 4,
      "outputs": [
        {
          "output_type": "stream",
          "text": [
            "mkdir: cannot create directory ‘freq’: File exists\n"
          ],
          "name": "stdout"
        }
      ]
    },
    {
      "cell_type": "markdown",
      "metadata": {
        "id": "ZwXBmYTRyJ51"
      },
      "source": [
        "## 划分数据集"
      ]
    },
    {
      "cell_type": "code",
      "metadata": {
        "colab": {
          "base_uri": "https://localhost:8080/"
        },
        "id": "AJ-6L-K5wkQ1",
        "outputId": "1a93138f-8f6a-43ea-b5e6-b7be0d39515c"
      },
      "source": [
        "import numpy as np\r\n",
        "\r\n",
        "seed = 7\r\n",
        "np.random.seed(seed)\r\n",
        "\r\n",
        "def split_dataset(name='myspace', test_ratio=0.3):\r\n",
        "  filename = '/content/raw_data/{}.txt'.format(name)\r\n",
        "  test_ratio = 0.3\r\n",
        "  all_pwd_list = np.genfromtxt(filename, dtype=str , delimiter='\\n' , encoding='utf-8')\r\n",
        "  np.random.shuffle(all_pwd_list)\r\n",
        "  print('{} all_pwd_list.shape：{}'.format(name, all_pwd_list.shape))\r\n",
        "\r\n",
        "  cut = int(all_pwd_list.shape[0] * (1 - test_ratio))\r\n",
        "  pwd_list_7 = all_pwd_list[:cut]\r\n",
        "  pwd_list_3 = all_pwd_list[cut:]\r\n",
        "\r\n",
        "  np.savetxt('./raw_data/{}_7.txt'.format(name), pwd_list_7, fmt='%s', delimiter='\\n', encoding='utf-8')\r\n",
        "  np.savetxt('./raw_data/{}_3.txt'.format(name), pwd_list_3, fmt='%s', delimiter='\\n', encoding='utf-8')\r\n",
        "\r\n",
        "split_dataset(name='myspace')\r\n",
        "split_dataset(name='phpbb')"
      ],
      "execution_count": 12,
      "outputs": [
        {
          "output_type": "stream",
          "text": [
            "myspace all_pwd_list.shape：(37119,)\n",
            "phpbb all_pwd_list.shape：(184325,)\n"
          ],
          "name": "stdout"
        }
      ]
    },
    {
      "cell_type": "markdown",
      "metadata": {
        "id": "AK1_LTqryQvp"
      },
      "source": [
        "## PCFG编码、生成频率表"
      ]
    },
    {
      "cell_type": "code",
      "metadata": {
        "id": "I-qjaKvN5Bj0"
      },
      "source": [
        "import itertools\r\n",
        "import pandas as pd\r\n",
        "\r\n",
        "def get_type(ch):\r\n",
        "    if ch.isalpha():\r\n",
        "        return 'L'\r\n",
        "    if ch.isdigit():\r\n",
        "        return 'D'\r\n",
        "    return 'S'\r\n",
        "\r\n",
        "def encode(unit_list, text):\r\n",
        "    text = str(text)\r\n",
        "    grammar = ''\r\n",
        "    for key, group in itertools.groupby(text, lambda ch: get_type(ch)):\r\n",
        "        password = list(group)\r\n",
        "        encoded = key + str(len(password))\r\n",
        "        grammar += (encoded + ' ')\r\n",
        "        unit_list.append((encoded, \"\".join(password)))\r\n",
        "\r\n",
        "    return grammar\r\n",
        "\r\n",
        "def produce_prop_table(pcfg_list, pcfg_freq_file, pwd_freq_file):\r\n",
        "    # 生成两个概率表\r\n",
        "    df = pd.DataFrame(pcfg_list)\r\n",
        "    df.columns = ['pcfg', 'password']\r\n",
        "    # 计算每个pcfg出现的概率\r\n",
        "    total_cnt = df.shape[0]  # 总密码数量\r\n",
        "    pcfg_cnt = df.groupby(['pcfg']).size().rename('pcfg_cnt').reset_index()  # 每个pcfg出现的次数\r\n",
        "    pcfg_cnt['pcfg_prop'] = pcfg_cnt['pcfg_cnt'] / total_cnt\r\n",
        "    pcfg_cnt.sort_values('pcfg_prop', ascending=False, inplace=True, ignore_index=True)\r\n",
        "    print(\"每个pcfg出现的概率保存到文件：%s\" % pcfg_freq_file)\r\n",
        "    pcfg_cnt.to_csv(pcfg_freq_file, index=False)\r\n",
        "\r\n",
        "    # 计算pcfg中每个密码出现的概率\r\n",
        "    pwd_cnt_per_pcfg = df.groupby(['pcfg', 'password']).size() \\\r\n",
        "        .rename('pwd_cnt_per_pcfg').reset_index()  # 每个pcfg中每个密码出现的次数\r\n",
        "    pwd_prop = pwd_cnt_per_pcfg.merge(pcfg_cnt, how='left', on='pcfg')\r\n",
        "    pwd_prop.sort_values(['pcfg', 'pwd_cnt_per_pcfg'], ascending=False, inplace=True, ignore_index=True)\r\n",
        "    pwd_prop['pwd_prop'] = pwd_prop['pwd_cnt_per_pcfg'] / pwd_prop['pcfg_cnt']\r\n",
        "    # 补充结束符概率\r\n",
        "    pwd_prop = pwd_prop.append({'pcfg': '<END>', 'password': '\\n', 'pwd_prop': 1.0}, ignore_index=True)\r\n",
        "    pwd_prop.to_csv(pwd_freq_file\r\n",
        "                    , columns=['pcfg', 'password', 'pwd_cnt_per_pcfg', 'pwd_prop']\r\n",
        "                    , index=False)\r\n",
        "    print(\"pcfg中每个密码出现的概率保存到文件：%s\" % pwd_freq_file)"
      ],
      "execution_count": 9,
      "outputs": []
    },
    {
      "cell_type": "code",
      "metadata": {
        "id": "--xsC8WzyTAi"
      },
      "source": [
        "# PCFG编码并生成频率表\r\n",
        "for name in ['myspace', 'phpbb', 'myspace_7', 'phpbb_7']:\r\n",
        "  filename = '/content/raw_data/{}.txt'.format(name)\r\n",
        "  pwd_df = pd.read_csv(filename, header=None, names=['pwd'])  \r\n",
        "  pwd_df['len'] = pwd_df['pwd'].apply(lambda x: len(str(x)))  # 计算密码长度\r\n",
        "  pwd_df = pwd_df[pwd_df['len'] <= 40]  # 忽略异常值\r\n",
        "  pcfg_unit_list = []\r\n",
        "  pwd_df['pcfg'] = pwd_df['pwd'].apply(lambda x: encode(pcfg_unit_list, x))\r\n",
        "\r\n",
        "  # 对编码后的结果进行去重，生成wordlist\r\n",
        "  pcfg_list = pwd_df['pcfg'].drop_duplicates()\r\n",
        "  print(\"去重后的序列个数：%d\" % len(pcfg_list))\r\n",
        "  pcfg_list_file = './pcfg/{}.txt'.format(name)\r\n",
        "  print(\"pcfg编码结果保存到文件：%s\" % pcfg_list_file)\r\n",
        "  pcfg_list.to_csv(pcfg_list_file, index=False)\r\n",
        "\r\n",
        "  produce_prop_table(pcfg_unit_list, './freq/{}_pcfg_freq.txt'.format(name), './freq/{}_pwd_freq.txt'.format(name)) "
      ],
      "execution_count": null,
      "outputs": []
    }
  ]
}