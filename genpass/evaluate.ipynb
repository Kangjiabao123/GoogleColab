{
  "nbformat": 4,
  "nbformat_minor": 0,
  "metadata": {
    "colab": {
      "name": "evaluate.ipynb",
      "provenance": [],
      "collapsed_sections": [],
      "include_colab_link": true
    },
    "kernelspec": {
      "name": "python3",
      "display_name": "Python 3"
    },
    "accelerator": "GPU"
  },
  "cells": [
    {
      "cell_type": "markdown",
      "metadata": {
        "id": "view-in-github",
        "colab_type": "text"
      },
      "source": [
        "<a href=\"https://colab.research.google.com/github/YapingWu/GoogleColab/blob/main/genpass/evaluate.ipynb\" target=\"_parent\"><img src=\"https://colab.research.google.com/assets/colab-badge.svg\" alt=\"Open In Colab\"/></a>"
      ]
    },
    {
      "cell_type": "markdown",
      "metadata": {
        "id": "9PEJDfB3Geo7"
      },
      "source": [
        "# PL模型评估\r\n",
        "1.   上传`myspace`和`phpbb`的`tokenizer`模型（`myspace.pkl`，`phpbb.pkl`）\r\n",
        "2.   分别上传使用80%数据和全部数据训练的`myspace`和`phpbb`的PL模型（`myspace.h5`，`phpbb.h5`，`myspace_part.h5`，`phpbb_part.h5`）\r\n",
        "3. 上传测试数据（`myspace_test.txt`，`phpbb_test.txt`，`rockyou.txt`）\r\n",
        "\r\n",
        "\r\n",
        "\r\n"
      ]
    },
    {
      "cell_type": "code",
      "metadata": {
        "id": "nHdIlDKhOXsJ"
      },
      "source": [
        "from keras.models import load_model\r\n",
        "from keras.preprocessing.sequence import pad_sequences\r\n",
        "import pickle\r\n",
        "import numpy as np\r\n",
        "import pandas as pd\r\n",
        "import math\r\n",
        "import matplotlib.pyplot as plt"
      ],
      "execution_count": 1,
      "outputs": []
    },
    {
      "cell_type": "markdown",
      "metadata": {
        "id": "SUlaiEgq17dE"
      },
      "source": [
        "## 公共方法"
      ]
    },
    {
      "cell_type": "code",
      "metadata": {
        "id": "c_A_LxZdRXPf"
      },
      "source": [
        "max_lengths = {\r\n",
        "    'myspace': 35,\r\n",
        "    'phpbb': 21,\r\n",
        "}"
      ],
      "execution_count": 2,
      "outputs": []
    },
    {
      "cell_type": "code",
      "metadata": {
        "id": "jHwLahdqROFb"
      },
      "source": [
        "def sample(preds, temperature=1.0):\r\n",
        "  index = np.random.choice(np.arange(len(preds)), p=preds)\r\n",
        "  if index == 0:\r\n",
        "    index = 1  # 0是保留索引，预测值为0，则预测错误\r\n",
        "  prop = preds[index]\r\n",
        "  return [index, prop]"
      ],
      "execution_count": 3,
      "outputs": []
    },
    {
      "cell_type": "code",
      "metadata": {
        "id": "zIUJNW-nQxQP"
      },
      "source": [
        "# 获取PL模型预测的下一个unit\r\n",
        "def get_preds(pl_model, seed_text_list):\r\n",
        "  encoded = tokenizer.texts_to_sequences(seed_text_list)  # 对初始文本进行编码\r\n",
        "  encoded = pad_sequences(encoded, maxlen=max_length-1, padding='pre')\r\n",
        "  preds = pl_model.predict(encoded, batch_size=128)\r\n",
        "\r\n",
        "  rst_list = [sample(pred) for pred in preds]\r\n",
        "  result = pd.DataFrame(rst_list, columns=['index', 'prop'])\r\n",
        "  result['unit'] = result['index'].apply(lambda x: tokenizer.index_word[x].upper())\r\n",
        "\r\n",
        "  return result"
      ],
      "execution_count": 4,
      "outputs": []
    },
    {
      "cell_type": "code",
      "metadata": {
        "colab": {
          "base_uri": "https://localhost:8080/"
        },
        "id": "2IMGnNw7Z8Jy",
        "outputId": "d50371a8-ed00-4803-a00c-69cca85c6a45"
      },
      "source": [
        "# 生成密码\r\n",
        "def generating(pl_model, cnt=100):\r\n",
        "    # 使用模型生成密码\r\n",
        "    # print('使用PL模型生成{:,}个wordlist：'.format(cnt))\r\n",
        "    units = [''] * cnt\r\n",
        "    gen_word_list = []\r\n",
        "    while cnt > 0:\r\n",
        "        preds = get_preds(pl_model, units)\r\n",
        "        concat_unit = np.char.add(units, [' '] * cnt)\r\n",
        "        concat_unit = np.char.add(concat_unit, preds['unit'])\r\n",
        "\r\n",
        "        new_units = []\r\n",
        "        for unit in concat_unit:\r\n",
        "            if '<END>' in unit:\r\n",
        "                gen_word_list.append(unit)\r\n",
        "            else:\r\n",
        "                new_units.append(unit)\r\n",
        "\r\n",
        "        # print('{:,}'.format(len(gen_word_list)))\r\n",
        "        units = new_units\r\n",
        "        cnt = len(units)\r\n",
        "\r\n",
        "    gen_word_list = np.char.replace(gen_word_list, '<END>', '')  # 删除末尾的'<END>'\r\n",
        "    gen_word_list = np.char.strip(gen_word_list)  # 去除前后空格\r\n",
        "\r\n",
        "    return gen_word_list\r\n",
        "\r\n",
        "# filename = '{}{}'.format('./', filename)\r\n",
        "# print('生成好的wordlist保存到文件：{}'.format(filename))\r\n",
        "# np.savetxt(filename, gen_word_list, fmt='%s', delimiter='\\n')\r\n",
        "\r\n",
        "# pl_model = load_model('/content/{}_part.h5'.format('myspace'))\r\n",
        "# gen_word = generating(pl_model, cnt=1000)\r\n",
        "# print(gen_word.shape)\r\n",
        "# print(gen_word[:5])"
      ],
      "execution_count": 9,
      "outputs": [
        {
          "output_type": "stream",
          "text": [
            "(1000,)\n",
            "['' '' 'L29' 'L16' 'L12']\n"
          ],
          "name": "stdout"
        }
      ]
    },
    {
      "cell_type": "code",
      "metadata": {
        "id": "uQN9Hw00Ygzd"
      },
      "source": [
        "# 计算匹配率\r\n",
        "def calc_matching_rate(arr1, arr2):\r\n",
        "    newarr = np.intersect1d(arr1, arr2, assume_unique=True)\r\n",
        "    return len(newarr) / float(len(arr2))\r\n",
        "\r\n",
        "# arr1 = np.array([1, 2, 3, 4])\r\n",
        "# arr2 = np.array([3, 4, 5, 6])\r\n",
        "# mr = calc_matching_rate(arr1, arr2)\r\n",
        "# print(mr)"
      ],
      "execution_count": 6,
      "outputs": []
    },
    {
      "cell_type": "code",
      "metadata": {
        "colab": {
          "base_uri": "https://localhost:8080/",
          "height": 35
        },
        "id": "zJjrw-Dw_cE_",
        "outputId": "761632f5-6a10-481f-d183-eae7a337478c"
      },
      "source": [
        "def get_cur_time():\r\n",
        "  curtime = datetime.now() + timedelta(hours=8)\r\n",
        "  return curtime.strftime(\"%Y-%m-%d %H:%M:%S\")\r\n",
        "\r\n",
        "# get_cur_time()"
      ],
      "execution_count": 22,
      "outputs": [
        {
          "output_type": "execute_result",
          "data": {
            "application/vnd.google.colaboratory.intrinsic+json": {
              "type": "string"
            },
            "text/plain": [
              "'2021-03-06 09:12:07'"
            ]
          },
          "metadata": {
            "tags": []
          },
          "execution_count": 22
        }
      ]
    },
    {
      "cell_type": "markdown",
      "metadata": {
        "id": "3S4cF_JzGrEs"
      },
      "source": [
        "## one-site test\r\n",
        "1. PL模型：`myspace_part.h5`，测试数据集：`myspace_test.txt`\r\n",
        "2. PL模型：`phpbb_part.h5`，测试数据集：`phpbb_test.txt`"
      ]
    },
    {
      "cell_type": "markdown",
      "metadata": {
        "id": "mKC0_nvcsMVC"
      },
      "source": [
        "### 加载测试数据集"
      ]
    },
    {
      "cell_type": "code",
      "metadata": {
        "colab": {
          "base_uri": "https://localhost:8080/"
        },
        "id": "hNxVeZ58c4ol",
        "outputId": "00f69835-0f3e-4357-ba2b-b083dbeb1065"
      },
      "source": [
        "myspace_test = np.loadtxt('/content/myspace_test.txt', dtype=str, delimiter = '\\n', skiprows=1)\r\n",
        "myspace_test = np.char.strip(myspace_test)\r\n",
        "print(myspace_test.shape)\r\n",
        "print(myspace_test[:5])\r\n",
        "\r\n",
        "phpbb_test = np.loadtxt('/content/phpbb_test.txt', dtype=str, delimiter = '\\n', skiprows=1)\r\n",
        "phpbb_test = np.char.strip(phpbb_test)\r\n",
        "print(phpbb_test.shape)\r\n",
        "print(phpbb_test[:5])\r\n",
        "\r\n",
        "test_data = {\r\n",
        "    'myspace': myspace_test,\r\n",
        "     'phpbb': phpbb_test\r\n",
        "}"
      ],
      "execution_count": 7,
      "outputs": [
        {
          "output_type": "stream",
          "text": [
            "(344,)\n",
            "['L2 S1 L7 D2' 'L2 S1 L3 S1 L8' 'L4 S1 L1 S1 L6 S1 L8 S1 L3 S1 L6 S1 L4'\n",
            " 'S1 L9 D1 S1' 'L4 D2 L3 D1']\n",
            "(583,)\n",
            "['L1 S1 L3 D1 L2 D1' 'L3 D9' 'L5 S1 L14 S1 L2' 'D1 L5 D1 L2' 'L3 D1 S1']\n"
          ],
          "name": "stdout"
        }
      ]
    },
    {
      "cell_type": "markdown",
      "metadata": {
        "id": "y-D58HDasRKh"
      },
      "source": [
        "### 生成密码"
      ]
    },
    {
      "cell_type": "code",
      "metadata": {
        "colab": {
          "base_uri": "https://localhost:8080/"
        },
        "id": "jyZsL_70sVeD",
        "outputId": "5ba7ee65-11c8-4dd2-9d2d-6bbc488f9b3d"
      },
      "source": [
        "# 使用 myspace_part 模型生成密码\r\n",
        "data_name = 'myspace'\r\n",
        "with open('/content/{}.pkl'.format(data_name), 'rb') as file:\r\n",
        "    tokenizer = pickle.load(file)\r\n",
        "max_length = max_lengths[data_name]\r\n",
        "print(tokenizer.index_word)\r\n",
        "\r\n",
        "pl_model = load_model('/content/{}_part.h5'.format(data_name))  # 使用部分数据训练的模型\r\n",
        "\r\n",
        "for alpha in [3, 4, 5, 6]:\r\n",
        "  print('{}：使用PL模型生成 1e{} 个wordlist：'.format(get_cur_time(), alpha))\r\n",
        "  cnt = int(math.pow(10, alpha))  # 需要生成的密码数量\r\n",
        "  loop_times = int(cnt / 1000)\r\n",
        "  gen_word = []\r\n",
        "  for _ in range(loop_times):\r\n",
        "    gen_word.extend(generating(pl_model, cnt=1000))\r\n",
        "  \r\n",
        "  filename = './{}_{}_part.txt'.format(data_name, alpha)\r\n",
        "  print('{}：生成好的wordlist保存到文件：{}'.format(get_cur_time(), filename))\r\n",
        "  np.savetxt(filename, gen_word, fmt='%s', delimiter='\\n')\r\n"
      ],
      "execution_count": 10,
      "outputs": [
        {
          "output_type": "stream",
          "text": [
            "{1: '<END>', 2: 's1', 3: 'd1', 4: 'l1', 5: 'l2', 6: 'l4', 7: 'l3', 8: 'd2', 9: 'd3', 10: 'l5', 11: 'l6', 12: 'l7', 13: 'd4', 14: 'l8', 15: 's2', 16: 'l9', 17: 'd6', 18: 'd5', 19: 's3', 20: 'l10', 21: 'd7', 22: 'l11', 23: 'l12', 24: 'l13', 25: 'd8', 26: 'd9', 27: 's5', 28: 's4', 29: 'd10', 30: 'l14', 31: 's6', 32: 'l15', 33: 'l16', 34: 'l18', 35: 'l20', 36: 'l17', 37: 'l21', 38: 'l26', 39: 'l23', 40: 'l19', 41: 'l27', 42: 'l31', 43: 'l22', 44: 'd12', 45: 'd11', 46: 'l36', 47: 'l28', 48: 'l32', 49: 'l30', 50: 'l34', 51: 'l33', 52: 'l24', 53: 'l40', 54: 'l45', 55: 'l56', 56: 's9', 57: 'l25', 58: 'd35', 59: 'd13', 60: 'l29', 61: 'l44', 62: 'l35', 63: 'l48', 64: 'l6341', 65: 's8', 66: 'd14', 67: 'd15', 68: 's44', 69: 's10', 70: 's11', 71: 's12', 72: 's5296'}\n",
            "使用PL模型生成1,000个wordlist：\n",
            "生成好的wordlist保存到文件：./myspace_3_part.txt\n",
            "使用PL模型生成10,000个wordlist：\n",
            "生成好的wordlist保存到文件：./myspace_4_part.txt\n",
            "使用PL模型生成100,000个wordlist：\n",
            "生成好的wordlist保存到文件：./myspace_5_part.txt\n",
            "使用PL模型生成1,000,000个wordlist：\n",
            "生成好的wordlist保存到文件：./myspace_6_part.txt\n"
          ],
          "name": "stdout"
        }
      ]
    },
    {
      "cell_type": "code",
      "metadata": {
        "colab": {
          "base_uri": "https://localhost:8080/"
        },
        "id": "CWeWVOI8siBR",
        "outputId": "36594f19-c56a-46af-9328-d123595335d4"
      },
      "source": [
        "# phpbb\r\n",
        "data_name = 'phpbb'\r\n",
        "with open('/content/{}.pkl'.format(data_name), 'rb') as file:\r\n",
        "    tokenizer = pickle.load(file)\r\n",
        "max_length = max_lengths[data_name]\r\n",
        "# print(tokenizer.index_word)\r\n",
        "\r\n",
        "pl_model = load_model('/content/{}_part.h5'.format(data_name))  # 使用部分数据训练的模型\r\n",
        "for alpha in [3, 4, 5, 6]:\r\n",
        "  print('{}：使用PL模型生成 1e{} 个wordlist：'.format(get_cur_time(), alpha))\r\n",
        "  cnt = int(math.pow(10, alpha))  # 需要生成的密码数量\r\n",
        "\r\n",
        "  loop_times = int(cnt / 1000)\r\n",
        "  gen_word = []\r\n",
        "  for _ in range(loop_times):\r\n",
        "    gen_word.extend(generating(pl_model, cnt=1000))\r\n",
        "  \r\n",
        "  filename = './{}_{}_part.txt'.format(data_name, alpha)\r\n",
        "  print('{}：生成好的wordlist保存到文件：{}'.format(get_cur_time(), filename))\r\n",
        "  np.savetxt(filename, gen_word, fmt='%s', delimiter='\\n')"
      ],
      "execution_count": 23,
      "outputs": [
        {
          "output_type": "stream",
          "text": [
            "2021-03-06 09:13:39：使用PL模型生成 1e3个wordlist：\n",
            "2021-03-06 09:13:42：生成好的wordlist保存到文件：./phpbb_3_part.txt\n",
            "2021-03-06 09:13:42：使用PL模型生成 1e4个wordlist：\n",
            "2021-03-06 09:13:50：生成好的wordlist保存到文件：./phpbb_4_part.txt\n",
            "2021-03-06 09:13:50：使用PL模型生成 1e5个wordlist：\n",
            "2021-03-06 09:15:13：生成好的wordlist保存到文件：./phpbb_5_part.txt\n",
            "2021-03-06 09:15:13：使用PL模型生成 1e6个wordlist：\n",
            "2021-03-06 09:28:45：生成好的wordlist保存到文件：./phpbb_6_part.txt\n"
          ],
          "name": "stdout"
        }
      ]
    },
    {
      "cell_type": "markdown",
      "metadata": {
        "id": "UrU0lrafsuHz"
      },
      "source": [
        "### 计算匹配率"
      ]
    },
    {
      "cell_type": "code",
      "metadata": {
        "colab": {
          "base_uri": "https://localhost:8080/"
        },
        "id": "Z4jmU7OUsuau",
        "outputId": "2f285b3c-2a6d-4ffd-bc1c-4f82accec763"
      },
      "source": [
        "x = [3, 4, 5, 6]\r\n",
        "y = {\r\n",
        "    'myspace': [],\r\n",
        "     'phpbb': []\r\n",
        "}\r\n",
        "\r\n",
        "for data_name in ['myspace', 'phpbb']:\r\n",
        "  for alpha in x:\r\n",
        "    gen_psw_file = '/content/{}_{}_part.txt'.format(data_name, alpha)\r\n",
        "    gen_psw = np.loadtxt(gen_psw_file, dtype=str, delimiter = '\\n')\r\n",
        "    gen_psw = np.unique(gen_psw)  # 去重\r\n",
        "\r\n",
        "    mr = calc_matching_rate(gen_psw, test_data[data_name])\r\n",
        "    print('data_name：{}, alpha：{}, unique value：{}, mr：{:.2f}%'.format(data_name, alpha, gen_psw.shape[0], mr*100))\r\n",
        "    y[data_name].append(mr * 100)"
      ],
      "execution_count": 46,
      "outputs": [
        {
          "output_type": "stream",
          "text": [
            "data_name：myspace, alpha：3, unique value：844, mr：15.99%\n",
            "data_name：myspace, alpha：4, unique value：5197, mr：52.03%\n",
            "data_name：myspace, alpha：5, unique value：24165, mr：77.33%\n",
            "data_name：myspace, alpha：6, unique value：111645, mr：85.17%\n",
            "data_name：phpbb, alpha：3, unique value：911, mr：12.18%\n",
            "data_name：phpbb, alpha：4, unique value：6301, mr：54.89%\n",
            "data_name：phpbb, alpha：5, unique value：28015, mr：85.76%\n",
            "data_name：phpbb, alpha：6, unique value：111006, mr：95.71%\n"
          ],
          "name": "stdout"
        }
      ]
    },
    {
      "cell_type": "code",
      "metadata": {
        "colab": {
          "base_uri": "https://localhost:8080/",
          "height": 299
        },
        "id": "H354k38wOHRl",
        "outputId": "a01027ff-a19c-4478-8a0a-6849d96da31a"
      },
      "source": [
        "# 画图\r\n",
        "plt.title('One-Site test')\r\n",
        "plt.plot(x, y['myspace'], 'bo-', label='Myspace')\r\n",
        "plt.plot(x, y['phpbb'], 'g^-', label='phpBB')\r\n",
        "plt.xlim((3, 7))  # 设置x轴范围\r\n",
        "plt.ylim((0, 100))\r\n",
        "plt.legend()  # 显示图例\r\n",
        "\r\n",
        "plt.xticks(np.linspace(3, 7, 5))  # 设置x轴刻度\r\n",
        "\r\n",
        "\r\n",
        "plt.xlabel(r'Password Genarated $\\alpha(10^{\\alpha})$')  # 设置x轴描述信息\r\n",
        "plt.ylabel(\"Password Guessed(%)\")\r\n",
        "\r\n",
        "plt.grid()  # 显示网格\r\n",
        "\r\n",
        "plt.show()\r\n",
        "plt.close()"
      ],
      "execution_count": 47,
      "outputs": [
        {
          "output_type": "display_data",
          "data": {
            "image/png": "[encoded data removed]",
            "text/plain": [
              "<Figure size 432x288 with 1 Axes>"
            ]
          },
          "metadata": {
            "tags": [],
            "needs_background": "light"
          }
        }
      ]
    },
    {
      "cell_type": "markdown",
      "metadata": {
        "id": "GWOhU-0UGt-G"
      },
      "source": [
        "## cross-site test"
      ]
    },
    {
      "cell_type": "markdown",
      "metadata": {
        "id": "RbqY0e6Cop3F"
      },
      "source": [
        "### 加载测试数据集"
      ]
    },
    {
      "cell_type": "code",
      "metadata": {
        "colab": {
          "base_uri": "https://localhost:8080/"
        },
        "id": "yxS6u6Z9eEgx",
        "outputId": "ae249756-c356-4071-96f7-b60dafcd7cb0"
      },
      "source": [
        "rockyou = np.loadtxt('/content/rockyou.txt', dtype=str, delimiter = '\\n', skiprows=1)\r\n",
        "rockyou = np.char.strip(rockyou)\r\n",
        "print(rockyou.shape)\r\n",
        "print(rockyou[:5])"
      ],
      "execution_count": 38,
      "outputs": [
        {
          "output_type": "stream",
          "text": [
            "(76911,)\n",
            "['D6' 'D5' 'D9' 'L8' 'D7']\n"
          ],
          "name": "stdout"
        }
      ]
    },
    {
      "cell_type": "markdown",
      "metadata": {
        "id": "INVD85b_o53z"
      },
      "source": [
        "### 生成密码\r\n",
        "分别使用phpbb和myspace全部数据训练的PL模型生成密码"
      ]
    },
    {
      "cell_type": "code",
      "metadata": {
        "id": "Q5NNiX8CrhcT"
      },
      "source": [
        "# 使用myspace全部数据训练的PL模型生成密码\r\n",
        "data_name = 'myspace'\r\n",
        "with open('/content/{}.pkl'.format(data_name), 'rb') as file:\r\n",
        "    tokenizer = pickle.load(file)\r\n",
        "max_length = max_lengths[data_name]\r\n",
        "\r\n",
        "pl_model = load_model('/content/{}.h5'.format(data_name))  # 使用部分数据训练的模型\r\n",
        "for alpha in [3, 4, 5, 6]:\r\n",
        "  print('{}：使用PL模型生成 1e{} 个wordlist：'.format(get_cur_time(), alpha))\r\n",
        "  cnt = int(math.pow(10, alpha))  # 需要生成的密码数量\r\n",
        "  loop_times = int(cnt / 1000)\r\n",
        "  gen_word = []\r\n",
        "  for _ in range(loop_times):\r\n",
        "    gen_word.extend(generating(pl_model, cnt=1000))\r\n",
        "  \r\n",
        "  filename = './{}{}.txt'.format(data_name, alpha)\r\n",
        "  print('{}：生成好的wordlist保存到文件：{}'.format(get_cur_time(), filename))\r\n",
        "  np.savetxt(filename, gen_word, fmt='%s', delimiter='\\n')"
      ],
      "execution_count": null,
      "outputs": []
    },
    {
      "cell_type": "code",
      "metadata": {
        "colab": {
          "base_uri": "https://localhost:8080/"
        },
        "id": "RJBkKsdGcOep",
        "outputId": "a083ee69-a8fe-4eb1-d1d3-d1d3da2e68d2"
      },
      "source": [
        "# 使用phpbb全部数据训练的PL模型生成密码\r\n",
        "data_name = 'phpbb'\r\n",
        "with open('/content/{}.pkl'.format(data_name), 'rb') as file:\r\n",
        "    tokenizer = pickle.load(file)\r\n",
        "max_length = max_lengths[data_name]\r\n",
        "\r\n",
        "pl_model = load_model('/content/{}.h5'.format(data_name))  # 使用部分数据训练的模型\r\n",
        "for alpha in [3, 4, 5, 6]:\r\n",
        "  print('{}：使用PL模型生成 1e{} 个wordlist：'.format(get_cur_time(), alpha))\r\n",
        "  cnt = int(math.pow(10, alpha))  # 需要生成的密码数量\r\n",
        "  loop_times = int(cnt / 1000)\r\n",
        "  gen_word = []\r\n",
        "  for _ in range(loop_times):\r\n",
        "    gen_word.extend(generating(pl_model, cnt=1000))\r\n",
        "  \r\n",
        "  filename = './{}{}.txt'.format(data_name, alpha)\r\n",
        "  print('{}：生成好的wordlist保存到文件：{}'.format(get_cur_time(), filename))\r\n",
        "  np.savetxt(filename, gen_word, fmt='%s', delimiter='\\n')"
      ],
      "execution_count": 40,
      "outputs": [
        {
          "output_type": "stream",
          "text": [
            "2021-03-06 10:17:38：使用PL模型生成 1e3 个wordlist：\n",
            "2021-03-06 10:17:41：生成好的wordlist保存到文件：./phpbb3.txt\n",
            "2021-03-06 10:17:41：使用PL模型生成 1e4 个wordlist：\n",
            "2021-03-06 10:18:03：生成好的wordlist保存到文件：./phpbb4.txt\n",
            "2021-03-06 10:18:03：使用PL模型生成 1e5 个wordlist：\n",
            "2021-03-06 10:21:57：生成好的wordlist保存到文件：./phpbb5.txt\n",
            "2021-03-06 10:21:57：使用PL模型生成 1e6 个wordlist：\n",
            "2021-03-06 11:02:50：生成好的wordlist保存到文件：./phpbb6.txt\n"
          ],
          "name": "stdout"
        }
      ]
    },
    {
      "cell_type": "markdown",
      "metadata": {
        "id": "UgXdicMNpHLr"
      },
      "source": [
        "### 计算匹配率"
      ]
    },
    {
      "cell_type": "code",
      "metadata": {
        "colab": {
          "base_uri": "https://localhost:8080/"
        },
        "id": "d9-Azp8XYpgH",
        "outputId": "4cee3fd3-d9fc-48c9-cffe-a1c023a448b0"
      },
      "source": [
        "x = [3, 4, 5, 6]\r\n",
        "y = {\r\n",
        "    'myspace': [],\r\n",
        "     'phpbb': []\r\n",
        "}\r\n",
        "\r\n",
        "for data_name in ['myspace', 'phpbb']:\r\n",
        "  for alpha in x:\r\n",
        "    gen_psw_file = '/content/{}{}.txt'.format(data_name, alpha)\r\n",
        "    gen_psw = np.loadtxt(gen_psw_file, dtype=str, delimiter = '\\n')\r\n",
        "    gen_psw = np.unique(gen_psw)  # 去重\r\n",
        "\r\n",
        "    mr = calc_matching_rate(gen_psw, rockyou)\r\n",
        "    print('data_name：{}, alpha：{}, unique value：{}, mr：{:.2f}%'.format(data_name, alpha, gen_psw.shape[0], mr * 100))\r\n",
        "    y[data_name].append(mr * 100)"
      ],
      "execution_count": 45,
      "outputs": [
        {
          "output_type": "stream",
          "text": [
            "data_name：myspace, alpha：3, unique value：876, mr：0.95%\n",
            "data_name：myspace, alpha：4, unique value：5231, mr：5.02%\n",
            "data_name：myspace, alpha：5, unique value：24052, mr：15.86%\n",
            "data_name：myspace, alpha：6, unique value：108111, mr：34.26%\n",
            "data_name：phpbb, alpha：3, unique value：936, mr：1.03%\n",
            "data_name：phpbb, alpha：4, unique value：6121, mr：6.31%\n",
            "data_name：phpbb, alpha：5, unique value：25591, mr：19.26%\n",
            "data_name：phpbb, alpha：6, unique value：98112, mr：37.13%\n"
          ],
          "name": "stdout"
        }
      ]
    },
    {
      "cell_type": "code",
      "metadata": {
        "colab": {
          "base_uri": "https://localhost:8080/",
          "height": 299
        },
        "id": "BDZTz-AVPPXa",
        "outputId": "d63a0621-99b3-4c5f-b523-bd73c79e54c2"
      },
      "source": [
        "# 画图\r\n",
        "plt.title('Cross-Site test')\r\n",
        "plt.plot(x, y['myspace'], 'bo-', label='Myspace-RockYou')\r\n",
        "plt.plot(x, y['phpbb'], 'g^-', label='phpBB-RockYou')\r\n",
        "plt.legend()  # 显示图例\r\n",
        "\r\n",
        "plt.xlim((3, 7))  # 设置x轴范围\r\n",
        "plt.ylim((0, 100))\r\n",
        "\r\n",
        "plt.xticks(np.linspace(3, 7, 5))  # 设置x轴刻度\r\n",
        "\r\n",
        "plt.xlabel(r'Password Genarated $\\alpha(10^{\\alpha})$')  # 设置x轴描述信息\r\n",
        "plt.ylabel(\"Password Guessed(%)\")\r\n",
        "\r\n",
        "plt.grid()  # 显示网格\r\n",
        "\r\n",
        "plt.show()\r\n",
        "plt.close()"
      ],
      "execution_count": 43,
      "outputs": [
        {
          "output_type": "display_data",
          "data": {
            "image/png": "[encoded data removed]",
            "text/plain": [
              "<Figure size 432x288 with 1 Axes>"
            ]
          },
          "metadata": {
            "tags": [],
            "needs_background": "light"
          }
        }
      ]
    },
    {
      "cell_type": "markdown",
      "metadata": {
        "id": "HciWHeC0GxWU"
      },
      "source": [
        "# GenPass模型评估"
      ]
    },
    {
      "cell_type": "markdown",
      "metadata": {
        "id": "6itpFODLI1Mj"
      },
      "source": [
        "# 其他命令"
      ]
    },
    {
      "cell_type": "markdown",
      "metadata": {
        "id": "CJVm9xFZI4Wz"
      },
      "source": [
        "## 解压文件"
      ]
    },
    {
      "cell_type": "code",
      "metadata": {
        "id": "Al0l6kSpI3fC",
        "colab": {
          "base_uri": "https://localhost:8080/"
        },
        "outputId": "25f20647-3e96-4f10-b81e-14e0905c75e3"
      },
      "source": [
        "!unzip '/content/lstm_1.zip'\r\n",
        "!unzip '/content/tokenizer.zip'"
      ],
      "execution_count": 7,
      "outputs": [
        {
          "output_type": "stream",
          "text": [
            "Archive:  /content/lstm_1.zip\n",
            "  inflating: phpbb.h5                \n",
            "  inflating: phpbb_part.h5           \n",
            "  inflating: myspace.h5              \n",
            "  inflating: myspace_part.h5         \n",
            "Archive:  /content/tokenizer.zip\n",
            "  inflating: phpbb.pkl               \n",
            "  inflating: rockyou.pkl             \n",
            "  inflating: myspace.pkl             \n"
          ],
          "name": "stdout"
        }
      ]
    },
    {
      "cell_type": "code",
      "metadata": {
        "colab": {
          "base_uri": "https://localhost:8080/"
        },
        "id": "IeTW1ixzciXb",
        "outputId": "e8cc48fc-ee21-46e6-c7fe-a9b1d20df3e0"
      },
      "source": [
        "!unzip '/content/rockyou.zip'"
      ],
      "execution_count": 9,
      "outputs": [
        {
          "output_type": "stream",
          "text": [
            "Archive:  /content/rockyou.zip\n",
            "  inflating: rockyou.txt             \n"
          ],
          "name": "stdout"
        }
      ]
    }
  ]
}