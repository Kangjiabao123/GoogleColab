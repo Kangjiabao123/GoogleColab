{
  "nbformat": 4,
  "nbformat_minor": 0,
  "metadata": {
    "colab": {
      "name": "evaluate.ipynb",
      "provenance": [],
      "collapsed_sections": [],
      "include_colab_link": true
    },
    "kernelspec": {
      "name": "python3",
      "display_name": "Python 3"
    },
    "accelerator": "GPU"
  },
  "cells": [
    {
      "cell_type": "markdown",
      "metadata": {
        "id": "view-in-github",
        "colab_type": "text"
      },
      "source": [
        "<a href=\"https://colab.research.google.com/github/YapingWu/GoogleColab/blob/main/genpass/evaluate.ipynb\" target=\"_parent\"><img src=\"https://colab.research.google.com/assets/colab-badge.svg\" alt=\"Open In Colab\"/></a>"
      ]
    },
    {
      "cell_type": "markdown",
      "metadata": {
        "id": "tf6Fs_U9bt2h"
      },
      "source": [
        "说明：\r\n",
        "\r\n",
        "1.   上传tokenizer和lstm模型\r\n",
        "\r\n"
      ]
    },
    {
      "cell_type": "code",
      "metadata": {
        "id": "nHdIlDKhOXsJ"
      },
      "source": [
        "from keras.models import load_model\r\n",
        "from keras.preprocessing.sequence import pad_sequences\r\n",
        "import pickle\r\n",
        "import numpy as np\r\n",
        "import pandas as pd\r\n",
        "import math\r\n",
        "import matplotlib.pyplot as plt"
      ],
      "execution_count": 1,
      "outputs": []
    },
    {
      "cell_type": "markdown",
      "metadata": {
        "id": "9PEJDfB3Geo7"
      },
      "source": [
        "# PL模型评估"
      ]
    },
    {
      "cell_type": "code",
      "metadata": {
        "id": "c_A_LxZdRXPf"
      },
      "source": [
        "max_lengths = {\r\n",
        "    'myspace': 35,\r\n",
        "    'phpbb': 21,\r\n",
        "}"
      ],
      "execution_count": 2,
      "outputs": []
    },
    {
      "cell_type": "code",
      "metadata": {
        "id": "jHwLahdqROFb"
      },
      "source": [
        "def sample(preds, temperature=1.0):\r\n",
        "  index = np.random.choice(np.arange(len(preds)), p=preds)\r\n",
        "  if index == 0:\r\n",
        "    index = 1  # 0是保留索引，预测值为0，则预测错误\r\n",
        "  prop = preds[index]\r\n",
        "  return [index, prop]"
      ],
      "execution_count": 3,
      "outputs": []
    },
    {
      "cell_type": "code",
      "metadata": {
        "id": "zIUJNW-nQxQP"
      },
      "source": [
        "def get_preds(pl_model, seed_text_list):\r\n",
        "  encoded = tokenizer.texts_to_sequences(seed_text_list)  # 对初始文本进行编码\r\n",
        "  encoded = pad_sequences(encoded, maxlen=max_length-1, padding='pre')\r\n",
        "  preds = pl_model.predict(encoded, batch_size=128)\r\n",
        "\r\n",
        "  rst_list = [sample(pred) for pred in preds]\r\n",
        "  result = pd.DataFrame(rst_list, columns=['index', 'prop'])\r\n",
        "  result['unit'] = result['index'].apply(lambda x: tokenizer.index_word[x].upper())\r\n",
        "\r\n",
        "  return result"
      ],
      "execution_count": 4,
      "outputs": []
    },
    {
      "cell_type": "code",
      "metadata": {
        "id": "2IMGnNw7Z8Jy"
      },
      "source": [
        "def generating(pl_model, filename, cnt=100):\r\n",
        "    # 使用模型生成密码\r\n",
        "    print('使用PL模型生成{:,}个wordlist：'.format(cnt))\r\n",
        "    units = [''] * cnt\r\n",
        "    gen_word_list = []\r\n",
        "    while cnt > 0:\r\n",
        "        preds = get_preds(pl_model, units)\r\n",
        "        concat_unit = np.char.add(units, [' '] * cnt)\r\n",
        "        concat_unit = np.char.add(concat_unit, preds['unit'])\r\n",
        "\r\n",
        "        new_units = []\r\n",
        "        for unit in concat_unit:\r\n",
        "            if '<END>' in unit:\r\n",
        "                gen_word_list.append(unit)\r\n",
        "            else:\r\n",
        "                new_units.append(unit)\r\n",
        "\r\n",
        "        # print('{:,}'.format(len(gen_word_list)))\r\n",
        "        units = new_units\r\n",
        "        cnt = len(units)\r\n",
        "\r\n",
        "    gen_word_list = np.char.replace(gen_word_list, '<END>', '')  # 删除末尾的'<END>'\r\n",
        "    gen_word_list = np.char.strip(gen_word_list)  # 去除前后空格\r\n",
        "\r\n",
        "    filename = '{}{}'.format('./', filename)\r\n",
        "    print('生成好的wordlist保存到文件：{}'.format(filename))\r\n",
        "    np.savetxt(filename, gen_word_list, fmt='%s', delimiter='\\n')"
      ],
      "execution_count": 5,
      "outputs": []
    },
    {
      "cell_type": "code",
      "metadata": {
        "id": "uQN9Hw00Ygzd"
      },
      "source": [
        "# 计算匹配率\r\n",
        "def calc_matching_rate(arr1, arr2):\r\n",
        "    newarr = np.intersect1d(arr1, arr2, assume_unique=True)\r\n",
        "    return len(newarr) / float(len(arr2))\r\n",
        "\r\n",
        "# arr1 = np.array([1, 2, 3, 4])\r\n",
        "# arr2 = np.array([3, 4, 5, 6])\r\n",
        "# mr = calc_matching_rate(arr1, arr2)\r\n",
        "# print(mr)"
      ],
      "execution_count": 6,
      "outputs": []
    },
    {
      "cell_type": "markdown",
      "metadata": {
        "id": "3S4cF_JzGrEs"
      },
      "source": [
        "## one-site test"
      ]
    },
    {
      "cell_type": "markdown",
      "metadata": {
        "id": "mKC0_nvcsMVC"
      },
      "source": [
        "### 加载测试数据集"
      ]
    },
    {
      "cell_type": "code",
      "metadata": {
        "colab": {
          "base_uri": "https://localhost:8080/"
        },
        "id": "hNxVeZ58c4ol",
        "outputId": "fa71fae3-9ecd-43a4-f599-2180cf17f43a"
      },
      "source": [
        "myspace_test = np.loadtxt('/content/myspace_test.txt', dtype=str, delimiter = '\\n', skiprows=1)\r\n",
        "myspace_test = np.char.strip(myspace_test)\r\n",
        "print(myspace_test.shape)\r\n",
        "print(myspace_test[:5])\r\n",
        "\r\n",
        "phpbb_test = np.loadtxt('/content/phpbb_test.txt', dtype=str, delimiter = '\\n', skiprows=1)\r\n",
        "phpbb_test = np.char.strip(phpbb_test)\r\n",
        "print(phpbb_test.shape)\r\n",
        "print(phpbb_test[:5])\r\n",
        "\r\n",
        "test_data = {\r\n",
        "    'myspace': myspace_test,\r\n",
        "     'phpbb': phpbb_test\r\n",
        "}"
      ],
      "execution_count": 16,
      "outputs": [
        {
          "output_type": "stream",
          "text": [
            "(344,)\n",
            "['L2 S1 L7 D2' 'L2 S1 L3 S1 L8' 'L4 S1 L1 S1 L6 S1 L8 S1 L3 S1 L6 S1 L4'\n",
            " 'S1 L9 D1 S1' 'L4 D2 L3 D1']\n",
            "(583,)\n",
            "['L1 S1 L3 D1 L2 D1' 'L3 D9' 'L5 S1 L14 S1 L2' 'D1 L5 D1 L2' 'L3 D1 S1']\n"
          ],
          "name": "stdout"
        }
      ]
    },
    {
      "cell_type": "markdown",
      "metadata": {
        "id": "y-D58HDasRKh"
      },
      "source": [
        "### 生成密码"
      ]
    },
    {
      "cell_type": "code",
      "metadata": {
        "id": "oeTEbeusexpn"
      },
      "source": [
        "# 测试\r\n",
        "# pl_model = load_model('/content/{}.h5'.format(data_name))\r\n",
        "# units = [''] * 100\r\n",
        "# preds = get_preds(pl_model, units)\r\n",
        "# print(preds.head(5))\r\n",
        "\r\n",
        "# encoded = tokenizer.texts_to_sequences(units)  # 对初始文本进行编码\r\n",
        "# encoded = pad_sequences(encoded, maxlen=max_length-1, padding='pre')\r\n",
        "# preds = pl_model.predict(encoded, batch_size=128)\r\n",
        "# print(preds.shape)"
      ],
      "execution_count": 7,
      "outputs": []
    },
    {
      "cell_type": "code",
      "metadata": {
        "colab": {
          "base_uri": "https://localhost:8080/"
        },
        "id": "jyZsL_70sVeD",
        "outputId": "596c0470-3c92-4770-d678-39f535e1599b"
      },
      "source": [
        "# myspace\r\n",
        "data_name = 'myspace'\r\n",
        "with open('/content/{}.pkl'.format(data_name), 'rb') as file:\r\n",
        "    tokenizer = pickle.load(file)\r\n",
        "max_length = max_lengths[data_name]\r\n",
        "print(tokenizer.index_word)\r\n",
        "\r\n",
        "pl_model = load_model('/content/{}_part.h5'.format(data_name))  # 使用部分数据训练的模型\r\n",
        "for alpha in [3, 4, 5, 6]:\r\n",
        "    generating(pl_model, '{}_{}_part.txt'.format(data_name, alpha), cnt=int(math.pow(10, alpha)))"
      ],
      "execution_count": 13,
      "outputs": [
        {
          "output_type": "stream",
          "text": [
            "{1: '<END>', 2: 's1', 3: 'd1', 4: 'l1', 5: 'l2', 6: 'l4', 7: 'l3', 8: 'd2', 9: 'd3', 10: 'l5', 11: 'l6', 12: 'l7', 13: 'd4', 14: 'l8', 15: 's2', 16: 'l9', 17: 'd6', 18: 'd5', 19: 's3', 20: 'l10', 21: 'd7', 22: 'l11', 23: 'l12', 24: 'l13', 25: 'd8', 26: 'd9', 27: 's5', 28: 's4', 29: 'd10', 30: 'l14', 31: 's6', 32: 'l15', 33: 'l16', 34: 'l18', 35: 'l20', 36: 'l17', 37: 'l21', 38: 'l26', 39: 'l23', 40: 'l19', 41: 'l27', 42: 'l31', 43: 'l22', 44: 'd12', 45: 'd11', 46: 'l36', 47: 'l28', 48: 'l32', 49: 'l30', 50: 'l34', 51: 'l33', 52: 'l24', 53: 'l40', 54: 'l45', 55: 'l56', 56: 's9', 57: 'l25', 58: 'd35', 59: 'd13', 60: 'l29', 61: 'l44', 62: 'l35', 63: 'l48', 64: 'l6341', 65: 's8', 66: 'd14', 67: 'd15', 68: 's44', 69: 's10', 70: 's11', 71: 's12', 72: 's5296'}\n",
            "使用PL模型生成1,000个wordlist：\n",
            "生成好的wordlist保存到文件：./myspace_3_part.txt\n",
            "使用PL模型生成10,000个wordlist：\n",
            "生成好的wordlist保存到文件：./myspace_4_part.txt\n",
            "使用PL模型生成100,000个wordlist：\n",
            "生成好的wordlist保存到文件：./myspace_5_part.txt\n",
            "使用PL模型生成1,000,000个wordlist：\n",
            "生成好的wordlist保存到文件：./myspace_6_part.txt\n"
          ],
          "name": "stdout"
        }
      ]
    },
    {
      "cell_type": "code",
      "metadata": {
        "colab": {
          "base_uri": "https://localhost:8080/"
        },
        "id": "CWeWVOI8siBR",
        "outputId": "6582552e-4111-489a-b018-797fb8966cb1"
      },
      "source": [
        "# phpbb\r\n",
        "data_name = 'phpbb'\r\n",
        "with open('/content/{}.pkl'.format(data_name), 'rb') as file:\r\n",
        "    tokenizer = pickle.load(file)\r\n",
        "max_length = max_lengths[data_name]\r\n",
        "print(tokenizer.index_word)\r\n",
        "\r\n",
        "pl_model = load_model('/content/{}_part.h5'.format(data_name))  # 使用部分数据训练的模型\r\n",
        "for alpha in [3, 4, 5, 6]:\r\n",
        "    generating(pl_model, '{}_{}_part.txt'.format(data_name, alpha), cnt=int(math.pow(10, alpha)))"
      ],
      "execution_count": 14,
      "outputs": [
        {
          "output_type": "stream",
          "text": [
            "{1: '<END>', 2: 'd1', 3: 'l1', 4: 's1', 5: 'l2', 6: 'd2', 7: 'l3', 8: 'l4', 9: 'd3', 10: 'l5', 11: 'd4', 12: 'l6', 13: 's2', 14: 'l7', 15: 'l8', 16: 'd5', 17: 'd6', 18: 'l9', 19: 's3', 20: 'l10', 21: 'd7', 22: 'd8', 23: 'l11', 24: 'd9', 25: 'l12', 26: 's4', 27: 'd10', 28: 'l14', 29: 'l13', 30: 's6', 31: 'd11', 32: 'l15', 33: 'l16', 34: 'd12', 35: 's5', 36: 'd15', 37: 's7', 38: 'l17', 39: 'd16', 40: 'd13', 41: 's8', 42: 's11', 43: 's9', 44: 'd14', 45: 's16', 46: 's12', 47: 'l18', 48: 'l19', 49: 'l21', 50: 'l20', 51: 's10', 52: 'd17', 53: 'd18', 54: 's32', 55: 's18'}\n",
            "使用PL模型生成1,000个wordlist：\n",
            "生成好的wordlist保存到文件：./phpbb_3_part.txt\n",
            "使用PL模型生成10,000个wordlist：\n",
            "生成好的wordlist保存到文件：./phpbb_4_part.txt\n",
            "使用PL模型生成100,000个wordlist：\n",
            "生成好的wordlist保存到文件：./phpbb_5_part.txt\n",
            "使用PL模型生成1,000,000个wordlist：\n",
            "生成好的wordlist保存到文件：./phpbb_6_part.txt\n"
          ],
          "name": "stdout"
        }
      ]
    },
    {
      "cell_type": "markdown",
      "metadata": {
        "id": "UrU0lrafsuHz"
      },
      "source": [
        "### 计算匹配率"
      ]
    },
    {
      "cell_type": "code",
      "metadata": {
        "colab": {
          "base_uri": "https://localhost:8080/",
          "height": 443
        },
        "id": "Z4jmU7OUsuau",
        "outputId": "078ba1bd-2d9b-4d30-dc3e-016725681774"
      },
      "source": [
        "x = [3, 4, 5, 6]\r\n",
        "y = {\r\n",
        "    'myspace': [],\r\n",
        "     'phpbb': []\r\n",
        "}\r\n",
        "\r\n",
        "for data_name in ['myspace', 'phpbb']:\r\n",
        "  for alpha in x:\r\n",
        "    gen_psw_file = '/content/{}_{}_part.txt'.format(data_name, alpha)\r\n",
        "    gen_psw = np.loadtxt(gen_psw_file, dtype=str, delimiter = '\\n')\r\n",
        "    gen_psw = np.unique(gen_psw)  # 去重\r\n",
        "\r\n",
        "    mr = calc_matching_rate(gen_psw, test_data[data_name])\r\n",
        "    print('data_name：{}, alpha：{}, unique value：{}, mr：{:.2f}%'.format(data_name, alpha, gen_psw.shape[0], mr*100))\r\n",
        "    y[data_name].append(mr * 100)\r\n",
        "\r\n",
        "plt.plot(x, y['myspace'], 'bo-', label='Myspace')\r\n",
        "plt.plot(x, y['phpbb'], 'g^-', label='phpBB')\r\n",
        "plt.title('Cross-Site test')\r\n",
        "plt.xlabel(r'Password Genarated $\\alpha(10^{\\alpha})$') \r\n",
        "plt.ylabel(\"Password Guessed(%)\")\r\n",
        "plt.show()"
      ],
      "execution_count": 20,
      "outputs": [
        {
          "output_type": "stream",
          "text": [
            "data_name：myspace, alpha：3, unique value：863, mr：15.41%\n",
            "data_name：myspace, alpha：4, unique value：5190, mr：50.87%\n",
            "data_name：myspace, alpha：5, unique value：14778, mr：71.51%\n",
            "data_name：myspace, alpha：6, unique value：7059, mr：40.99%\n",
            "data_name：phpbb, alpha：3, unique value：933, mr：10.81%\n",
            "data_name：phpbb, alpha：4, unique value：6274, mr：55.92%\n",
            "data_name：phpbb, alpha：5, unique value：13101, mr：57.63%\n",
            "data_name：phpbb, alpha：6, unique value：2886, mr：11.49%\n"
          ],
          "name": "stdout"
        },
        {
          "output_type": "display_data",
          "data": {
            "image/png": "[encoded data removed]",
            "text/plain": [
              "<Figure size 432x288 with 1 Axes>"
            ]
          },
          "metadata": {
            "tags": [],
            "needs_background": "light"
          }
        }
      ]
    },
    {
      "cell_type": "markdown",
      "metadata": {
        "id": "GWOhU-0UGt-G"
      },
      "source": [
        "## cross-site test"
      ]
    },
    {
      "cell_type": "markdown",
      "metadata": {
        "id": "RbqY0e6Cop3F"
      },
      "source": [
        "### 加载测试数据集"
      ]
    },
    {
      "cell_type": "code",
      "metadata": {
        "colab": {
          "base_uri": "https://localhost:8080/"
        },
        "id": "yxS6u6Z9eEgx",
        "outputId": "872f992a-0455-40b6-eb7f-1aca09a8e729"
      },
      "source": [
        "rockyou = np.loadtxt('/content/rockyou.txt', dtype=str, delimiter = '\\n', skiprows=1)\r\n",
        "rockyou = np.char.strip(rockyou)\r\n",
        "print(rockyou.shape)\r\n",
        "print(rockyou[:5])"
      ],
      "execution_count": 8,
      "outputs": [
        {
          "output_type": "stream",
          "text": [
            "(76911,)\n",
            "['D6' 'D5' 'D9' 'L8' 'D7']\n"
          ],
          "name": "stdout"
        }
      ]
    },
    {
      "cell_type": "markdown",
      "metadata": {
        "id": "INVD85b_o53z"
      },
      "source": [
        "### 生成密码\r\n",
        "分别使用phpbb和myspace全部数据训练的PL模型生成密码"
      ]
    },
    {
      "cell_type": "code",
      "metadata": {
        "id": "RJBkKsdGcOep"
      },
      "source": [
        "# 使用phpbb全部数据训练的PL模型生成密码\r\n",
        "data_name = 'phpbb'\r\n",
        "with open('/content/{}.pkl'.format(data_name), 'rb') as file:\r\n",
        "    tokenizer = pickle.load(file)\r\n",
        "max_length = max_lengths[data_name]\r\n",
        "\r\n",
        "pl_model = load_model('/content/{}.h5'.format(data_name))  # 使用全部数据训练的模型\r\n",
        "for alpha in [3, 4, 5, 6]:\r\n",
        "    generating(pl_model, '{}{}.txt'.format(data_name, alpha), cnt=int(math.pow(10, alpha)))"
      ],
      "execution_count": 9,
      "outputs": []
    },
    {
      "cell_type": "code",
      "metadata": {
        "id": "Q5NNiX8CrhcT"
      },
      "source": [
        "# 使用myspace全部数据训练的PL模型生成密码\r\n",
        "data_name = 'myspace'\r\n",
        "with open('/content/{}.pkl'.format(data_name), 'rb') as file:\r\n",
        "    tokenizer = pickle.load(file)\r\n",
        "max_length = max_lengths[data_name]\r\n",
        "\r\n",
        "pl_model = load_model('/content/{}.h5'.format(data_name))  # 使用全部数据训练的模型\r\n",
        "for alpha in [3, 4, 5, 6]:\r\n",
        "    generating(pl_model, '{}{}.txt'.format(data_name, alpha), cnt=int(math.pow(10, alpha)))"
      ],
      "execution_count": null,
      "outputs": []
    },
    {
      "cell_type": "code",
      "metadata": {
        "colab": {
          "base_uri": "https://localhost:8080/"
        },
        "id": "o1x5E86aisTB",
        "outputId": "14ab5c30-dd78-49b6-8863-35dace736efe"
      },
      "source": [
        "# gen_word_list_file = '/content/{}{}.txt'.format('myspace', 3)\r\n",
        "# gen_word_list = np.loadtxt(gen_word_list_file, dtype=str, delimiter = '\\n')\r\n",
        "# gen_word_list = np.unique(gen_word_list)\r\n",
        "\r\n",
        "# print(gen_word_list.shape)\r\n",
        "# print(gen_word_list[:5])"
      ],
      "execution_count": 25,
      "outputs": [
        {
          "output_type": "stream",
          "text": [
            "(862,)\n",
            "['D1' 'D1 D2 L2 D4' 'D1 L1 D1 L1 D1 L2 D1 L1' 'D1 L1 D1 L1 D1 L4'\n",
            " 'D1 L1 D1 L3 S1 L1']\n"
          ],
          "name": "stdout"
        }
      ]
    },
    {
      "cell_type": "markdown",
      "metadata": {
        "id": "UgXdicMNpHLr"
      },
      "source": [
        "### 计算匹配率"
      ]
    },
    {
      "cell_type": "code",
      "metadata": {
        "colab": {
          "base_uri": "https://localhost:8080/",
          "height": 443
        },
        "id": "d9-Azp8XYpgH",
        "outputId": "854564b7-7901-45a1-919d-7206626faa21"
      },
      "source": [
        "x = [3, 4, 5, 6]\r\n",
        "y = {\r\n",
        "    'myspace': [],\r\n",
        "     'phpbb': []\r\n",
        "}\r\n",
        "\r\n",
        "for data_name in ['myspace', 'phpbb']:\r\n",
        "  for alpha in x:\r\n",
        "    gen_psw_file = '/content/{}{}.txt'.format(data_name, alpha)\r\n",
        "    gen_psw = np.loadtxt(gen_psw_file, dtype=str, delimiter = '\\n')\r\n",
        "    gen_psw = np.unique(gen_psw)  # 去重\r\n",
        "\r\n",
        "    mr = calc_matching_rate(gen_psw, rockyou)\r\n",
        "    print('data_name：{}, alpha：{}, unique value：{}, mr：{:.2f}%'.format(data_name, alpha, gen_psw.shape[0], mr * 100))\r\n",
        "    y[data_name].append(mr * 100)\r\n",
        "\r\n",
        "plt.title('Cross-Site test')\r\n",
        "plt.plot(x, y['myspace'], 'bo-', label='Myspace-RockYou')\r\n",
        "plt.plot(x, y['phpbb'], 'g^-', label='phpBB-RockYou')\r\n",
        "plt.legend()\r\n",
        "plt.xlabel(r'Password Genarated $\\alpha(10^{\\alpha})$') \r\n",
        "plt.ylabel(\"Password Guessed(%)\")\r\n",
        "plt.show()"
      ],
      "execution_count": 10,
      "outputs": [
        {
          "output_type": "stream",
          "text": [
            "data_name：myspace, alpha：3, unique value：862, mr：0.93%\n",
            "data_name：myspace, alpha：4, unique value：5206, mr：5.04%\n",
            "data_name：myspace, alpha：5, unique value：13264, mr：8.68%\n",
            "data_name：myspace, alpha：6, unique value：11895, mr：5.84%\n",
            "data_name：phpbb, alpha：3, unique value：925, mr：1.03%\n",
            "data_name：phpbb, alpha：4, unique value：6196, mr：6.36%\n",
            "data_name：phpbb, alpha：5, unique value：11382, mr：8.33%\n",
            "data_name：phpbb, alpha：6, unique value：2479, mr：0.88%\n"
          ],
          "name": "stdout"
        },
        {
          "output_type": "display_data",
          "data": {
            "image/png": "[encoded data removed]",
            "text/plain": [
              "<Figure size 432x288 with 1 Axes>"
            ]
          },
          "metadata": {
            "tags": [],
            "needs_background": "light"
          }
        }
      ]
    },
    {
      "cell_type": "code",
      "metadata": {
        "id": "xkZLwYViG6uA"
      },
      "source": [
        ""
      ],
      "execution_count": null,
      "outputs": []
    },
    {
      "cell_type": "markdown",
      "metadata": {
        "id": "HciWHeC0GxWU"
      },
      "source": [
        "# GenPass模型评估"
      ]
    },
    {
      "cell_type": "markdown",
      "metadata": {
        "id": "6itpFODLI1Mj"
      },
      "source": [
        "# 其他命令"
      ]
    },
    {
      "cell_type": "markdown",
      "metadata": {
        "id": "CJVm9xFZI4Wz"
      },
      "source": [
        "## 解压文件"
      ]
    },
    {
      "cell_type": "code",
      "metadata": {
        "id": "Al0l6kSpI3fC",
        "colab": {
          "base_uri": "https://localhost:8080/"
        },
        "outputId": "25f20647-3e96-4f10-b81e-14e0905c75e3"
      },
      "source": [
        "!unzip '/content/lstm_1.zip'\r\n",
        "!unzip '/content/tokenizer.zip'"
      ],
      "execution_count": 7,
      "outputs": [
        {
          "output_type": "stream",
          "text": [
            "Archive:  /content/lstm_1.zip\n",
            "  inflating: phpbb.h5                \n",
            "  inflating: phpbb_part.h5           \n",
            "  inflating: myspace.h5              \n",
            "  inflating: myspace_part.h5         \n",
            "Archive:  /content/tokenizer.zip\n",
            "  inflating: phpbb.pkl               \n",
            "  inflating: rockyou.pkl             \n",
            "  inflating: myspace.pkl             \n"
          ],
          "name": "stdout"
        }
      ]
    },
    {
      "cell_type": "code",
      "metadata": {
        "colab": {
          "base_uri": "https://localhost:8080/"
        },
        "id": "IeTW1ixzciXb",
        "outputId": "e8cc48fc-ee21-46e6-c7fe-a9b1d20df3e0"
      },
      "source": [
        "!unzip '/content/rockyou.zip'"
      ],
      "execution_count": 9,
      "outputs": [
        {
          "output_type": "stream",
          "text": [
            "Archive:  /content/rockyou.zip\n",
            "  inflating: rockyou.txt             \n"
          ],
          "name": "stdout"
        }
      ]
    }
  ]
}