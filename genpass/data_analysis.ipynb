{
  "nbformat": 4,
  "nbformat_minor": 0,
  "metadata": {
    "colab": {
      "name": "data_analysis.ipynb",
      "provenance": [],
      "collapsed_sections": [],
      "toc_visible": true,
      "include_colab_link": true
    },
    "kernelspec": {
      "name": "python3",
      "display_name": "Python 3"
    }
  },
  "cells": [
    {
      "cell_type": "markdown",
      "metadata": {
        "id": "view-in-github",
        "colab_type": "text"
      },
      "source": [
        "<a href=\"https://colab.research.google.com/github/YapingWu/GoogleColab/blob/main/genpass/data_analysis.ipynb\" target=\"_parent\"><img src=\"https://colab.research.google.com/assets/colab-badge.svg\" alt=\"Open In Colab\"/></a>"
      ]
    },
    {
      "cell_type": "markdown",
      "metadata": {
        "id": "0S7luTlPyk2b"
      },
      "source": [
        "分析数据集大小和数据分布"
      ]
    },
    {
      "cell_type": "markdown",
      "metadata": {
        "id": "2AB8Xi5j3KGt"
      },
      "source": [
        "# 原始密码分析"
      ]
    },
    {
      "cell_type": "markdown",
      "metadata": {
        "id": "WTOKufvpy0KW"
      },
      "source": [
        "## 上传数据集"
      ]
    },
    {
      "cell_type": "code",
      "metadata": {
        "colab": {
          "base_uri": "https://localhost:8080/"
        },
        "id": "CAhK7-mayfA-",
        "outputId": "cf798385-f528-4add-ac85-aa12586105a4"
      },
      "source": [
        "!unzip '/content/raw_data.zip'"
      ],
      "execution_count": null,
      "outputs": [
        {
          "output_type": "stream",
          "text": [
            "Archive:  /content/raw_data.zip\n",
            "  inflating: phpbb.txt               \n",
            "  inflating: rockyou.txt             \n",
            "  inflating: myspace.txt             \n"
          ],
          "name": "stdout"
        }
      ]
    },
    {
      "cell_type": "markdown",
      "metadata": {
        "id": "qiZTWfHfalMu"
      },
      "source": [
        "## 统计数据集大小"
      ]
    },
    {
      "cell_type": "code",
      "metadata": {
        "id": "CUfqSHUaYxqP"
      },
      "source": [
        "import pandas as pd\r\n",
        "\r\n",
        "names = ['myspace', 'phpbb', 'rockyou']\r\n",
        "data_list = []\r\n",
        "for name in names:\r\n",
        "  data = pd.read_csv('/content/{}.txt'.format(name), header=None, names=['pwd'])\r\n",
        "  data['name'] = name\r\n",
        "  data_list.append(data)\r\n",
        "  print('{}：{}'.format(name, data.shape))\r\n",
        "  # print(data.head(5)"
      ],
      "execution_count": null,
      "outputs": []
    },
    {
      "cell_type": "code",
      "metadata": {
        "colab": {
          "base_uri": "https://localhost:8080/"
        },
        "id": "24j1MKcfq7bZ",
        "outputId": "4bd24ed6-8bc6-4991-b2d8-229be4943744"
      },
      "source": [
        "raw_data = pd.concat(data_list)  # 合并dataframe\r\n",
        "print(raw_data.shape)  # (14560896, 2)\r\n",
        "\r\n",
        "# 计算数据集中密码长度\r\n",
        "raw_data['len'] = raw_data['pwd'].apply(lambda x: len(str(x)))\r\n",
        "# print(raw_data.head(5))"
      ],
      "execution_count": null,
      "outputs": [
        {
          "output_type": "stream",
          "text": [
            "(14560896, 2)\n"
          ],
          "name": "stdout"
        }
      ]
    },
    {
      "cell_type": "markdown",
      "metadata": {
        "id": "vuBSmgcga4Lx"
      },
      "source": [
        "## 分析数据集数据分布"
      ]
    },
    {
      "cell_type": "markdown",
      "metadata": {
        "id": "L7bDVQuLkj9G"
      },
      "source": [
        "### 分析密码长度分布"
      ]
    },
    {
      "cell_type": "code",
      "metadata": {
        "id": "FrfCoRBbaoT8"
      },
      "source": [
        "# 计算不同密码长度的密码个数\r\n",
        "raw_data_size = raw_data.groupby(['name', 'len']).size().rename('size').reset_index()\r\n",
        "# print(raw_data_size.head(5))"
      ],
      "execution_count": null,
      "outputs": []
    },
    {
      "cell_type": "code",
      "metadata": {
        "id": "5abwWfKwarsC"
      },
      "source": [
        "import matplotlib.pyplot as plt\r\n",
        "import numpy as np\r\n",
        "\r\n",
        "def draw():\r\n",
        "  fig, axs = plt.subplots(1, 3, figsize=(12, 4))\r\n",
        "\r\n",
        "  x, y = {}, {}\r\n",
        "  for index, name in enumerate(names):\r\n",
        "    x[name] = raw_data_size.loc[raw_data_size['name'] == name, ['len']]\r\n",
        "    y[name] = raw_data_size.loc[raw_data_size['name'] == name, ['size']]\r\n",
        "    axs[index].plot(x[name], y[name])\r\n",
        "    axs[index].set_title(name)\r\n",
        "    axs[index].set_xlabel('length')\r\n",
        "    axs[index].set_ylabel('size')\r\n",
        "\r\n",
        "  fig.tight_layout()\r\n",
        "  plt.show()\r\n"
      ],
      "execution_count": null,
      "outputs": []
    },
    {
      "cell_type": "code",
      "metadata": {
        "colab": {
          "base_uri": "https://localhost:8080/",
          "height": 297
        },
        "id": "JRnewSL7o5Qc",
        "outputId": "f66ab160-8297-4d3c-c647-c2035036b387"
      },
      "source": [
        "draw()"
      ],
      "execution_count": null,
      "outputs": [
        {
          "output_type": "display_data",
          "data": {
            "image/png": "[encoded data removed]",
            "text/plain": [
              "<Figure size 864x288 with 3 Axes>"
            ]
          },
          "metadata": {
            "tags": [],
            "needs_background": "light"
          }
        }
      ]
    },
    {
      "cell_type": "markdown",
      "metadata": {
        "id": "WuNPJ1PGknhw"
      },
      "source": [
        "图中可以看出，myspace和rockyou中有很多异常值（有些密码有几千个字符）。\r\n",
        "\r\n",
        "接下来过滤掉异常值，再分析。"
      ]
    },
    {
      "cell_type": "code",
      "metadata": {
        "colab": {
          "base_uri": "https://localhost:8080/"
        },
        "id": "ytbi7aOhoZWq",
        "outputId": "f2e2c13c-798b-4d2e-993e-13edfa7abcbc"
      },
      "source": [
        "# 过滤异常值\r\n",
        "print('长度个数大于50的密码：%d' % len(raw_data[raw_data['len'] > 50]))  # 1183\r\n",
        "raw_data = raw_data[raw_data['len'] <= 50]\r\n",
        "print(raw_data.shape)  # (14559713, 3)\r\n",
        "\r\n",
        "# 计算不同密码长度的密码个数\r\n",
        "raw_data_size = raw_data.groupby(['name', 'len']).size().rename('size').reset_index()\r\n",
        "# print(raw_data_size.head(5))"
      ],
      "execution_count": null,
      "outputs": [
        {
          "output_type": "stream",
          "text": [
            "长度个数大于50的密码：1183\n",
            "(14559713, 3)\n"
          ],
          "name": "stdout"
        }
      ]
    },
    {
      "cell_type": "code",
      "metadata": {
        "colab": {
          "base_uri": "https://localhost:8080/",
          "height": 297
        },
        "id": "7NeLft_DqGlV",
        "outputId": "75df0794-ae16-4cb6-bd0c-41d1a196f910"
      },
      "source": [
        "draw()"
      ],
      "execution_count": null,
      "outputs": [
        {
          "output_type": "display_data",
          "data": {
            "image/png": "[encoded data removed]",
            "text/plain": [
              "<Figure size 864x288 with 3 Axes>"
            ]
          },
          "metadata": {
            "tags": [],
            "needs_background": "light"
          }
        }
      ]
    },
    {
      "cell_type": "markdown",
      "metadata": {
        "id": "so4e1vU3qtiD"
      },
      "source": [
        "分析结果可看出，大部分密码长度在（5，20）区间。"
      ]
    },
    {
      "cell_type": "markdown",
      "metadata": {
        "id": "SrMJkJfO3NEY"
      },
      "source": [
        "# PCFG编码后的密码分析\r\n",
        "1. 上传编码后的密码文件：`myspace.txt` `phpbb.txt`"
      ]
    },
    {
      "cell_type": "code",
      "metadata": {
        "colab": {
          "base_uri": "https://localhost:8080/"
        },
        "id": "CB0vrvho4OkP",
        "outputId": "deba0425-9c7e-48de-d98f-3686c031edc2"
      },
      "source": [
        "!unzip '/content/wordlist.zip' -d './wordlist/'"
      ],
      "execution_count": 1,
      "outputs": [
        {
          "output_type": "stream",
          "text": [
            "Archive:  /content/wordlist.zip\n",
            "  inflating: ./wordlist/phpbb.txt    \n",
            "  inflating: ./wordlist/myspace.txt  \n"
          ],
          "name": "stdout"
        }
      ]
    },
    {
      "cell_type": "code",
      "metadata": {
        "id": "pi6VlNU-3Udn"
      },
      "source": [
        "import pandas as pd\r\n",
        "\r\n",
        "data_list = []\r\n",
        "for name in ['myspace', 'phpbb']:\r\n",
        "    df = pd.read_csv('./wordlist/{}.txt'.format(name))\r\n",
        "    df['grammar'] = df['grammar'].apply(lambda x: str(x).strip())\r\n",
        "    df['len'] = df['grammar'].apply(lambda x: len(x.split(' ')))\r\n",
        "    df['name'] = name\r\n",
        "    data_list.append(df)\r\n",
        "\r\n",
        "data = pd.concat(data_list)"
      ],
      "execution_count": 3,
      "outputs": []
    },
    {
      "cell_type": "markdown",
      "metadata": {
        "id": "dP1VeiRp71Un"
      },
      "source": [
        "## 数据集大小（样本数量）"
      ]
    },
    {
      "cell_type": "code",
      "metadata": {
        "colab": {
          "base_uri": "https://localhost:8080/"
        },
        "id": "2Cvj6IDk7VJG",
        "outputId": "12bb07b5-4a45-49ef-d4fe-e6881ca962fe"
      },
      "source": [
        "size_df = data.groupby('name').size().rename('size').reset_index()\r\n",
        "print(size_df)"
      ],
      "execution_count": 4,
      "outputs": [
        {
          "output_type": "stream",
          "text": [
            "      name  size\n",
            "0  myspace  1702\n",
            "1    phpbb  2913\n"
          ],
          "name": "stdout"
        }
      ]
    },
    {
      "cell_type": "markdown",
      "metadata": {
        "id": "K8d_EqOL3yaZ"
      },
      "source": [
        "## 序列长度分析"
      ]
    },
    {
      "cell_type": "code",
      "metadata": {
        "colab": {
          "base_uri": "https://localhost:8080/"
        },
        "id": "hmJQjSYb3yDG",
        "outputId": "eed47e61-9360-460c-8903-5e46ff23a9d4"
      },
      "source": [
        "len_df = data.groupby('name').agg({'len': 'max'}).reset_index()\r\n",
        "print(len_df)"
      ],
      "execution_count": 5,
      "outputs": [
        {
          "output_type": "stream",
          "text": [
            "      name  len\n",
            "0  myspace   18\n",
            "1    phpbb   20\n"
          ],
          "name": "stdout"
        }
      ]
    },
    {
      "cell_type": "code",
      "metadata": {
        "colab": {
          "base_uri": "https://localhost:8080/",
          "height": 295
        },
        "id": "h49BiPU04sle",
        "outputId": "6101ba78-040a-4e34-eced-710f89f305f7"
      },
      "source": [
        "import matplotlib.pyplot as plt\r\n",
        "\r\n",
        "x, y = len_df['name'], len_df['len']\r\n",
        "\r\n",
        "fig, axs = plt.subplots()\r\n",
        "axs.bar(x, y)\r\n",
        "axs.set_title('PCFG seq len')\r\n",
        "axs.set_xlabel('dataset')\r\n",
        "axs.set_ylabel('seq len')\r\n",
        "\r\n",
        "for a,b in zip(x,y):\r\n",
        "  plt.text(a, b+0.05, '%.0f' % b, ha='center', va= 'bottom')"
      ],
      "execution_count": 6,
      "outputs": [
        {
          "output_type": "display_data",
          "data": {
            "image/png": "[encoded data removed]",
            "text/plain": [
              "<Figure size 432x288 with 1 Axes>"
            ]
          },
          "metadata": {
            "tags": [],
            "needs_background": "light"
          }
        }
      ]
    },
    {
      "cell_type": "markdown",
      "metadata": {
        "id": "U0iUrKbO75Zf"
      },
      "source": [
        "## 序列长度分布分析"
      ]
    },
    {
      "cell_type": "code",
      "metadata": {
        "colab": {
          "base_uri": "https://localhost:8080/"
        },
        "id": "UNMi7Tdr78zm",
        "outputId": "88d25745-533a-4559-f7b0-7ed0168d5f51"
      },
      "source": [
        "data_size = data.groupby(['name', 'len']).size().rename('size').reset_index()\r\n",
        "print(data_size.head(5))"
      ],
      "execution_count": 7,
      "outputs": [
        {
          "output_type": "stream",
          "text": [
            "      name  len  size\n",
            "0  myspace    1    55\n",
            "1  myspace    2   238\n",
            "2  myspace    3   532\n",
            "3  myspace    4   375\n",
            "4  myspace    5   237\n"
          ],
          "name": "stdout"
        }
      ]
    },
    {
      "cell_type": "code",
      "metadata": {
        "id": "0hwEMU0n8Tkw",
        "colab": {
          "base_uri": "https://localhost:8080/",
          "height": 297
        },
        "outputId": "6d1201db-cc8a-426d-b025-bb8f2a35fc32"
      },
      "source": [
        "names = ['myspace', 'phpbb']\r\n",
        "def draw():\r\n",
        "  fig, axs = plt.subplots(1, 2, figsize=(8, 4))\r\n",
        "\r\n",
        "  x, y = {}, {}\r\n",
        "  for index, name in enumerate(names):\r\n",
        "    x[name] = data_size.loc[data_size['name'] == name, ['len']]\r\n",
        "    y[name] = data_size.loc[data_size['name'] == name, ['size']]\r\n",
        "    axs[index].plot(x[name], y[name])\r\n",
        "    axs[index].set_title(name)\r\n",
        "    axs[index].set_xlabel('length')\r\n",
        "    axs[index].set_ylabel('size')\r\n",
        "\r\n",
        "  fig.tight_layout()\r\n",
        "  plt.show()\r\n",
        "\r\n",
        "draw()"
      ],
      "execution_count": 9,
      "outputs": [
        {
          "output_type": "display_data",
          "data": {
            "image/png": "[encoded data removed]",
            "text/plain": [
              "<Figure size 576x288 with 2 Axes>"
            ]
          },
          "metadata": {
            "tags": [],
            "needs_background": "light"
          }
        }
      ]
    }
  ]
}