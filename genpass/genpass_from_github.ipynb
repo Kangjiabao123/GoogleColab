{
  "nbformat": 4,
  "nbformat_minor": 0,
  "metadata": {
    "colab": {
      "name": "genpass from github.ipynb",
      "provenance": [],
      "collapsed_sections": [],
      "authorship_tag": "ABX9TyNNAIzZF3mCltthh55r8ZeZ",
      "include_colab_link": true
    },
    "kernelspec": {
      "name": "python3",
      "display_name": "Python 3"
    },
    "language_info": {
      "name": "python"
    }
  },
  "cells": [
    {
      "cell_type": "markdown",
      "metadata": {
        "id": "view-in-github",
        "colab_type": "text"
      },
      "source": [
        "<a href=\"https://colab.research.google.com/github/YapingWu/GoogleColab/blob/main/genpass/genpass_from_github.ipynb\" target=\"_parent\"><img src=\"https://colab.research.google.com/assets/colab-badge.svg\" alt=\"Open In Colab\"/></a>"
      ]
    },
    {
      "cell_type": "markdown",
      "metadata": {
        "id": "XG2uyd_S4tEf"
      },
      "source": [
        "# github代码复制到google colab\n",
        "\n",
        "参考资料：\n",
        "1. https://techsupportallbugs.wordpress.com/2018/06/05/using-git-with-colab-via-ssh/"
      ]
    },
    {
      "cell_type": "markdown",
      "metadata": {
        "id": "NKNtwhnL4zIX"
      },
      "source": [
        "## 配置SSH\n",
        "1. **上传压缩后的密钥对文件和配置文件**\n",
        "1. 将密钥对文件和配置文件解压到/root/.ssh文件夹中\n",
        "2. 将私钥加载到本地ssh-agent中\n",
        "3. 设置git账户"
      ]
    },
    {
      "cell_type": "code",
      "metadata": {
        "id": "hDBqGHhh9TV7"
      },
      "source": [
        "!rm -rf ~/.ssh\n",
        "!unzip '/content/ssh-colab.zip' -d ~/.ssh\n",
        "!chmod 700 ~/.ssh\n",
        "\n",
        "# add the ssh server as a hnown host\n",
        "!touch ~/.ssh/known_hosts\n",
        "!ssh-keyscan github.com >> ~/.ssh/known_hosts\n",
        "!chmod 644 ~/.ssh/known_hosts"
      ],
      "execution_count": null,
      "outputs": []
    },
    {
      "cell_type": "code",
      "metadata": {
        "id": "kMTGwhmh_6Xj"
      },
      "source": [
        "!ssh-agent /bin/bash \n",
        "\n",
        "# 以下命令在ssh-agent启动的shell中执行\n",
        "# chmod 600 ~/.ssh/id_rsa_colab  # 私钥需要设置仅自己可以访问，才能添加到代理\n",
        "# ssh-add ~/.ssh/id_rsa_colab\n",
        "# ssh-add -l"
      ],
      "execution_count": null,
      "outputs": []
    },
    {
      "cell_type": "code",
      "metadata": {
        "id": "niqZxsQrDAz9"
      },
      "source": [
        "!git config --global user.name 'colab'\n",
        "!git config --global user.email 'vyapings@163.com'"
      ],
      "execution_count": 4,
      "outputs": []
    },
    {
      "cell_type": "markdown",
      "metadata": {
        "id": "1redRBlVDRVu"
      },
      "source": [
        "## clone私有库\n",
        "1. 安装google云盘\n",
        "2. 将工作目录更改为云端硬盘内的文件夹\n",
        "3. 运行git clone。"
      ]
    },
    {
      "cell_type": "code",
      "metadata": {
        "id": "HgmO9CHC-9M5"
      },
      "source": [
        "from google.colab import drive\n",
        "drive.mount('./drive')\n",
        "\n",
        "import os\n",
        "os.chdir('/content/drive/MyDrive')\n",
        "\n",
        "!pwd\n",
        "!ls"
      ],
      "execution_count": null,
      "outputs": []
    },
    {
      "cell_type": "code",
      "metadata": {
        "id": "hTxxiKQvA-5p"
      },
      "source": [
        "# !rm -rf gen_pass\n",
        "# !git clone git@github.com:YapingWu/gen_pass.git\n",
        "\n",
        "import os\n",
        "os.chdir('/content/drive/MyDrive/gen_pass')\n",
        "# !git stash\n",
        "# !git stash clear\n",
        "!git pull origin master"
      ],
      "execution_count": null,
      "outputs": []
    },
    {
      "cell_type": "markdown",
      "metadata": {
        "id": "WecgaSNAD6uE"
      },
      "source": [
        "# 运行genpass项目"
      ]
    },
    {
      "cell_type": "code",
      "metadata": {
        "id": "_oOp1Ote4_j7"
      },
      "source": [
        "# 修改时区\n",
        "!date -R\n",
        "import os\n",
        "os.environ['TZ'] = \"Asia/Shanghai\"\n",
        "!date -R"
      ],
      "execution_count": null,
      "outputs": []
    },
    {
      "cell_type": "code",
      "metadata": {
        "id": "aSeeKLLKEcMU"
      },
      "source": [
        "# 修改工作目录\n",
        "import os\n",
        "print(os.getcwd())\n",
        "os.chdir('/content/drive/MyDrive/gen_pass')\n",
        "print(os.getcwd())"
      ],
      "execution_count": null,
      "outputs": []
    },
    {
      "cell_type": "markdown",
      "metadata": {
        "id": "vb2ln895Eyee"
      },
      "source": [
        "## 数据分析"
      ]
    },
    {
      "cell_type": "code",
      "metadata": {
        "colab": {
          "base_uri": "https://localhost:8080/"
        },
        "id": "Wz4USzDbFAYg",
        "outputId": "d26bcd10-77b0-47b2-e138-e23366fd286e"
      },
      "source": [
        "!python main.py \\\n",
        "  --stats-only \\\n",
        "  --infile dataset/phpbb.txt dataset/myspace.txt"
      ],
      "execution_count": 7,
      "outputs": [
        {
          "output_type": "stream",
          "text": [
            "2021-03-25 04:40:35.212460: I tensorflow/stream_executor/platform/default/dso_loader.cc:49] Successfully opened dynamic library libcudart.so.11.0\n",
            "\u001b[1;37m2021-03-25 04:40:38 [INFO] \n",
            "##########################################################################################################\n",
            "# GENPass\n",
            "# 1 PL模型预测。预测密码中的下一个单元（unit）。\n",
            "# 2 权重选择。按照权重选择从3个PL模型的结果中选择权重最高的unit，并根据wordlist随机选择一个密码进行替换。\n",
            "# 3 分类器。使用CNN模型预测上一步生成的密码属于3个数据集的概率。\n",
            "# 4 判定器。选择出在3个数据集概率相差不大的密码作为结果输出。\n",
            "#\n",
            "##########################################################################################################\n",
            "\u001b[0m\n",
            "\u001b[1;37m2021-03-25 04:40:39 [INFO] Start...\u001b[0m\n",
            "\u001b[1;37m2021-03-25 04:40:39 [INFO] dataset/phpbb.txt数据集中的密码数量：184379\u001b[0m\n",
            "\u001b[1;37m2021-03-25 04:40:39 [INFO] 密码长度不在[4, 20]区间的密码个数：1013，占总密码数量的百分比：0.55%\u001b[0m\n",
            "\u001b[1;37m2021-03-25 04:40:39 [INFO] dataset/myspace.txt数据集中的密码数量：37144\u001b[0m\n",
            "\u001b[1;37m2021-03-25 04:40:39 [INFO] 密码长度不在[4, 20]区间的密码个数：259，占总密码数量的百分比：0.70%\u001b[0m\n",
            "\u001b[1;37m2021-03-25 04:40:39 [INFO] 分析结果图保存到文件：result/figure/password.png\u001b[0m\n",
            "\u001b[1;37m2021-03-25 04:40:40 [INFO] End...\u001b[0m\n"
          ],
          "name": "stdout"
        }
      ]
    },
    {
      "cell_type": "markdown",
      "metadata": {
        "id": "RIjqmF5_tyal"
      },
      "source": [
        "## 数据预处理"
      ]
    },
    {
      "cell_type": "code",
      "metadata": {
        "colab": {
          "base_uri": "https://localhost:8080/"
        },
        "id": "uYmyHJt2txki",
        "outputId": "e260c850-bb8d-491c-96d1-7e6ed8b99266"
      },
      "source": [
        "!python main.py \\\n",
        "  --pre-processing-only \\\n",
        "  --infile dataset/phpbb.txt dataset/myspace.txt"
      ],
      "execution_count": 5,
      "outputs": [
        {
          "output_type": "stream",
          "text": [
            "2021-03-25 13:16:17.712334: I tensorflow/stream_executor/platform/default/dso_loader.cc:49] Successfully opened dynamic library libcudart.so.11.0\n",
            "\u001b[1;37m2021-03-25 13:16:19 [INFO] \n",
            "##########################################################################################################\n",
            "# GENPass\n",
            "# 1 PL模型预测。预测密码中的下一个单元（unit）。\n",
            "# 2 权重选择。按照权重选择从3个PL模型的结果中选择权重最高的unit，并根据wordlist随机选择一个密码进行替换。\n",
            "# 3 分类器。使用CNN模型预测上一步生成的密码属于3个数据集的概率。\n",
            "# 4 判定器。选择出在3个数据集概率相差不大的密码作为结果输出。\n",
            "#\n",
            "##########################################################################################################\n",
            "\u001b[0m\n",
            "\u001b[1;37m2021-03-25 13:16:19 [INFO] Start...\u001b[0m\n",
            "\u001b[1;37m2021-03-25 13:16:19 [INFO] 原始密码集划分为测试集和训练集\u001b[0m\n",
            "\u001b[1;37m2021-03-25 13:16:20 [INFO] dataset/phpbb.txt：train shape：(147503, 1), test shape：(36876, 1)\u001b[0m\n",
            "\u001b[1;37m2021-03-25 13:16:21 [INFO] dataset/myspace.txt：train shape：(29715, 1), test shape：(7429, 1)\u001b[0m\n",
            "\u001b[1;37m2021-03-25 13:16:21 [INFO] 开始预处理\u001b[0m\n",
            "\u001b[1;37m2021-03-25 13:16:21 [INFO] 待处理的文件名称：dataset/phpbb.txt\u001b[0m\n",
            "\u001b[1;37m2021-03-25 13:16:21 [INFO] PCFG编码\u001b[0m\n",
            "\u001b[1;37m2021-03-25 13:16:22 [INFO] 去重后的编码序列个数：2873， 保存到文件：result/preprocessed/wordlist/phpbb.txt\u001b[0m\n",
            "\u001b[1;37m2021-03-25 13:16:22 [INFO] 生成两个概率表并保存到文件\u001b[0m\n",
            "\u001b[1;37m2021-03-25 13:16:22 [INFO] 每个unit出现的概率保存到文件：result/preprocessed/unit_freq/phpbb.txt\u001b[0m\n",
            "\u001b[1;37m2021-03-25 13:16:24 [INFO] unit中每个密码出现的概率保存到文件：result/preprocessed/pwd_freq/phpbb.txt\u001b[0m\n",
            "\u001b[1;37m2021-03-25 13:16:24 [INFO] 待处理的文件名称：dataset/myspace.txt\u001b[0m\n",
            "\u001b[1;37m2021-03-25 13:16:24 [INFO] PCFG编码\u001b[0m\n",
            "\u001b[1;37m2021-03-25 13:16:24 [INFO] 去重后的编码序列个数：1564， 保存到文件：result/preprocessed/wordlist/myspace.txt\u001b[0m\n",
            "\u001b[1;37m2021-03-25 13:16:24 [INFO] 生成两个概率表并保存到文件\u001b[0m\n",
            "\u001b[1;37m2021-03-25 13:16:24 [INFO] 每个unit出现的概率保存到文件：result/preprocessed/unit_freq/myspace.txt\u001b[0m\n",
            "\u001b[1;37m2021-03-25 13:16:24 [INFO] unit中每个密码出现的概率保存到文件：result/preprocessed/pwd_freq/myspace.txt\u001b[0m\n",
            "\u001b[1;37m2021-03-25 13:16:24 [INFO] 待处理的文件名称：result/preprocessed/phpbb_part.txt\u001b[0m\n",
            "\u001b[1;37m2021-03-25 13:16:24 [INFO] PCFG编码\u001b[0m\n",
            "\u001b[1;37m2021-03-25 13:16:25 [INFO] 去重后的编码序列个数：1959， 保存到文件：result/preprocessed/wordlist/phpbb_part.txt\u001b[0m\n",
            "\u001b[1;37m2021-03-25 13:16:25 [INFO] 生成两个概率表并保存到文件\u001b[0m\n",
            "\u001b[1;37m2021-03-25 13:16:25 [INFO] 每个unit出现的概率保存到文件：result/preprocessed/unit_freq/phpbb_part.txt\u001b[0m\n",
            "\u001b[1;37m2021-03-25 13:16:26 [INFO] unit中每个密码出现的概率保存到文件：result/preprocessed/pwd_freq/phpbb_part.txt\u001b[0m\n",
            "\u001b[1;37m2021-03-25 13:16:26 [INFO] 待处理的文件名称：result/preprocessed/myspace_part.txt\u001b[0m\n",
            "\u001b[1;37m2021-03-25 13:16:26 [INFO] PCFG编码\u001b[0m\n",
            "\u001b[1;37m2021-03-25 13:16:26 [INFO] 去重后的编码序列个数：1064， 保存到文件：result/preprocessed/wordlist/myspace_part.txt\u001b[0m\n",
            "\u001b[1;37m2021-03-25 13:16:26 [INFO] 生成两个概率表并保存到文件\u001b[0m\n",
            "\u001b[1;37m2021-03-25 13:16:26 [INFO] 每个unit出现的概率保存到文件：result/preprocessed/unit_freq/myspace_part.txt\u001b[0m\n",
            "\u001b[1;37m2021-03-25 13:16:27 [INFO] unit中每个密码出现的概率保存到文件：result/preprocessed/pwd_freq/myspace_part.txt\u001b[0m\n",
            "\u001b[1;37m2021-03-25 13:16:28 [INFO] End...\u001b[0m\n"
          ],
          "name": "stdout"
        }
      ]
    },
    {
      "cell_type": "markdown",
      "metadata": {
        "id": "oXIMmvMduBct"
      },
      "source": [
        "## 训练word-level LSTM"
      ]
    },
    {
      "cell_type": "markdown",
      "metadata": {
        "id": "ulFWdvZcEpRR"
      },
      "source": [
        "### 训练分词器"
      ]
    },
    {
      "cell_type": "code",
      "metadata": {
        "id": "8qdT20rOuBBA"
      },
      "source": [
        "!python main.py \\\n",
        "    --train --model tokenizer \\\n",
        "    --dnames myspace phpbb myspace_part phpbb_part"
      ],
      "execution_count": null,
      "outputs": []
    },
    {
      "cell_type": "markdown",
      "metadata": {
        "id": "z38Jg6u7uvXt"
      },
      "source": [
        "### 使用pcfg编码结果训练LSTM模型"
      ]
    },
    {
      "cell_type": "code",
      "metadata": {
        "id": "ilRlmgPIuupJ"
      },
      "source": [
        "!python main.py \\\n",
        "    -e pro \\\n",
        "    --train \\\n",
        "    --model lstm \\\n",
        "    --dnames myspace phpbb myspace_part phpbb_part"
      ],
      "execution_count": null,
      "outputs": []
    },
    {
      "cell_type": "markdown",
      "metadata": {
        "id": "JYdgdH0kwUHz"
      },
      "source": [
        "## 训练char-level CNN"
      ]
    },
    {
      "cell_type": "code",
      "metadata": {
        "colab": {
          "base_uri": "https://localhost:8080/"
        },
        "id": "z7yH2xi2uA5V",
        "outputId": "6de9e822-7cb3-475f-d8ec-2b0c0e632ef1"
      },
      "source": [
        "!python main.py \\\n",
        "    -e pro \\\n",
        "    --train \\\n",
        "    --model cnn \\\n",
        "    --dnames myspace phpbb"
      ],
      "execution_count": 10,
      "outputs": [
        {
          "output_type": "stream",
          "text": [
            "2021-03-27 11:14:32.413131: I tensorflow/stream_executor/platform/default/dso_loader.cc:49] Successfully opened dynamic library libcudart.so.11.0\n",
            "\u001b[1;37m2021-03-27 11:14:34 [INFO] \n",
            "##########################################################################################################\n",
            "# GENPass\n",
            "# 1 PL模型预测。预测密码中的下一个单元（unit）。\n",
            "# 2 权重选择。按照权重选择从3个PL模型的结果中选择权重最高的unit，并根据wordlist随机选择一个密码进行替换。\n",
            "# 3 分类器。使用CNN模型预测上一步生成的密码属于3个数据集的概率。\n",
            "# 4 判定器。选择出在3个数据集概率相差不大的密码作为结果输出。\n",
            "#\n",
            "##########################################################################################################\n",
            "\u001b[0m\n",
            "\u001b[1;37m2021-03-27 11:14:34 [INFO] Start...\u001b[0m\n",
            "\u001b[1;37m2021-03-27 11:14:34 [INFO] 开始加载数据...\u001b[0m\n",
            "\u001b[1;37m2021-03-27 11:14:34 [INFO] dataset/myspace.txt 数据大小：37144\u001b[0m\n",
            "\u001b[1;37m2021-03-27 11:14:34 [INFO] dataset/phpbb.txt 数据大小：184379\u001b[0m\n",
            "\u001b[1;37m2021-03-27 11:14:34 [INFO] 训练模型的总数据量：77144\u001b[0m\n",
            "\u001b[1;37m2021-03-27 11:14:34 [INFO] 划分验证集和测试集\u001b[0m\n",
            "\u001b[1;37m2021-03-27 11:14:34 [INFO] x_val Shape: (15428, 32), y_val Shape: (15428, 2)\u001b[0m\n",
            "\u001b[1;37m2021-03-27 11:14:34 [INFO] x_test Shape: (15428, 32), y_test Shape: (15428, 2)\u001b[0m\n",
            "\u001b[1;37m2021-03-27 11:14:34 [INFO] 创建CNN模型...\u001b[0m\n",
            "2021-03-27 11:14:34.602787: I tensorflow/compiler/jit/xla_cpu_device.cc:41] Not creating XLA devices, tf_xla_enable_xla_devices not set\n",
            "2021-03-27 11:14:34.603643: I tensorflow/stream_executor/platform/default/dso_loader.cc:49] Successfully opened dynamic library libcuda.so.1\n",
            "2021-03-27 11:14:34.633332: I tensorflow/stream_executor/cuda/cuda_gpu_executor.cc:941] successful NUMA node read from SysFS had negative value (-1), but there must be at least one NUMA node, so returning NUMA node zero\n",
            "2021-03-27 11:14:34.633908: I tensorflow/core/common_runtime/gpu/gpu_device.cc:1720] Found device 0 with properties: \n",
            "pciBusID: 0000:00:04.0 name: Tesla T4 computeCapability: 7.5\n",
            "coreClock: 1.59GHz coreCount: 40 deviceMemorySize: 14.75GiB deviceMemoryBandwidth: 298.08GiB/s\n",
            "2021-03-27 11:14:34.633950: I tensorflow/stream_executor/platform/default/dso_loader.cc:49] Successfully opened dynamic library libcudart.so.11.0\n",
            "2021-03-27 11:14:34.636076: I tensorflow/stream_executor/platform/default/dso_loader.cc:49] Successfully opened dynamic library libcublas.so.11\n",
            "2021-03-27 11:14:34.636160: I tensorflow/stream_executor/platform/default/dso_loader.cc:49] Successfully opened dynamic library libcublasLt.so.11\n",
            "2021-03-27 11:14:34.637740: I tensorflow/stream_executor/platform/default/dso_loader.cc:49] Successfully opened dynamic library libcufft.so.10\n",
            "2021-03-27 11:14:34.638102: I tensorflow/stream_executor/platform/default/dso_loader.cc:49] Successfully opened dynamic library libcurand.so.10\n",
            "2021-03-27 11:14:34.640034: I tensorflow/stream_executor/platform/default/dso_loader.cc:49] Successfully opened dynamic library libcusolver.so.10\n",
            "2021-03-27 11:14:34.640567: I tensorflow/stream_executor/platform/default/dso_loader.cc:49] Successfully opened dynamic library libcusparse.so.11\n",
            "2021-03-27 11:14:34.640750: I tensorflow/stream_executor/platform/default/dso_loader.cc:49] Successfully opened dynamic library libcudnn.so.8\n",
            "2021-03-27 11:14:34.640861: I tensorflow/stream_executor/cuda/cuda_gpu_executor.cc:941] successful NUMA node read from SysFS had negative value (-1), but there must be at least one NUMA node, so returning NUMA node zero\n",
            "2021-03-27 11:14:34.641466: I tensorflow/stream_executor/cuda/cuda_gpu_executor.cc:941] successful NUMA node read from SysFS had negative value (-1), but there must be at least one NUMA node, so returning NUMA node zero\n",
            "2021-03-27 11:14:34.642031: I tensorflow/core/common_runtime/gpu/gpu_device.cc:1862] Adding visible gpu devices: 0\n",
            "2021-03-27 11:14:34.642517: I tensorflow/compiler/jit/xla_gpu_device.cc:99] Not creating XLA devices, tf_xla_enable_xla_devices not set\n",
            "2021-03-27 11:14:34.642632: I tensorflow/stream_executor/cuda/cuda_gpu_executor.cc:941] successful NUMA node read from SysFS had negative value (-1), but there must be at least one NUMA node, so returning NUMA node zero\n",
            "2021-03-27 11:14:34.643186: I tensorflow/core/common_runtime/gpu/gpu_device.cc:1720] Found device 0 with properties: \n",
            "pciBusID: 0000:00:04.0 name: Tesla T4 computeCapability: 7.5\n",
            "coreClock: 1.59GHz coreCount: 40 deviceMemorySize: 14.75GiB deviceMemoryBandwidth: 298.08GiB/s\n",
            "2021-03-27 11:14:34.643240: I tensorflow/stream_executor/platform/default/dso_loader.cc:49] Successfully opened dynamic library libcudart.so.11.0\n",
            "2021-03-27 11:14:34.643272: I tensorflow/stream_executor/platform/default/dso_loader.cc:49] Successfully opened dynamic library libcublas.so.11\n",
            "2021-03-27 11:14:34.643289: I tensorflow/stream_executor/platform/default/dso_loader.cc:49] Successfully opened dynamic library libcublasLt.so.11\n",
            "2021-03-27 11:14:34.643305: I tensorflow/stream_executor/platform/default/dso_loader.cc:49] Successfully opened dynamic library libcufft.so.10\n",
            "2021-03-27 11:14:34.643324: I tensorflow/stream_executor/platform/default/dso_loader.cc:49] Successfully opened dynamic library libcurand.so.10\n",
            "2021-03-27 11:14:34.643340: I tensorflow/stream_executor/platform/default/dso_loader.cc:49] Successfully opened dynamic library libcusolver.so.10\n",
            "2021-03-27 11:14:34.643355: I tensorflow/stream_executor/platform/default/dso_loader.cc:49] Successfully opened dynamic library libcusparse.so.11\n",
            "2021-03-27 11:14:34.643371: I tensorflow/stream_executor/platform/default/dso_loader.cc:49] Successfully opened dynamic library libcudnn.so.8\n",
            "2021-03-27 11:14:34.643433: I tensorflow/stream_executor/cuda/cuda_gpu_executor.cc:941] successful NUMA node read from SysFS had negative value (-1), but there must be at least one NUMA node, so returning NUMA node zero\n",
            "2021-03-27 11:14:34.643985: I tensorflow/stream_executor/cuda/cuda_gpu_executor.cc:941] successful NUMA node read from SysFS had negative value (-1), but there must be at least one NUMA node, so returning NUMA node zero\n",
            "2021-03-27 11:14:34.644517: I tensorflow/core/common_runtime/gpu/gpu_device.cc:1862] Adding visible gpu devices: 0\n",
            "2021-03-27 11:14:34.644566: I tensorflow/stream_executor/platform/default/dso_loader.cc:49] Successfully opened dynamic library libcudart.so.11.0\n",
            "2021-03-27 11:14:35.152812: I tensorflow/core/common_runtime/gpu/gpu_device.cc:1261] Device interconnect StreamExecutor with strength 1 edge matrix:\n",
            "2021-03-27 11:14:35.152847: I tensorflow/core/common_runtime/gpu/gpu_device.cc:1267]      0 \n",
            "2021-03-27 11:14:35.152855: I tensorflow/core/common_runtime/gpu/gpu_device.cc:1280] 0:   N \n",
            "2021-03-27 11:14:35.153054: I tensorflow/stream_executor/cuda/cuda_gpu_executor.cc:941] successful NUMA node read from SysFS had negative value (-1), but there must be at least one NUMA node, so returning NUMA node zero\n",
            "2021-03-27 11:14:35.153732: I tensorflow/stream_executor/cuda/cuda_gpu_executor.cc:941] successful NUMA node read from SysFS had negative value (-1), but there must be at least one NUMA node, so returning NUMA node zero\n",
            "2021-03-27 11:14:35.154346: I tensorflow/stream_executor/cuda/cuda_gpu_executor.cc:941] successful NUMA node read from SysFS had negative value (-1), but there must be at least one NUMA node, so returning NUMA node zero\n",
            "2021-03-27 11:14:35.154885: W tensorflow/core/common_runtime/gpu/gpu_bfc_allocator.cc:39] Overriding allow_growth setting because the TF_FORCE_GPU_ALLOW_GROWTH environment variable is set. Original config value was 0.\n",
            "2021-03-27 11:14:35.154931: I tensorflow/core/common_runtime/gpu/gpu_device.cc:1406] Created TensorFlow device (/job:localhost/replica:0/task:0/device:GPU:0 with 13994 MB memory) -> physical GPU (device: 0, name: Tesla T4, pci bus id: 0000:00:04.0, compute capability: 7.5)\n",
            "\u001b[1;37m2021-03-27 11:14:35 [INFO] 创建模型：\u001b[0m\n",
            "Model: \"sequential\"\n",
            "_________________________________________________________________\n",
            "Layer (type)                 Output Shape              Param #   \n",
            "=================================================================\n",
            "embedding (Embedding)        (None, 32, 10)            710       \n",
            "_________________________________________________________________\n",
            "conv1d (Conv1D)              (None, 32, 64)            4544      \n",
            "_________________________________________________________________\n",
            "max_pooling1d (MaxPooling1D) (None, 10, 64)            0         \n",
            "_________________________________________________________________\n",
            "conv1d_1 (Conv1D)            (None, 10, 64)            12352     \n",
            "_________________________________________________________________\n",
            "conv1d_2 (Conv1D)            (None, 10, 64)            12352     \n",
            "_________________________________________________________________\n",
            "conv1d_3 (Conv1D)            (None, 10, 64)            12352     \n",
            "_________________________________________________________________\n",
            "max_pooling1d_1 (MaxPooling1 (None, 3, 64)             0         \n",
            "_________________________________________________________________\n",
            "flatten (Flatten)            (None, 192)               0         \n",
            "_________________________________________________________________\n",
            "dense (Dense)                (None, 512)               98816     \n",
            "_________________________________________________________________\n",
            "alpha_dropout (AlphaDropout) (None, 512)               0         \n",
            "_________________________________________________________________\n",
            "dense_1 (Dense)              (None, 512)               262656    \n",
            "_________________________________________________________________\n",
            "alpha_dropout_1 (AlphaDropou (None, 512)               0         \n",
            "_________________________________________________________________\n",
            "dense_2 (Dense)              (None, 2)                 1026      \n",
            "=================================================================\n",
            "Total params: 404,808\n",
            "Trainable params: 404,808\n",
            "Non-trainable params: 0\n",
            "_________________________________________________________________\n",
            "\u001b[1;37m2021-03-27 11:14:35 [INFO] 开始训练CNN模型\u001b[0m\n",
            "\u001b[1;37m2021-03-27 11:14:35 [INFO] 训练日志文件：logs/cnn/cnn210327111435\u001b[0m\n",
            "2021-03-27 11:14:35.251734: I tensorflow/core/profiler/lib/profiler_session.cc:136] Profiler session initializing.\n",
            "2021-03-27 11:14:35.251756: I tensorflow/core/profiler/lib/profiler_session.cc:155] Profiler session started.\n",
            "2021-03-27 11:14:35.251786: I tensorflow/core/profiler/internal/gpu/cupti_tracer.cc:1365] Profiler found 1 GPUs\n",
            "2021-03-27 11:14:35.252723: I tensorflow/stream_executor/platform/default/dso_loader.cc:49] Successfully opened dynamic library libcupti.so.11.0\n",
            "2021-03-27 11:14:35.388892: I tensorflow/core/profiler/lib/profiler_session.cc:172] Profiler session tear down.\n",
            "2021-03-27 11:14:35.390641: I tensorflow/core/profiler/internal/gpu/cupti_tracer.cc:1487] CUPTI activity buffer flushed\n",
            "\u001b[1;37m2021-03-27 11:14:35 [INFO] 生成数据...\u001b[0m\n",
            "2021-03-27 11:14:35.558336: I tensorflow/compiler/mlir/mlir_graph_optimization_pass.cc:116] None of the MLIR optimization passes are enabled (registered 2)\n",
            "2021-03-27 11:14:35.558713: I tensorflow/core/platform/profile_utils/cpu_utils.cc:112] CPU Frequency: 2199995000 Hz\n",
            "Epoch 1/20\n",
            "2021-03-27 11:14:36.299998: I tensorflow/stream_executor/platform/default/dso_loader.cc:49] Successfully opened dynamic library libcublas.so.11\n",
            "2021-03-27 11:14:36.755031: I tensorflow/stream_executor/platform/default/dso_loader.cc:49] Successfully opened dynamic library libcublasLt.so.11\n",
            "2021-03-27 11:14:36.758628: I tensorflow/stream_executor/platform/default/dso_loader.cc:49] Successfully opened dynamic library libcudnn.so.8\n",
            "  1/602 [..............................] - ETA: 30:58 - loss: 1.0851 - accuracy: 0.46092021-03-27 11:14:38.674503: I tensorflow/core/profiler/lib/profiler_session.cc:136] Profiler session initializing.\n",
            "2021-03-27 11:14:38.674543: I tensorflow/core/profiler/lib/profiler_session.cc:155] Profiler session started.\n",
            "  2/602 [..............................] - ETA: 5:36 - loss: 1.0491 - accuracy: 0.4746 2021-03-27 11:14:39.219007: I tensorflow/core/profiler/lib/profiler_session.cc:71] Profiler session collecting data.\n",
            "2021-03-27 11:14:39.219315: I tensorflow/core/profiler/internal/gpu/cupti_tracer.cc:1487] CUPTI activity buffer flushed\n",
            "2021-03-27 11:14:39.388712: I tensorflow/core/profiler/internal/gpu/cupti_collector.cc:228]  GpuTracer has collected 202 callback api events and 190 activity events. \n",
            "2021-03-27 11:14:39.392915: I tensorflow/core/profiler/lib/profiler_session.cc:172] Profiler session tear down.\n",
            "602/602 [==============================] - 8s 9ms/step - loss: 0.6959 - accuracy: 0.6566 - val_loss: 0.5866 - val_accuracy: 0.8234\n",
            "Epoch 2/20\n",
            "602/602 [==============================] - 4s 7ms/step - loss: 0.4066 - accuracy: 0.8369 - val_loss: 0.6910 - val_accuracy: 0.8400\n",
            "Epoch 3/20\n",
            "602/602 [==============================] - 4s 7ms/step - loss: 0.3907 - accuracy: 0.8452 - val_loss: 0.7009 - val_accuracy: 0.8200\n",
            "Epoch 4/20\n",
            "602/602 [==============================] - 4s 7ms/step - loss: 0.3826 - accuracy: 0.8503 - val_loss: 0.7226 - val_accuracy: 0.8243\n",
            "Epoch 5/20\n",
            "602/602 [==============================] - 4s 7ms/step - loss: 0.3747 - accuracy: 0.8554 - val_loss: 0.8277 - val_accuracy: 0.8367\n",
            "Epoch 6/20\n",
            "602/602 [==============================] - 4s 7ms/step - loss: 0.3717 - accuracy: 0.8575 - val_loss: 0.7444 - val_accuracy: 0.8181\n",
            "Epoch 7/20\n",
            "602/602 [==============================] - 4s 7ms/step - loss: 0.3630 - accuracy: 0.8603 - val_loss: 0.7876 - val_accuracy: 0.8486\n",
            "Epoch 8/20\n",
            "602/602 [==============================] - 4s 7ms/step - loss: 0.3560 - accuracy: 0.8663 - val_loss: 0.6979 - val_accuracy: 0.8412\n",
            "Epoch 9/20\n",
            "602/602 [==============================] - 4s 7ms/step - loss: 0.3559 - accuracy: 0.8638 - val_loss: 0.7445 - val_accuracy: 0.8518\n",
            "Epoch 10/20\n",
            "602/602 [==============================] - 4s 7ms/step - loss: 0.3521 - accuracy: 0.8664 - val_loss: 0.6394 - val_accuracy: 0.8394\n",
            "Epoch 11/20\n",
            "602/602 [==============================] - 4s 7ms/step - loss: 0.3458 - accuracy: 0.8693 - val_loss: 0.6973 - val_accuracy: 0.8572\n",
            "Epoch 12/20\n",
            "602/602 [==============================] - 4s 7ms/step - loss: 0.3419 - accuracy: 0.8720 - val_loss: 0.6507 - val_accuracy: 0.8533\n",
            "Epoch 13/20\n",
            "602/602 [==============================] - 4s 7ms/step - loss: 0.3384 - accuracy: 0.8724 - val_loss: 0.7382 - val_accuracy: 0.8589\n",
            "Epoch 14/20\n",
            "602/602 [==============================] - 4s 7ms/step - loss: 0.3329 - accuracy: 0.8730 - val_loss: 0.6459 - val_accuracy: 0.8428\n",
            "Epoch 15/20\n",
            "602/602 [==============================] - 4s 7ms/step - loss: 0.3345 - accuracy: 0.8747 - val_loss: 0.6567 - val_accuracy: 0.8551\n",
            "Epoch 16/20\n",
            "602/602 [==============================] - 4s 7ms/step - loss: 0.3251 - accuracy: 0.8763 - val_loss: 0.6881 - val_accuracy: 0.8538\n",
            "Epoch 17/20\n",
            "602/602 [==============================] - 4s 7ms/step - loss: 0.3218 - accuracy: 0.8789 - val_loss: 0.7113 - val_accuracy: 0.8363\n",
            "Epoch 18/20\n",
            "602/602 [==============================] - 4s 7ms/step - loss: 0.3209 - accuracy: 0.8807 - val_loss: 0.6388 - val_accuracy: 0.8520\n",
            "Epoch 19/20\n",
            "602/602 [==============================] - 4s 7ms/step - loss: 0.3181 - accuracy: 0.8801 - val_loss: 0.7653 - val_accuracy: 0.8295\n",
            "Epoch 20/20\n",
            "602/602 [==============================] - 4s 7ms/step - loss: 0.3208 - accuracy: 0.8787 - val_loss: 0.7206 - val_accuracy: 0.8526\n",
            "\u001b[1;37m2021-03-27 11:16:01 [INFO] Model Accuracy on test: 85.23%, Loss: 0.72\u001b[0m\n",
            "\u001b[1;37m2021-03-27 11:16:01 [INFO] 保存模型：result/model/cnn/cnn.h5\u001b[0m\n",
            "\u001b[1;37m2021-03-27 11:16:02 [INFO] End...\u001b[0m\n"
          ],
          "name": "stdout"
        }
      ]
    },
    {
      "cell_type": "code",
      "metadata": {
        "id": "SG6Ly43Oq3Pt"
      },
      "source": [
        "%load_ext tensorboard"
      ],
      "execution_count": 8,
      "outputs": []
    },
    {
      "cell_type": "code",
      "metadata": {
        "id": "vJJh9AG3q5U9"
      },
      "source": [
        "%tensorboard --logdir 'logs/cnn/cnn210327110825'"
      ],
      "execution_count": null,
      "outputs": []
    },
    {
      "cell_type": "markdown",
      "metadata": {
        "id": "yU47aUJIE1cz"
      },
      "source": [
        "## 生成密码"
      ]
    },
    {
      "cell_type": "code",
      "metadata": {
        "colab": {
          "base_uri": "https://localhost:8080/"
        },
        "id": "W8gjzrA_FGsN",
        "outputId": "1f753a14-f56c-429b-eabc-59ded58af034"
      },
      "source": [
        "# 使用genpass模型生成密码\n",
        "!python main.py \\\n",
        "  -e pro \\\n",
        "  --generate genpass \\\n",
        "  -c 0.3 \\\n",
        "  --alphas 5 6 \\\n",
        "  --chunk 100000"
      ],
      "execution_count": null,
      "outputs": [
        {
          "output_type": "stream",
          "text": [
            "2021-03-27 11:58:42.517885: I tensorflow/stream_executor/platform/default/dso_loader.cc:49] Successfully opened dynamic library libcudart.so.11.0\n",
            "\u001b[1;37m2021-03-27 11:58:44 [INFO] \n",
            "##########################################################################################################\n",
            "# GENPass\n",
            "# 1 PL模型预测。预测密码中的下一个单元（unit）。\n",
            "# 2 权重选择。按照权重选择从3个PL模型的结果中选择权重最高的unit，并根据wordlist随机选择一个密码进行替换。\n",
            "# 3 分类器。使用CNN模型预测上一步生成的密码属于3个数据集的概率。\n",
            "# 4 判定器。选择出在3个数据集概率相差不大的密码作为结果输出。\n",
            "#\n",
            "##########################################################################################################\n",
            "\u001b[0m\n",
            "\u001b[1;37m2021-03-27 11:58:44 [INFO] Start...\u001b[0m\n",
            "\u001b[1;37m2021-03-27 11:58:44 [INFO] 创建GenPass模型。用于训练GenPass模型的数据集：['myspace', 'phpbb']，C=0.3\u001b[0m\n",
            "\u001b[1;37m2021-03-27 11:58:44 [INFO] 创建PL模型。数据集名称：myspace\u001b[0m\n",
            "2021-03-27 11:58:44.532119: I tensorflow/compiler/jit/xla_cpu_device.cc:41] Not creating XLA devices, tf_xla_enable_xla_devices not set\n",
            "2021-03-27 11:58:44.533155: I tensorflow/stream_executor/platform/default/dso_loader.cc:49] Successfully opened dynamic library libcuda.so.1\n",
            "2021-03-27 11:58:44.543159: E tensorflow/stream_executor/cuda/cuda_driver.cc:328] failed call to cuInit: CUDA_ERROR_NO_DEVICE: no CUDA-capable device is detected\n",
            "2021-03-27 11:58:44.543217: I tensorflow/stream_executor/cuda/cuda_diagnostics.cc:156] kernel driver does not appear to be running on this host (aa554481e7d6): /proc/driver/nvidia/version does not exist\n",
            "2021-03-27 11:58:44.543795: I tensorflow/compiler/jit/xla_gpu_device.cc:99] Not creating XLA devices, tf_xla_enable_xla_devices not set\n",
            "\u001b[1;37m2021-03-27 11:58:45 [INFO] 创建PL模型。数据集名称：phpbb\u001b[0m\n",
            "\u001b[1;37m2021-03-27 11:58:46 [INFO] 创建分类器\u001b[0m\n",
            "\u001b[1;37m2021-03-27 11:58:46 [INFO] 使用genpass模型（C=0.3）生成密码。\u001b[0m\n",
            "\u001b[1;37m2021-03-27 11:58:46 [INFO] 待生成密码数量：100,000\u001b[0m\n",
            "2021-03-27 11:58:46.983559: I tensorflow/compiler/mlir/mlir_graph_optimization_pass.cc:116] None of the MLIR optimization passes are enabled (registered 2)\n",
            "2021-03-27 11:58:46.984019: I tensorflow/core/platform/profile_utils/cpu_utils.cc:112] CPU Frequency: 2300000000 Hz\n"
          ],
          "name": "stdout"
        }
      ]
    },
    {
      "cell_type": "code",
      "metadata": {
        "id": "b993O7PPJnCt"
      },
      "source": [
        "!python main.py \\\n",
        "  -e pro \\\n",
        "  --generate pl \\\n",
        "  --dnames myspace phpbb myspace_part phpbb_part\\\n",
        "  --alphas 6 \\\n",
        "  --chunk 100000"
      ],
      "execution_count": null,
      "outputs": []
    },
    {
      "cell_type": "markdown",
      "metadata": {
        "id": "9yHtWUb6E3Ow"
      },
      "source": [
        "## 评估模型"
      ]
    },
    {
      "cell_type": "code",
      "metadata": {
        "id": "7VV2QMbwwXmH",
        "colab": {
          "base_uri": "https://localhost:8080/"
        },
        "outputId": "49361d65-e689-4ee3-ef96-1aa75faec710"
      },
      "source": [
        "!python main.py -e pro --evaluate --alphas 3 4 5 6 -c 0.3"
      ],
      "execution_count": 20,
      "outputs": [
        {
          "output_type": "stream",
          "text": [
            "2021-03-27 11:56:59.710571: I tensorflow/stream_executor/platform/default/dso_loader.cc:49] Successfully opened dynamic library libcudart.so.11.0\n",
            "\u001b[1;37m2021-03-27 11:57:01 [INFO] \n",
            "##########################################################################################################\n",
            "# GENPass\n",
            "# 1 PL模型预测。预测密码中的下一个单元（unit）。\n",
            "# 2 权重选择。按照权重选择从3个PL模型的结果中选择权重最高的unit，并根据wordlist随机选择一个密码进行替换。\n",
            "# 3 分类器。使用CNN模型预测上一步生成的密码属于3个数据集的概率。\n",
            "# 4 判定器。选择出在3个数据集概率相差不大的密码作为结果输出。\n",
            "#\n",
            "##########################################################################################################\n",
            "\u001b[0m\n",
            "\u001b[1;37m2021-03-27 11:57:01 [INFO] Start...\u001b[0m\n",
            "\u001b[1;37m2021-03-27 11:57:01 [INFO] 开始评估genpass模型\u001b[0m\n",
            "\u001b[1;37m2021-03-27 11:57:01 [INFO] 创建GenPass模型。用于训练GenPass模型的数据集：['myspace', 'phpbb']，C=0.3\u001b[0m\n",
            "\u001b[1;37m2021-03-27 11:57:01 [INFO] 创建PL模型。数据集名称：myspace\u001b[0m\n",
            "2021-03-27 11:57:01.777093: I tensorflow/compiler/jit/xla_cpu_device.cc:41] Not creating XLA devices, tf_xla_enable_xla_devices not set\n",
            "2021-03-27 11:57:01.778169: I tensorflow/stream_executor/platform/default/dso_loader.cc:49] Successfully opened dynamic library libcuda.so.1\n",
            "2021-03-27 11:57:01.788897: E tensorflow/stream_executor/cuda/cuda_driver.cc:328] failed call to cuInit: CUDA_ERROR_NO_DEVICE: no CUDA-capable device is detected\n",
            "2021-03-27 11:57:01.788959: I tensorflow/stream_executor/cuda/cuda_diagnostics.cc:156] kernel driver does not appear to be running on this host (aa554481e7d6): /proc/driver/nvidia/version does not exist\n",
            "2021-03-27 11:57:01.789578: I tensorflow/compiler/jit/xla_gpu_device.cc:99] Not creating XLA devices, tf_xla_enable_xla_devices not set\n",
            "\u001b[1;37m2021-03-27 11:57:02 [INFO] 创建PL模型。数据集名称：phpbb\u001b[0m\n",
            "\u001b[1;37m2021-03-27 11:57:03 [INFO] 创建分类器\u001b[0m\n",
            "\u001b[1;37m2021-03-27 11:57:04 [INFO] genpass模型（C=0.3）评估\u001b[0m\n",
            "\u001b[1;37m2021-03-27 11:57:04 [INFO] 测试集文件：result/preprocessed/rockyou_small.txt，密码个数：99970\u001b[0m\n",
            "\u001b[1;37m2021-03-27 11:57:04 [INFO] 该模型生成的密码所在目录：result/predict/genpass\u001b[0m\n",
            "\u001b[1;37m2021-03-27 11:57:04 [INFO] alpha：3, unique value：998, test_size: 7000, guessed: 0, mr：0.00%\u001b[0m\n",
            "\u001b[1;37m2021-03-27 11:57:04 [INFO] alpha：4, unique value：9981, test_size: 7000, guessed: 4, mr：0.06%\u001b[0m\n",
            "\u001b[1;37m2021-03-27 11:57:04 [INFO] alpha：5, unique value：0, test_size: 7000, guessed: 0, mr：0.00%\u001b[0m\n",
            "\u001b[1;37m2021-03-27 11:57:04 [INFO] alpha：6, unique value：0, test_size: 7000, guessed: 0, mr：0.00%\u001b[0m\n",
            "\u001b[1;37m2021-03-27 11:57:04 [INFO] genpass模型（C=0.3）评估\u001b[0m\n",
            "\u001b[1;37m2021-03-27 11:57:05 [INFO] 测试集文件：dataset/myspace.txt，密码个数：37118\u001b[0m\n",
            "\u001b[1;37m2021-03-27 11:57:07 [INFO] 该模型生成的密码所在目录：result/predict/genpass\u001b[0m\n",
            "\u001b[1;37m2021-03-27 11:57:07 [INFO] alpha：3, unique value：998, test_size: 7000, guessed: 0, mr：0.00%\u001b[0m\n",
            "\u001b[1;37m2021-03-27 11:57:08 [INFO] alpha：4, unique value：9981, test_size: 7000, guessed: 3, mr：0.04%\u001b[0m\n",
            "\u001b[1;37m2021-03-27 11:57:08 [INFO] alpha：5, unique value：0, test_size: 7000, guessed: 0, mr：0.00%\u001b[0m\n",
            "\u001b[1;37m2021-03-27 11:57:08 [INFO] alpha：6, unique value：0, test_size: 7000, guessed: 0, mr：0.00%\u001b[0m\n",
            "\u001b[1;37m2021-03-27 11:57:08 [INFO] genpass模型（C=0.3）评估\u001b[0m\n",
            "\u001b[1;37m2021-03-27 11:57:08 [INFO] 测试集文件：dataset/phpbb.txt，密码个数：184324\u001b[0m\n",
            "\u001b[1;37m2021-03-27 11:57:08 [INFO] 该模型生成的密码所在目录：result/predict/genpass\u001b[0m\n",
            "\u001b[1;37m2021-03-27 11:57:08 [INFO] alpha：3, unique value：998, test_size: 7000, guessed: 0, mr：0.00%\u001b[0m\n",
            "\u001b[1;37m2021-03-27 11:57:09 [INFO] alpha：4, unique value：9981, test_size: 7000, guessed: 3, mr：0.04%\u001b[0m\n",
            "\u001b[1;37m2021-03-27 11:57:09 [INFO] alpha：5, unique value：0, test_size: 7000, guessed: 0, mr：0.00%\u001b[0m\n",
            "\u001b[1;37m2021-03-27 11:57:09 [INFO] alpha：6, unique value：0, test_size: 7000, guessed: 0, mr：0.00%\u001b[0m\n",
            "\u001b[1;37m2021-03-27 11:57:09 [INFO] 开始评估PL模型\u001b[0m\n",
            "\u001b[1;37m2021-03-27 11:57:09 [INFO] 创建PL模型。数据集名称：myspace\u001b[0m\n",
            "\u001b[1;37m2021-03-27 11:57:10 [INFO] PL模型评估。\u001b[0m\n",
            "\u001b[1;37m2021-03-27 11:57:10 [INFO] 测试集文件：result/preprocessed/rockyou_small.txt，密码个数：99970\u001b[0m\n",
            "\u001b[1;37m2021-03-27 11:57:10 [INFO] 该模型生成的密码所在目录：result/predict/pl/cross\u001b[0m\n",
            "\u001b[1;37m2021-03-27 11:57:10 [INFO] data_name：myspace, alpha：3, unique value：999, test_size: 7000, guessed: 1, mr：0.01%\u001b[0m\n",
            "\u001b[1;37m2021-03-27 11:57:10 [INFO] data_name：myspace, alpha：4, unique value：9922, test_size: 7000, guessed: 2, mr：0.03%\u001b[0m\n",
            "\u001b[1;37m2021-03-27 11:57:11 [INFO] data_name：myspace, alpha：5, unique value：98205, test_size: 7000, guessed: 46, mr：0.66%\u001b[0m\n",
            "\u001b[1;37m2021-03-27 11:57:16 [INFO] data_name：myspace, alpha：6, unique value：1187594, test_size: 7000, guessed: 502, mr：7.17%\u001b[0m\n",
            "\u001b[1;37m2021-03-27 11:57:16 [INFO] 创建PL模型。数据集名称：phpbb\u001b[0m\n",
            "\u001b[1;37m2021-03-27 11:57:17 [INFO] PL模型评估。\u001b[0m\n",
            "\u001b[1;37m2021-03-27 11:57:17 [INFO] 测试集文件：result/preprocessed/rockyou_small.txt，密码个数：99970\u001b[0m\n",
            "\u001b[1;37m2021-03-27 11:57:17 [INFO] 该模型生成的密码所在目录：result/predict/pl/cross\u001b[0m\n",
            "\u001b[1;37m2021-03-27 11:57:17 [INFO] data_name：phpbb, alpha：3, unique value：995, test_size: 7000, guessed: 1, mr：0.01%\u001b[0m\n",
            "\u001b[1;37m2021-03-27 11:57:17 [INFO] data_name：phpbb, alpha：4, unique value：9910, test_size: 7000, guessed: 4, mr：0.06%\u001b[0m\n",
            "\u001b[1;37m2021-03-27 11:57:18 [INFO] data_name：phpbb, alpha：5, unique value：98517, test_size: 7000, guessed: 19, mr：0.27%\u001b[0m\n",
            "\u001b[1;37m2021-03-27 11:57:22 [INFO] data_name：phpbb, alpha：6, unique value：984954, test_size: 7000, guessed: 162, mr：2.31%\u001b[0m\n",
            "\u001b[1;37m2021-03-27 11:57:22 [INFO] 创建PL模型。数据集名称：myspace_part\u001b[0m\n",
            "\u001b[1;37m2021-03-27 11:57:23 [INFO] PL模型评估。\u001b[0m\n",
            "\u001b[1;37m2021-03-27 11:57:23 [INFO] 测试集文件：result/preprocessed/myspace_test.txt，密码个数：7405\u001b[0m\n",
            "\u001b[1;37m2021-03-27 11:57:24 [INFO] 该模型生成的密码所在目录：result/predict/pl/one\u001b[0m\n",
            "\u001b[1;37m2021-03-27 11:57:24 [INFO] data_name：myspace_part, alpha：3, unique value：999, test_size: 7000, guessed: 3, mr：0.04%\u001b[0m\n",
            "\u001b[1;37m2021-03-27 11:57:24 [INFO] data_name：myspace_part, alpha：4, unique value：9960, test_size: 7000, guessed: 7, mr：0.10%\u001b[0m\n",
            "tcmalloc: large alloc 2677907456 bytes == 0x563afafa2000 @  0x7efdf0815001 0x7efdedfcf54f 0x7efdee01fb58 0x7efdee01fd18 0x7efdee0c7010 0x7efdee0c773c 0x7efdee0c785d 0x563adbb072f8 0x7efdee00cef7 0x563adbb04fd7 0x563adbb04de0 0x563adbb78ac2 0x563adbb73b0e 0x563adbb0677a 0x563adbb78e50 0x563adbb73b0e 0x563adba45e2b 0x7efdee00cef7 0x563adbb04fd7 0x563adbb04de0 0x563adbb78ac2 0x563adbb73b0e 0x563adbb0677a 0x563adbb7586a 0x563adbb0669a 0x563adbb74a45 0x563adbb73b0e 0x563adbb0677a 0x563adbb7586a 0x563adbb73b0e 0x563adbb0677a\n",
            "\u001b[1;37m2021-03-27 11:57:28 [INFO] data_name：myspace_part, alpha：5, unique value：98579, test_size: 7000, guessed: 30, mr：0.43%\u001b[0m\n",
            "tcmalloc: large alloc 2676031488 bytes == 0x563afafa2000 @  0x7efdf0815001 0x7efdedfcf54f 0x7efdee01fb58 0x7efdee01fd18 0x7efdee0c7010 0x7efdee0c773c 0x7efdee0c785d 0x563adbb072f8 0x7efdee00cef7 0x563adbb04fd7 0x563adbb04de0 0x563adbb78ac2 0x563adbb73b0e 0x563adbb0677a 0x563adbb78e50 0x563adbb73b0e 0x563adba45e2b 0x7efdee00cef7 0x563adbb04fd7 0x563adbb04de0 0x563adbb78ac2 0x563adbb73b0e 0x563adbb0677a 0x563adbb7586a 0x563adbb0669a 0x563adbb74a45 0x563adbb73b0e 0x563adbb0677a 0x563adbb7586a 0x563adbb73b0e 0x563adbb0677a\n",
            "tcmalloc: large alloc 2675957760 bytes == 0x563affa0a000 @  0x7efdf0815001 0x7efdedfcf54f 0x7efdee01fb58 0x7efdee01fd18 0x7efdee0c7010 0x7efdee0c773c 0x7efdee0c785d 0x563adbb072f8 0x7efdee00cef7 0x563adbb04fd7 0x563adbb04de0 0x563adbb78ac2 0x563adbb73b0e 0x563adbb0677a 0x563adbb78e50 0x563adbb73b0e 0x563adba45e2b 0x7efdee00cef7 0x563adbb04fd7 0x563adbb04de0 0x563adbb78ac2 0x563adbb73b0e 0x563adbb0677a 0x563adbb7586a 0x563adbb0669a 0x563adbb74a45 0x563adbb73b0e 0x563adbb0677a 0x563adbb7586a 0x563adbb73b0e 0x563adbb0677a\n",
            "tcmalloc: large alloc 2675351552 bytes == 0x563afafa2000 @  0x7efdf0815001 0x7efdedfcf54f 0x7efdee01fb58 0x7efdee01fd18 0x7efdee0c7010 0x7efdee0c773c 0x7efdee0c785d 0x563adbb072f8 0x7efdee00cef7 0x563adbb04fd7 0x563adbb04de0 0x563adbb78ac2 0x563adbb73b0e 0x563adbb0677a 0x563adbb78e50 0x563adbb73b0e 0x563adba45e2b 0x7efdee00cef7 0x563adbb04fd7 0x563adbb04de0 0x563adbb78ac2 0x563adbb73b0e 0x563adbb0677a 0x563adbb7586a 0x563adbb0669a 0x563adbb74a45 0x563adbb73b0e 0x563adbb0677a 0x563adbb7586a 0x563adbb73b0e 0x563adbb0677a\n",
            "tcmalloc: large alloc 2675318784 bytes == 0x563afafa2000 @  0x7efdf0815001 0x7efdedfcf54f 0x7efdee01fb58 0x7efdee01fd18 0x7efdee0c7010 0x7efdee0c773c 0x7efdee0c785d 0x563adbb072f8 0x7efdee00cef7 0x563adbb04fd7 0x563adbb04de0 0x563adbb78ac2 0x563adbb73b0e 0x563adbb0677a 0x563adbb78e50 0x563adbb73b0e 0x563adba45e2b 0x7efdee00cef7 0x563adbb04fd7 0x563adbb04de0 0x563adbb78ac2 0x563adbb73b0e 0x563adbb0677a 0x563adbb7586a 0x563adbb0669a 0x563adbb74a45 0x563adbb73b0e 0x563adbb0677a 0x563adbb7586a 0x563adbb73b0e 0x563adbb0677a\n",
            "tcmalloc: large alloc 2678063104 bytes == 0x563afafa2000 @  0x7efdf0815001 0x7efdedfcf54f 0x7efdee01fb58 0x7efdee01fd18 0x7efdee0c7010 0x7efdee0c773c 0x7efdee0c785d 0x563adbb072f8 0x7efdee00cef7 0x563adbb04fd7 0x563adbb04de0 0x563adbb78ac2 0x563adbb73b0e 0x563adbb0677a 0x563adbb78e50 0x563adbb73b0e 0x563adba45e2b 0x7efdee00cef7 0x563adbb04fd7 0x563adbb04de0 0x563adbb78ac2 0x563adbb73b0e 0x563adbb0677a 0x563adbb7586a 0x563adbb0669a 0x563adbb74a45 0x563adbb73b0e 0x563adbb0677a 0x563adbb7586a 0x563adbb73b0e 0x563adbb0677a\n",
            "tcmalloc: large alloc 2673975296 bytes == 0x563afafa2000 @  0x7efdf0815001 0x7efdedfcf54f 0x7efdee01fb58 0x7efdee01fd18 0x7efdee0c7010 0x7efdee0c773c 0x7efdee0c785d 0x563adbb072f8 0x7efdee00cef7 0x563adbb04fd7 0x563adbb04de0 0x563adbb78ac2 0x563adbb73b0e 0x563adbb0677a 0x563adbb78e50 0x563adbb73b0e 0x563adba45e2b 0x7efdee00cef7 0x563adbb04fd7 0x563adbb04de0 0x563adbb78ac2 0x563adbb73b0e 0x563adbb0677a 0x563adbb7586a 0x563adbb0669a 0x563adbb74a45 0x563adbb73b0e 0x563adbb0677a 0x563adbb7586a 0x563adbb73b0e 0x563adbb0677a\n",
            "tcmalloc: large alloc 2676563968 bytes == 0x563aff34a000 @  0x7efdf0815001 0x7efdedfcf54f 0x7efdee01fb58 0x7efdee01fd18 0x7efdee0c7010 0x7efdee0c773c 0x7efdee0c785d 0x563adbb072f8 0x7efdee00cef7 0x563adbb04fd7 0x563adbb04de0 0x563adbb78ac2 0x563adbb73b0e 0x563adbb0677a 0x563adbb78e50 0x563adbb73b0e 0x563adba45e2b 0x7efdee00cef7 0x563adbb04fd7 0x563adbb04de0 0x563adbb78ac2 0x563adbb73b0e 0x563adbb0677a 0x563adbb7586a 0x563adbb0669a 0x563adbb74a45 0x563adbb73b0e 0x563adbb0677a 0x563adbb7586a 0x563adbb73b0e 0x563adbb0677a\n",
            "\u001b[1;37m2021-03-27 11:58:01 [INFO] data_name：myspace_part, alpha：6, unique value：985014, test_size: 7000, guessed: 213, mr：3.04%\u001b[0m\n",
            "\u001b[1;37m2021-03-27 11:58:01 [INFO] 创建PL模型。数据集名称：phpbb_part\u001b[0m\n",
            "\u001b[1;37m2021-03-27 11:58:03 [INFO] PL模型评估。\u001b[0m\n",
            "\u001b[1;37m2021-03-27 11:58:03 [INFO] 测试集文件：result/preprocessed/phpbb_test.txt，密码个数：36823\u001b[0m\n",
            "\u001b[1;37m2021-03-27 11:58:03 [INFO] 该模型生成的密码所在目录：result/predict/pl/one\u001b[0m\n",
            "\u001b[1;37m2021-03-27 11:58:03 [INFO] data_name：phpbb_part, alpha：3, unique value：1000, test_size: 7000, guessed: 1, mr：0.01%\u001b[0m\n",
            "\u001b[1;37m2021-03-27 11:58:03 [INFO] data_name：phpbb_part, alpha：4, unique value：9934, test_size: 7000, guessed: 5, mr：0.07%\u001b[0m\n",
            "\u001b[1;37m2021-03-27 11:58:03 [INFO] data_name：phpbb_part, alpha：5, unique value：98889, test_size: 7000, guessed: 9, mr：0.13%\u001b[0m\n",
            "\u001b[1;37m2021-03-27 11:58:08 [INFO] data_name：phpbb_part, alpha：6, unique value：988474, test_size: 7000, guessed: 83, mr：1.19%\u001b[0m\n",
            "\u001b[1;37m2021-03-27 11:58:08 [INFO] End...\u001b[0m\n"
          ],
          "name": "stdout"
        }
      ]
    }
  ]
}