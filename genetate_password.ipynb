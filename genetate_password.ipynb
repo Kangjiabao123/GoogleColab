{
  "nbformat": 4,
  "nbformat_minor": 0,
  "metadata": {
    "colab": {
      "name": "genetate password.ipynb",
      "provenance": [],
      "collapsed_sections": [],
      "authorship_tag": "ABX9TyOOa7mVBdKQuDJw5nb57fD4",
      "include_colab_link": true
    },
    "kernelspec": {
      "name": "python3",
      "display_name": "Python 3"
    },
    "language_info": {
      "name": "python"
    }
  },
  "cells": [
    {
      "cell_type": "markdown",
      "metadata": {
        "id": "view-in-github",
        "colab_type": "text"
      },
      "source": [
        "<a href=\"https://colab.research.google.com/github/YapingWu/GoogleColab/blob/main/genetate_password.ipynb\" target=\"_parent\"><img src=\"https://colab.research.google.com/assets/colab-badge.svg\" alt=\"Open In Colab\"/></a>"
      ]
    },
    {
      "cell_type": "markdown",
      "metadata": {
        "id": "OHHaVwwfSi5h"
      },
      "source": [
        "# github代码复制到google colab"
      ]
    },
    {
      "cell_type": "markdown",
      "metadata": {
        "id": "cWVQbfnHku7C"
      },
      "source": [
        "## 配置ssh"
      ]
    },
    {
      "cell_type": "code",
      "metadata": {
        "id": "hDBqGHhh9TV7"
      },
      "source": [
        "!rm -rf ~/.ssh\n",
        "!unzip '/content/ssh-colab.zip' -d ~/.ssh\n",
        "!chmod 700 ~/.ssh\n",
        "\n",
        "# add the ssh server as a hnown host\n",
        "!touch ~/.ssh/known_hosts\n",
        "!ssh-keyscan github.com >> ~/.ssh/known_hosts\n",
        "!chmod 644 ~/.ssh/known_hosts"
      ],
      "execution_count": null,
      "outputs": []
    },
    {
      "cell_type": "code",
      "metadata": {
        "id": "wgrkroM7SpaV"
      },
      "source": [
        "!ssh-agent /bin/bash \n",
        "\n",
        "# 以下命令在ssh-agent启动的shell中执行\n",
        "# chmod 600 ~/.ssh/id_rsa_colab  # 私钥需要设置仅自己可以访问，才能添加到代理\n",
        "# ssh-add ~/.ssh/id_rsa_colab\n",
        "# ssh-add -l\n",
        "# exit"
      ],
      "execution_count": null,
      "outputs": []
    },
    {
      "cell_type": "markdown",
      "metadata": {
        "id": "OvVKmbkDkpq7"
      },
      "source": [
        "## 挂载google云盘"
      ]
    },
    {
      "cell_type": "code",
      "metadata": {
        "id": "YoHTeVU9StZj"
      },
      "source": [
        "from google.colab import drive\n",
        "drive.mount('./drive')\n",
        "\n",
        "import os\n",
        "os.chdir('/content/drive/MyDrive/')\n",
        "\n",
        "!pwd\n",
        "!ls"
      ],
      "execution_count": null,
      "outputs": []
    },
    {
      "cell_type": "code",
      "metadata": {
        "id": "rQgTyU7L5w_u"
      },
      "source": [
        "!git config --global user.name 'colab'\n",
        "!git config --global user.email 'vyapings@163.com'"
      ],
      "execution_count": 7,
      "outputs": []
    },
    {
      "cell_type": "markdown",
      "metadata": {
        "id": "ppP7JS_ukibM"
      },
      "source": [
        "## 更新代码"
      ]
    },
    {
      "cell_type": "code",
      "metadata": {
        "id": "zifxH9-5Sv6N",
        "colab": {
          "base_uri": "https://localhost:8080/"
        },
        "outputId": "0038c26a-8518-419b-d902-fa74fab27d8f"
      },
      "source": [
        "# !git clone git@github.com:YapingWu/generate_password.git\n",
        "\n",
        "import os\n",
        "os.chdir('/content/drive/MyDrive/generate_password')\n",
        "!pwd\n",
        "!ls\n",
        "\n",
        "!git stash\n",
        "!git stash clear\n",
        "!git pull origin main"
      ],
      "execution_count": 15,
      "outputs": [
        {
          "output_type": "stream",
          "text": [
            "/content/drive/MyDrive/generate_password\n",
            "conf  dataset  logs  main.py  README.md  requirements.txt  result  src\n",
            "No local changes to save\n",
            "Warning: Permanently added the RSA host key for IP address '140.82.113.3' to the list of known hosts.\n",
            "remote: Enumerating objects: 11, done.\u001b[K\n",
            "remote: Counting objects: 100% (11/11), done.\u001b[K\n",
            "remote: Compressing objects: 100% (1/1), done.\u001b[K\n",
            "remote: Total 6 (delta 5), reused 6 (delta 5), pack-reused 0\u001b[K\n",
            "Unpacking objects: 100% (6/6), done.\n",
            "From github.com:YapingWu/generate_password\n",
            " * branch            main       -> FETCH_HEAD\n",
            "   eabf653..c1b208b  main       -> origin/main\n",
            "Updating eabf653..c1b208b\n",
            "Fast-forward\n",
            " main.py             |  3 \u001b[32m+\u001b[m\u001b[31m-\u001b[m\n",
            " src/char_lstm.py    | 83 \u001b[32m++++++++++++++++++++++++++++\u001b[m\u001b[31m-------------------------\u001b[m\n",
            " src/markov_model.py |  4 \u001b[32m++\u001b[m\u001b[31m-\u001b[m\n",
            " 3 files changed, 49 insertions(+), 41 deletions(-)\n"
          ],
          "name": "stdout"
        }
      ]
    },
    {
      "cell_type": "markdown",
      "metadata": {
        "id": "PM_a58hHUOHh"
      },
      "source": [
        "# 运行项目"
      ]
    },
    {
      "cell_type": "code",
      "metadata": {
        "id": "NyuEGcVnTmCJ"
      },
      "source": [
        "# 修改工作目录\n",
        "import os\n",
        "print(os.getcwd())\n",
        "os.chdir('/content/drive/MyDrive/generate_password')\n",
        "print(os.getcwd())\n",
        "\n",
        "# 修改时区\n",
        "!date -R\n",
        "import os\n",
        "os.environ['TZ'] = \"Asia/Shanghai\"\n",
        "!date -R"
      ],
      "execution_count": null,
      "outputs": []
    },
    {
      "cell_type": "markdown",
      "metadata": {
        "id": "_FRoCpPSJEY6"
      },
      "source": [
        "## 分析数据"
      ]
    },
    {
      "cell_type": "code",
      "metadata": {
        "id": "bT_mFGK7JG3v",
        "colab": {
          "base_uri": "https://localhost:8080/"
        },
        "outputId": "b9ed4782-3e7c-44fb-c5bd-ad2d1d3e8f04"
      },
      "source": [
        "!python main.py -e pro --log-level info \\\n",
        "  --stats-only \\\n",
        "  --pwd-file dataset/en/myspace.txt dataset/en/phpbb.txt"
      ],
      "execution_count": 9,
      "outputs": [
        {
          "output_type": "stream",
          "text": [
            "2021-04-16 08:48:51.013918: I tensorflow/stream_executor/platform/default/dso_loader.cc:49] Successfully opened dynamic library libcudart.so.11.0\n",
            "2021-04-16 08:48:53,161 - main.py[:71] - INFO - Beginning...\n",
            "2021-04-16 08:48:53,515 - main.py[:72] - INFO - args：{'proj_env': 'pro', 'log_level': 'info', 'pwd_file': ['dataset/en/myspace.txt', 'dataset/en/phpbb.txt'], 'stats_only': True, 'train': False, 'generated': False, 'model': 'char_lstm', 'model_file': None, 'evaluate': False, 'data_name': None, 'test_file': None}\n",
            "2021-04-16 08:48:53,515 - main.py[:75] - INFO - 分析密码分布...\n",
            "2021-04-16 08:48:54,375 - common.py[:38] - INFO - dataset/en/myspace.txt数据集中的密码数量：37144\n",
            "2021-04-16 08:48:54,423 - common.py[:47] - INFO - 密码长度不在[4, 20]区间的密码个数：259，占总密码数量的百分比：0.70%\n",
            "2021-04-16 08:48:55,249 - common.py[:38] - INFO - dataset/en/phpbb.txt数据集中的密码数量：184379\n",
            "2021-04-16 08:48:55,342 - common.py[:47] - INFO - 密码长度不在[4, 20]区间的密码个数：1013，占总密码数量的百分比：0.55%\n",
            "2021-04-16 08:48:55,345 - main.py[:126] - INFO - End...\n"
          ],
          "name": "stdout"
        }
      ]
    },
    {
      "cell_type": "markdown",
      "metadata": {
        "id": "EMLaDmLmp2RI"
      },
      "source": [
        "## Char Lstm"
      ]
    },
    {
      "cell_type": "markdown",
      "metadata": {
        "id": "F1rQrHP4ivwz"
      },
      "source": [
        "### 训练模型"
      ]
    },
    {
      "cell_type": "markdown",
      "metadata": {
        "id": "m5My-qbgkKid"
      },
      "source": [
        "#### myspace"
      ]
    },
    {
      "cell_type": "code",
      "metadata": {
        "id": "1Uc0sOpSUTrE"
      },
      "source": [
        "!python main.py -e pro --log-level info \\\n",
        "  --train --model char_lstm \\\n",
        "  --pwd-file dataset/en/myspace.txt"
      ],
      "execution_count": null,
      "outputs": []
    },
    {
      "cell_type": "markdown",
      "metadata": {
        "id": "0VAMSAjmkNiK"
      },
      "source": [
        "#### phpbb"
      ]
    },
    {
      "cell_type": "code",
      "metadata": {
        "id": "O4VosVf-KYkN"
      },
      "source": [
        "!python main.py -e pro --log-level info \\\n",
        "  --train --model char_lstm \\\n",
        "  --pwd-file dataset/en/phpbb.txt"
      ],
      "execution_count": null,
      "outputs": []
    },
    {
      "cell_type": "markdown",
      "metadata": {
        "id": "k1MeU-3ckO2j"
      },
      "source": [
        "#### tensorboard"
      ]
    },
    {
      "cell_type": "code",
      "metadata": {
        "id": "AvycSYYW8WFS"
      },
      "source": [
        "%load_ext tensorboard"
      ],
      "execution_count": 10,
      "outputs": []
    },
    {
      "cell_type": "code",
      "metadata": {
        "id": "k0fz_NxPEy80"
      },
      "source": [
        "%tensorboard --logdir 'logs/tb_logs/char_lstm/20210414193152'"
      ],
      "execution_count": null,
      "outputs": []
    },
    {
      "cell_type": "code",
      "metadata": {
        "id": "MBw78z3r8i4O"
      },
      "source": [
        "%tensorboard --logdir 'logs/tb_logs/char_lstm/20210415175500'"
      ],
      "execution_count": null,
      "outputs": []
    },
    {
      "cell_type": "markdown",
      "metadata": {
        "id": "SQdnagONp71P"
      },
      "source": [
        "### 生成密码"
      ]
    },
    {
      "cell_type": "markdown",
      "metadata": {
        "id": "1d7W2tC2kCbh"
      },
      "source": [
        "#### myspace"
      ]
    },
    {
      "cell_type": "code",
      "metadata": {
        "id": "eT2QEjqDp0k2"
      },
      "source": [
        "!python main.py -e pro --log-level info \\\n",
        "  --generated --model char_lstm \\\n",
        "  --data-name myspace"
      ],
      "execution_count": null,
      "outputs": []
    },
    {
      "cell_type": "markdown",
      "metadata": {
        "id": "qVdg6QitkGTu"
      },
      "source": [
        "#### phpbb"
      ]
    },
    {
      "cell_type": "code",
      "metadata": {
        "colab": {
          "base_uri": "https://localhost:8080/"
        },
        "id": "TVrNjT-MJSVN",
        "outputId": "fcac1d6d-ce91-4453-a82a-3fb11f8d19b8"
      },
      "source": [
        "!python main.py -e pro --log-level info \\\n",
        "  --generated --model char_lstm \\\n",
        "  --data-name phpbb"
      ],
      "execution_count": 12,
      "outputs": [
        {
          "output_type": "stream",
          "text": [
            "2021-04-16 08:55:16.138387: I tensorflow/stream_executor/platform/default/dso_loader.cc:49] Successfully opened dynamic library libcudart.so.11.0\n",
            "2021-04-16 08:55:17,985 - main.py[:71] - INFO - Beginning...\n",
            "2021-04-16 08:55:17,986 - main.py[:72] - INFO - args：{'proj_env': 'pro', 'log_level': 'info', 'pwd_file': None, 'stats_only': False, 'train': False, 'generated': True, 'model': 'char_lstm', 'model_file': None, 'evaluate': False, 'data_name': ['phpbb'], 'test_file': None}\n",
            "2021-04-16 08:55:18,258 - char_lstm.py[:221] - INFO - [*] Generate password...\n",
            "2021-04-16 08:55:18,259 - char_lstm.py[:216] - INFO - model file：result/model/char_lstm/phpbb.h5\n",
            "2021-04-16 08:55:18.696796: I tensorflow/compiler/jit/xla_cpu_device.cc:41] Not creating XLA devices, tf_xla_enable_xla_devices not set\n",
            "2021-04-16 08:55:18.719943: I tensorflow/stream_executor/platform/default/dso_loader.cc:49] Successfully opened dynamic library libcuda.so.1\n",
            "2021-04-16 08:55:18.784799: E tensorflow/stream_executor/cuda/cuda_driver.cc:328] failed call to cuInit: CUDA_ERROR_NO_DEVICE: no CUDA-capable device is detected\n",
            "2021-04-16 08:55:18.784849: I tensorflow/stream_executor/cuda/cuda_diagnostics.cc:156] kernel driver does not appear to be running on this host (49d00ab393b8): /proc/driver/nvidia/version does not exist\n",
            "2021-04-16 08:55:18.785406: I tensorflow/compiler/jit/xla_gpu_device.cc:99] Not creating XLA devices, tf_xla_enable_xla_devices not set\n",
            "2021-04-16 08:55:20,067 - char_lstm.py[:228] - INFO - 待生成的密码数量：1000000，每个文件中密码数量：10000\n",
            "2021-04-16 08:55:20.108634: I tensorflow/compiler/mlir/mlir_graph_optimization_pass.cc:116] None of the MLIR optimization passes are enabled (registered 2)\n",
            "2021-04-16 08:55:20.119424: I tensorflow/core/platform/profile_utils/cpu_utils.cc:112] CPU Frequency: 2200000000 Hz\n",
            "2021-04-16 08:56:16,238 - char_lstm.py[:238] - INFO - 生成好的 10,110 个密码保存到文件：result/guessed/char_lstm/phpbb_0.txt\n",
            "2021-04-16 08:57:08,305 - char_lstm.py[:238] - INFO - 生成好的 10,108 个密码保存到文件：result/guessed/char_lstm/phpbb_1.txt\n",
            "2021-04-16 08:58:01,560 - char_lstm.py[:238] - INFO - 生成好的 10,107 个密码保存到文件：result/guessed/char_lstm/phpbb_2.txt\n",
            "2021-04-16 08:58:55,962 - char_lstm.py[:238] - INFO - 生成好的 10,111 个密码保存到文件：result/guessed/char_lstm/phpbb_3.txt\n",
            "2021-04-16 08:59:48,546 - char_lstm.py[:238] - INFO - 生成好的 10,105 个密码保存到文件：result/guessed/char_lstm/phpbb_4.txt\n",
            "2021-04-16 09:00:42,075 - char_lstm.py[:238] - INFO - 生成好的 10,107 个密码保存到文件：result/guessed/char_lstm/phpbb_5.txt\n",
            "2021-04-16 09:01:35,872 - char_lstm.py[:238] - INFO - 生成好的 10,109 个密码保存到文件：result/guessed/char_lstm/phpbb_6.txt\n",
            "2021-04-16 09:02:30,541 - char_lstm.py[:238] - INFO - 生成好的 10,108 个密码保存到文件：result/guessed/char_lstm/phpbb_7.txt\n",
            "2021-04-16 09:03:24,093 - char_lstm.py[:238] - INFO - 生成好的 10,111 个密码保存到文件：result/guessed/char_lstm/phpbb_8.txt\n",
            "2021-04-16 09:04:19,191 - char_lstm.py[:238] - INFO - 生成好的 10,107 个密码保存到文件：result/guessed/char_lstm/phpbb_9.txt\n",
            "2021-04-16 09:05:12,121 - char_lstm.py[:238] - INFO - 生成好的 10,108 个密码保存到文件：result/guessed/char_lstm/phpbb_10.txt\n",
            "2021-04-16 09:06:04,943 - char_lstm.py[:238] - INFO - 生成好的 10,105 个密码保存到文件：result/guessed/char_lstm/phpbb_11.txt\n",
            "2021-04-16 09:06:58,902 - char_lstm.py[:238] - INFO - 生成好的 10,108 个密码保存到文件：result/guessed/char_lstm/phpbb_12.txt\n",
            "2021-04-16 09:07:51,312 - char_lstm.py[:238] - INFO - 生成好的 10,109 个密码保存到文件：result/guessed/char_lstm/phpbb_13.txt\n",
            "2021-04-16 09:08:44,997 - char_lstm.py[:238] - INFO - 生成好的 10,108 个密码保存到文件：result/guessed/char_lstm/phpbb_14.txt\n",
            "2021-04-16 09:09:39,931 - char_lstm.py[:238] - INFO - 生成好的 10,108 个密码保存到文件：result/guessed/char_lstm/phpbb_15.txt\n",
            "2021-04-16 09:10:34,509 - char_lstm.py[:238] - INFO - 生成好的 10,111 个密码保存到文件：result/guessed/char_lstm/phpbb_16.txt\n",
            "2021-04-16 09:11:28,787 - char_lstm.py[:238] - INFO - 生成好的 10,111 个密码保存到文件：result/guessed/char_lstm/phpbb_17.txt\n",
            "2021-04-16 09:12:23,286 - char_lstm.py[:238] - INFO - 生成好的 10,107 个密码保存到文件：result/guessed/char_lstm/phpbb_18.txt\n",
            "2021-04-16 09:13:18,795 - char_lstm.py[:238] - INFO - 生成好的 10,109 个密码保存到文件：result/guessed/char_lstm/phpbb_19.txt\n",
            "2021-04-16 09:14:13,121 - char_lstm.py[:238] - INFO - 生成好的 10,111 个密码保存到文件：result/guessed/char_lstm/phpbb_20.txt\n",
            "2021-04-16 09:15:06,565 - char_lstm.py[:238] - INFO - 生成好的 10,108 个密码保存到文件：result/guessed/char_lstm/phpbb_21.txt\n",
            "2021-04-16 09:15:59,579 - char_lstm.py[:238] - INFO - 生成好的 10,108 个密码保存到文件：result/guessed/char_lstm/phpbb_22.txt\n",
            "2021-04-16 09:16:52,718 - char_lstm.py[:238] - INFO - 生成好的 10,108 个密码保存到文件：result/guessed/char_lstm/phpbb_23.txt\n",
            "2021-04-16 09:17:45,811 - char_lstm.py[:238] - INFO - 生成好的 10,111 个密码保存到文件：result/guessed/char_lstm/phpbb_24.txt\n",
            "2021-04-16 09:18:39,291 - char_lstm.py[:238] - INFO - 生成好的 10,109 个密码保存到文件：result/guessed/char_lstm/phpbb_25.txt\n",
            "2021-04-16 09:19:31,406 - char_lstm.py[:238] - INFO - 生成好的 10,104 个密码保存到文件：result/guessed/char_lstm/phpbb_26.txt\n",
            "2021-04-16 09:20:24,354 - char_lstm.py[:238] - INFO - 生成好的 10,109 个密码保存到文件：result/guessed/char_lstm/phpbb_27.txt\n",
            "2021-04-16 09:21:18,954 - char_lstm.py[:238] - INFO - 生成好的 10,106 个密码保存到文件：result/guessed/char_lstm/phpbb_28.txt\n",
            "2021-04-16 09:22:12,342 - char_lstm.py[:238] - INFO - 生成好的 10,106 个密码保存到文件：result/guessed/char_lstm/phpbb_29.txt\n",
            "2021-04-16 09:23:05,482 - char_lstm.py[:238] - INFO - 生成好的 10,107 个密码保存到文件：result/guessed/char_lstm/phpbb_30.txt\n",
            "2021-04-16 09:23:58,833 - char_lstm.py[:238] - INFO - 生成好的 10,107 个密码保存到文件：result/guessed/char_lstm/phpbb_31.txt\n",
            "2021-04-16 09:24:51,544 - char_lstm.py[:238] - INFO - 生成好的 10,108 个密码保存到文件：result/guessed/char_lstm/phpbb_32.txt\n",
            "2021-04-16 09:25:44,777 - char_lstm.py[:238] - INFO - 生成好的 10,107 个密码保存到文件：result/guessed/char_lstm/phpbb_33.txt\n",
            "2021-04-16 09:26:37,690 - char_lstm.py[:238] - INFO - 生成好的 10,110 个密码保存到文件：result/guessed/char_lstm/phpbb_34.txt\n",
            "2021-04-16 09:27:29,707 - char_lstm.py[:238] - INFO - 生成好的 10,110 个密码保存到文件：result/guessed/char_lstm/phpbb_35.txt\n",
            "2021-04-16 09:28:21,376 - char_lstm.py[:238] - INFO - 生成好的 10,109 个密码保存到文件：result/guessed/char_lstm/phpbb_36.txt\n",
            "2021-04-16 09:29:14,833 - char_lstm.py[:238] - INFO - 生成好的 10,107 个密码保存到文件：result/guessed/char_lstm/phpbb_37.txt\n",
            "2021-04-16 09:30:07,461 - char_lstm.py[:238] - INFO - 生成好的 10,108 个密码保存到文件：result/guessed/char_lstm/phpbb_38.txt\n",
            "2021-04-16 09:31:00,777 - char_lstm.py[:238] - INFO - 生成好的 10,110 个密码保存到文件：result/guessed/char_lstm/phpbb_39.txt\n",
            "2021-04-16 09:31:54,299 - char_lstm.py[:238] - INFO - 生成好的 10,111 个密码保存到文件：result/guessed/char_lstm/phpbb_40.txt\n",
            "2021-04-16 09:32:47,486 - char_lstm.py[:238] - INFO - 生成好的 10,106 个密码保存到文件：result/guessed/char_lstm/phpbb_41.txt\n",
            "2021-04-16 09:33:41,945 - char_lstm.py[:238] - INFO - 生成好的 10,109 个密码保存到文件：result/guessed/char_lstm/phpbb_42.txt\n",
            "2021-04-16 09:34:36,597 - char_lstm.py[:238] - INFO - 生成好的 10,109 个密码保存到文件：result/guessed/char_lstm/phpbb_43.txt\n",
            "2021-04-16 09:35:30,305 - char_lstm.py[:238] - INFO - 生成好的 10,107 个密码保存到文件：result/guessed/char_lstm/phpbb_44.txt\n",
            "2021-04-16 09:36:23,191 - char_lstm.py[:238] - INFO - 生成好的 10,109 个密码保存到文件：result/guessed/char_lstm/phpbb_45.txt\n",
            "2021-04-16 09:37:15,979 - char_lstm.py[:238] - INFO - 生成好的 10,111 个密码保存到文件：result/guessed/char_lstm/phpbb_46.txt\n",
            "2021-04-16 09:38:08,700 - char_lstm.py[:238] - INFO - 生成好的 10,109 个密码保存到文件：result/guessed/char_lstm/phpbb_47.txt\n",
            "2021-04-16 09:39:01,614 - char_lstm.py[:238] - INFO - 生成好的 10,105 个密码保存到文件：result/guessed/char_lstm/phpbb_48.txt\n",
            "2021-04-16 09:39:56,619 - char_lstm.py[:238] - INFO - 生成好的 10,109 个密码保存到文件：result/guessed/char_lstm/phpbb_49.txt\n",
            "2021-04-16 09:40:50,854 - char_lstm.py[:238] - INFO - 生成好的 10,106 个密码保存到文件：result/guessed/char_lstm/phpbb_50.txt\n",
            "2021-04-16 09:41:43,645 - char_lstm.py[:238] - INFO - 生成好的 10,111 个密码保存到文件：result/guessed/char_lstm/phpbb_51.txt\n",
            "2021-04-16 09:42:36,364 - char_lstm.py[:238] - INFO - 生成好的 10,107 个密码保存到文件：result/guessed/char_lstm/phpbb_52.txt\n",
            "2021-04-16 09:43:29,196 - char_lstm.py[:238] - INFO - 生成好的 10,109 个密码保存到文件：result/guessed/char_lstm/phpbb_53.txt\n",
            "2021-04-16 09:44:23,073 - char_lstm.py[:238] - INFO - 生成好的 10,111 个密码保存到文件：result/guessed/char_lstm/phpbb_54.txt\n",
            "2021-04-16 09:45:19,271 - char_lstm.py[:238] - INFO - 生成好的 10,105 个密码保存到文件：result/guessed/char_lstm/phpbb_55.txt\n",
            "2021-04-16 09:46:14,076 - char_lstm.py[:238] - INFO - 生成好的 10,109 个密码保存到文件：result/guessed/char_lstm/phpbb_56.txt\n",
            "2021-04-16 09:47:08,698 - char_lstm.py[:238] - INFO - 生成好的 10,107 个密码保存到文件：result/guessed/char_lstm/phpbb_57.txt\n",
            "2021-04-16 09:48:02,746 - char_lstm.py[:238] - INFO - 生成好的 10,109 个密码保存到文件：result/guessed/char_lstm/phpbb_58.txt\n",
            "2021-04-16 09:48:56,737 - char_lstm.py[:238] - INFO - 生成好的 10,107 个密码保存到文件：result/guessed/char_lstm/phpbb_59.txt\n",
            "2021-04-16 09:49:51,510 - char_lstm.py[:238] - INFO - 生成好的 10,106 个密码保存到文件：result/guessed/char_lstm/phpbb_60.txt\n",
            "2021-04-16 09:50:45,335 - char_lstm.py[:238] - INFO - 生成好的 10,108 个密码保存到文件：result/guessed/char_lstm/phpbb_61.txt\n",
            "2021-04-16 09:51:38,597 - char_lstm.py[:238] - INFO - 生成好的 10,108 个密码保存到文件：result/guessed/char_lstm/phpbb_62.txt\n",
            "2021-04-16 09:52:32,967 - char_lstm.py[:238] - INFO - 生成好的 10,108 个密码保存到文件：result/guessed/char_lstm/phpbb_63.txt\n",
            "2021-04-16 09:53:26,658 - char_lstm.py[:238] - INFO - 生成好的 10,107 个密码保存到文件：result/guessed/char_lstm/phpbb_64.txt\n",
            "2021-04-16 09:54:19,834 - char_lstm.py[:238] - INFO - 生成好的 10,102 个密码保存到文件：result/guessed/char_lstm/phpbb_65.txt\n",
            "2021-04-16 09:55:12,675 - char_lstm.py[:238] - INFO - 生成好的 10,109 个密码保存到文件：result/guessed/char_lstm/phpbb_66.txt\n",
            "2021-04-16 09:56:04,677 - char_lstm.py[:238] - INFO - 生成好的 10,108 个密码保存到文件：result/guessed/char_lstm/phpbb_67.txt\n",
            "2021-04-16 09:56:55,842 - char_lstm.py[:238] - INFO - 生成好的 10,109 个密码保存到文件：result/guessed/char_lstm/phpbb_68.txt\n",
            "2021-04-16 09:57:46,861 - char_lstm.py[:238] - INFO - 生成好的 10,107 个密码保存到文件：result/guessed/char_lstm/phpbb_69.txt\n",
            "2021-04-16 09:58:38,572 - char_lstm.py[:238] - INFO - 生成好的 10,107 个密码保存到文件：result/guessed/char_lstm/phpbb_70.txt\n",
            "2021-04-16 09:59:30,498 - char_lstm.py[:238] - INFO - 生成好的 10,109 个密码保存到文件：result/guessed/char_lstm/phpbb_71.txt\n",
            "2021-04-16 10:00:23,270 - char_lstm.py[:238] - INFO - 生成好的 10,109 个密码保存到文件：result/guessed/char_lstm/phpbb_72.txt\n",
            "2021-04-16 10:01:16,415 - char_lstm.py[:238] - INFO - 生成好的 10,105 个密码保存到文件：result/guessed/char_lstm/phpbb_73.txt\n",
            "2021-04-16 10:02:08,850 - char_lstm.py[:238] - INFO - 生成好的 10,110 个密码保存到文件：result/guessed/char_lstm/phpbb_74.txt\n",
            "2021-04-16 10:03:02,016 - char_lstm.py[:238] - INFO - 生成好的 10,110 个密码保存到文件：result/guessed/char_lstm/phpbb_75.txt\n",
            "2021-04-16 10:03:54,404 - char_lstm.py[:238] - INFO - 生成好的 10,107 个密码保存到文件：result/guessed/char_lstm/phpbb_76.txt\n",
            "2021-04-16 10:04:47,044 - char_lstm.py[:238] - INFO - 生成好的 10,111 个密码保存到文件：result/guessed/char_lstm/phpbb_77.txt\n",
            "2021-04-16 10:05:39,120 - char_lstm.py[:238] - INFO - 生成好的 10,107 个密码保存到文件：result/guessed/char_lstm/phpbb_78.txt\n",
            "2021-04-16 10:06:31,258 - char_lstm.py[:238] - INFO - 生成好的 10,107 个密码保存到文件：result/guessed/char_lstm/phpbb_79.txt\n",
            "2021-04-16 10:07:22,491 - char_lstm.py[:238] - INFO - 生成好的 10,109 个密码保存到文件：result/guessed/char_lstm/phpbb_80.txt\n",
            "2021-04-16 10:08:13,690 - char_lstm.py[:238] - INFO - 生成好的 10,108 个密码保存到文件：result/guessed/char_lstm/phpbb_81.txt\n",
            "2021-04-16 10:09:06,443 - char_lstm.py[:238] - INFO - 生成好的 10,111 个密码保存到文件：result/guessed/char_lstm/phpbb_82.txt\n",
            "2021-04-16 10:09:58,435 - char_lstm.py[:238] - INFO - 生成好的 10,108 个密码保存到文件：result/guessed/char_lstm/phpbb_83.txt\n",
            "2021-04-16 10:10:51,002 - char_lstm.py[:238] - INFO - 生成好的 10,109 个密码保存到文件：result/guessed/char_lstm/phpbb_84.txt\n",
            "2021-04-16 10:11:43,414 - char_lstm.py[:238] - INFO - 生成好的 10,108 个密码保存到文件：result/guessed/char_lstm/phpbb_85.txt\n",
            "2021-04-16 10:12:36,121 - char_lstm.py[:238] - INFO - 生成好的 10,110 个密码保存到文件：result/guessed/char_lstm/phpbb_86.txt\n",
            "2021-04-16 10:13:27,679 - char_lstm.py[:238] - INFO - 生成好的 10,111 个密码保存到文件：result/guessed/char_lstm/phpbb_87.txt\n",
            "2021-04-16 10:14:19,171 - char_lstm.py[:238] - INFO - 生成好的 10,112 个密码保存到文件：result/guessed/char_lstm/phpbb_88.txt\n",
            "2021-04-16 10:15:11,419 - char_lstm.py[:238] - INFO - 生成好的 10,110 个密码保存到文件：result/guessed/char_lstm/phpbb_89.txt\n",
            "2021-04-16 10:16:04,905 - char_lstm.py[:238] - INFO - 生成好的 10,107 个密码保存到文件：result/guessed/char_lstm/phpbb_90.txt\n",
            "2021-04-16 10:16:57,295 - char_lstm.py[:238] - INFO - 生成好的 10,109 个密码保存到文件：result/guessed/char_lstm/phpbb_91.txt\n",
            "2021-04-16 10:17:49,942 - char_lstm.py[:238] - INFO - 生成好的 10,110 个密码保存到文件：result/guessed/char_lstm/phpbb_92.txt\n",
            "2021-04-16 10:18:44,007 - char_lstm.py[:238] - INFO - 生成好的 10,108 个密码保存到文件：result/guessed/char_lstm/phpbb_93.txt\n",
            "2021-04-16 10:19:37,211 - char_lstm.py[:238] - INFO - 生成好的 10,104 个密码保存到文件：result/guessed/char_lstm/phpbb_94.txt\n",
            "2021-04-16 10:20:31,225 - char_lstm.py[:238] - INFO - 生成好的 10,108 个密码保存到文件：result/guessed/char_lstm/phpbb_95.txt\n",
            "2021-04-16 10:21:26,580 - char_lstm.py[:238] - INFO - 生成好的 10,110 个密码保存到文件：result/guessed/char_lstm/phpbb_96.txt\n",
            "2021-04-16 10:22:20,840 - char_lstm.py[:238] - INFO - 生成好的 10,111 个密码保存到文件：result/guessed/char_lstm/phpbb_97.txt\n",
            "2021-04-16 10:23:15,287 - char_lstm.py[:238] - INFO - 生成好的 10,108 个密码保存到文件：result/guessed/char_lstm/phpbb_98.txt\n",
            "2021-04-16 10:24:08,977 - char_lstm.py[:238] - INFO - 生成好的 10,108 个密码保存到文件：result/guessed/char_lstm/phpbb_99.txt\n",
            "2021-04-16 10:24:09,343 - main.py[:126] - INFO - End...\n"
          ],
          "name": "stdout"
        }
      ]
    },
    {
      "cell_type": "markdown",
      "metadata": {
        "id": "mTwRLZKbJAz5"
      },
      "source": [
        "### 评估模型"
      ]
    },
    {
      "cell_type": "code",
      "metadata": {
        "id": "3n1MLw0EI2fr",
        "colab": {
          "base_uri": "https://localhost:8080/"
        },
        "outputId": "84fde4e4-e187-4bd7-d16c-f629a4837158"
      },
      "source": [
        "!python main.py -e pro --log-level info \\\n",
        "  --evaluate --model char_lstm \\\n",
        "  --data-name myspace phpbb \\\n",
        "  --test-file dataset/en/myspace.txt dataset/en/phpbb.txt dataset/en/rockyou_small.txt"
      ],
      "execution_count": 13,
      "outputs": [
        {
          "output_type": "stream",
          "text": [
            "2021-04-16 10:34:56.358037: I tensorflow/stream_executor/platform/default/dso_loader.cc:49] Successfully opened dynamic library libcudart.so.11.0\n",
            "2021-04-16 10:34:58,336 - main.py[:71] - INFO - Beginning...\n",
            "2021-04-16 10:34:58,542 - main.py[:72] - INFO - args：{'proj_env': 'pro', 'log_level': 'info', 'pwd_file': None, 'stats_only': False, 'train': False, 'generated': False, 'model': 'char_lstm', 'model_file': None, 'evaluate': True, 'data_name': ['myspace', 'phpbb'], 'test_file': ['dataset/en/myspace.txt', 'dataset/en/phpbb.txt', 'dataset/en/rockyou_small.txt']}\n",
            "2021-04-16 10:34:58,544 - char_lstm.py[:242] - INFO - [*] Evaluate model(myspace)...\n",
            "2021-04-16 10:34:58,544 - char_lstm.py[:244] - INFO - 生成的密码文件：result/guessed/char_lstm/myspace.*.txt\n",
            "2021-04-16 10:34:58,604 - char_lstm.py[:252] - INFO - 测试集文件：dataset/en/myspace.txt，测试集大小：5000\n",
            "2021-04-16 10:34:58,858 - char_lstm.py[:260] - INFO - alpha：4, generated：10086, guessed: 6, mr：0.12%\n",
            "2021-04-16 10:35:01,240 - char_lstm.py[:260] - INFO - alpha：5, generated：100104, guessed: 43, mr：0.86%\n",
            "2021-04-16 10:35:34,701 - char_lstm.py[:260] - INFO - alpha：6, generated：972264, guessed: 155, mr：3.10%\n",
            "2021-04-16 10:35:34,926 - char_lstm.py[:252] - INFO - 测试集文件：dataset/en/phpbb.txt，测试集大小：5000\n",
            "2021-04-16 10:35:35,421 - char_lstm.py[:260] - INFO - alpha：4, generated：10086, guessed: 0, mr：0.00%\n",
            "2021-04-16 10:35:36,014 - char_lstm.py[:260] - INFO - alpha：5, generated：100104, guessed: 9, mr：0.18%\n",
            "2021-04-16 10:35:51,025 - char_lstm.py[:260] - INFO - alpha：6, generated：972264, guessed: 31, mr：0.62%\n",
            "2021-04-16 10:35:51,919 - char_lstm.py[:252] - INFO - 测试集文件：dataset/en/rockyou_small.txt，测试集大小：5000\n",
            "2021-04-16 10:35:52,411 - char_lstm.py[:260] - INFO - alpha：4, generated：10086, guessed: 2, mr：0.04%\n",
            "2021-04-16 10:35:53,016 - char_lstm.py[:260] - INFO - alpha：5, generated：100104, guessed: 30, mr：0.60%\n",
            "2021-04-16 10:36:08,461 - char_lstm.py[:260] - INFO - alpha：6, generated：972264, guessed: 148, mr：2.96%\n",
            "2021-04-16 10:36:08,822 - char_lstm.py[:242] - INFO - [*] Evaluate model(phpbb)...\n",
            "2021-04-16 10:36:08,823 - char_lstm.py[:244] - INFO - 生成的密码文件：result/guessed/char_lstm/phpbb.*.txt\n",
            "2021-04-16 10:36:08,874 - char_lstm.py[:252] - INFO - 测试集文件：dataset/en/myspace.txt，测试集大小：5000\n",
            "2021-04-16 10:36:08,923 - char_lstm.py[:260] - INFO - alpha：4, generated：10108, guessed: 0, mr：0.00%\n",
            "2021-04-16 10:36:09,547 - char_lstm.py[:260] - INFO - alpha：5, generated：100836, guessed: 8, mr：0.16%\n",
            "2021-04-16 10:36:24,647 - char_lstm.py[:260] - INFO - alpha：6, generated：995683, guessed: 39, mr：0.78%\n",
            "2021-04-16 10:36:24,883 - char_lstm.py[:252] - INFO - 测试集文件：dataset/en/phpbb.txt，测试集大小：5000\n",
            "2021-04-16 10:36:25,360 - char_lstm.py[:260] - INFO - alpha：4, generated：10108, guessed: 2, mr：0.04%\n",
            "2021-04-16 10:36:25,960 - char_lstm.py[:260] - INFO - alpha：5, generated：100836, guessed: 27, mr：0.54%\n",
            "2021-04-16 10:36:41,225 - char_lstm.py[:260] - INFO - alpha：6, generated：995683, guessed: 131, mr：2.62%\n",
            "2021-04-16 10:36:41,348 - char_lstm.py[:252] - INFO - 测试集文件：dataset/en/rockyou_small.txt，测试集大小：5000\n",
            "2021-04-16 10:36:41,790 - char_lstm.py[:260] - INFO - alpha：4, generated：10108, guessed: 3, mr：0.06%\n",
            "2021-04-16 10:36:42,401 - char_lstm.py[:260] - INFO - alpha：5, generated：100836, guessed: 38, mr：0.76%\n",
            "2021-04-16 10:36:57,449 - char_lstm.py[:260] - INFO - alpha：6, generated：995683, guessed: 281, mr：5.62%\n",
            "2021-04-16 10:36:57,799 - main.py[:126] - INFO - End...\n"
          ],
          "name": "stdout"
        }
      ]
    },
    {
      "cell_type": "markdown",
      "metadata": {
        "id": "oCMFp694MKhv"
      },
      "source": [
        "## Markov模型"
      ]
    },
    {
      "cell_type": "markdown",
      "metadata": {
        "id": "n0F5QB4RMVnG"
      },
      "source": [
        "### 训练模型"
      ]
    },
    {
      "cell_type": "code",
      "metadata": {
        "id": "yRJBNjkwMcKs"
      },
      "source": [
        "!python main.py -e pro --log-level info \\\n",
        "  --train --model markov \\\n",
        "  --pwd-file dataset/en/myspace.txt dataset/en/phpbb.txt"
      ],
      "execution_count": null,
      "outputs": []
    },
    {
      "cell_type": "markdown",
      "metadata": {
        "id": "x_g37liBMYT1"
      },
      "source": [
        "### 生成密码"
      ]
    },
    {
      "cell_type": "markdown",
      "metadata": {
        "id": "2YrOps6PM9Jn"
      },
      "source": [
        "#### myspace"
      ]
    },
    {
      "cell_type": "code",
      "metadata": {
        "id": "9cXsvyb7Mc5v"
      },
      "source": [
        "!python main.py -e pro --log-level info \\\n",
        "  --generated --model markov \\\n",
        "  --data-name myspace"
      ],
      "execution_count": null,
      "outputs": []
    },
    {
      "cell_type": "markdown",
      "metadata": {
        "id": "xQocaxbjM-iA"
      },
      "source": [
        "#### phpbb"
      ]
    },
    {
      "cell_type": "code",
      "metadata": {
        "id": "AnZIYcogM4A1"
      },
      "source": [
        "!python main.py -e pro --log-level info \\\n",
        "  --generated --model markov \\\n",
        "  --data-name phpbb"
      ],
      "execution_count": null,
      "outputs": []
    },
    {
      "cell_type": "markdown",
      "metadata": {
        "id": "SY2tKjLXMZ8B"
      },
      "source": [
        "### 评估模型"
      ]
    },
    {
      "cell_type": "code",
      "metadata": {
        "colab": {
          "base_uri": "https://localhost:8080/"
        },
        "id": "G8l5-p7pMdT2",
        "outputId": "6eae8211-e59f-4ff7-f9ed-d48de9da0127"
      },
      "source": [
        "!python main.py -e pro --log-level info \\\n",
        "  --evaluate --model markov \\\n",
        "  --data-name myspace phpbb \\\n",
        "  --test-file dataset/en/myspace.txt dataset/en/phpbb.txt dataset/en/rockyou_small.txt"
      ],
      "execution_count": 14,
      "outputs": [
        {
          "output_type": "stream",
          "text": [
            "2021-04-16 10:48:08.032027: I tensorflow/stream_executor/platform/default/dso_loader.cc:49] Successfully opened dynamic library libcudart.so.11.0\n",
            "2021-04-16 10:48:09,797 - main.py[:71] - INFO - Beginning...\n",
            "2021-04-16 10:48:10,002 - main.py[:72] - INFO - args：{'proj_env': 'pro', 'log_level': 'info', 'pwd_file': None, 'stats_only': False, 'train': False, 'generated': False, 'model': 'markov', 'model_file': None, 'evaluate': True, 'data_name': ['myspace', 'phpbb'], 'test_file': ['dataset/en/myspace.txt', 'dataset/en/phpbb.txt', 'dataset/en/rockyou_small.txt']}\n",
            "2021-04-16 10:48:10,003 - markov_model.py[:151] - INFO - [*] Evaluate model(myspace)...\n",
            "2021-04-16 10:48:10,003 - markov_model.py[:153] - INFO - 生成的密码文件：result/guessed/markov/myspace.*.txt\n",
            "2021-04-16 10:48:11,390 - markov_model.py[:161] - INFO - 测试集文件：dataset/en/myspace.txt，测试集大小：5000\n",
            "2021-04-16 10:48:11,778 - markov_model.py[:169] - INFO - alpha：4, generated：9953, guessed: 1, mr：0.02%\n",
            "2021-04-16 10:48:15,064 - markov_model.py[:169] - INFO - alpha：5, generated：97808, guessed: 4, mr：0.08%\n",
            "2021-04-16 10:48:55,606 - markov_model.py[:169] - INFO - alpha：6, generated：921302, guessed: 41, mr：0.82%\n",
            "2021-04-16 10:48:55,819 - markov_model.py[:161] - INFO - 测试集文件：dataset/en/phpbb.txt，测试集大小：5000\n",
            "2021-04-16 10:48:56,260 - markov_model.py[:169] - INFO - alpha：4, generated：9953, guessed: 2, mr：0.04%\n",
            "2021-04-16 10:48:56,838 - markov_model.py[:169] - INFO - alpha：5, generated：97808, guessed: 14, mr：0.28%\n",
            "2021-04-16 10:49:11,373 - markov_model.py[:169] - INFO - alpha：6, generated：921302, guessed: 81, mr：1.62%\n",
            "2021-04-16 10:49:11,511 - markov_model.py[:161] - INFO - 测试集文件：dataset/en/rockyou_small.txt，测试集大小：5000\n",
            "2021-04-16 10:49:11,921 - markov_model.py[:169] - INFO - alpha：4, generated：9953, guessed: 2, mr：0.04%\n",
            "2021-04-16 10:49:12,518 - markov_model.py[:169] - INFO - alpha：5, generated：97808, guessed: 9, mr：0.18%\n",
            "2021-04-16 10:49:27,064 - markov_model.py[:169] - INFO - alpha：6, generated：921302, guessed: 69, mr：1.38%\n",
            "2021-04-16 10:49:27,397 - markov_model.py[:151] - INFO - [*] Evaluate model(phpbb)...\n",
            "2021-04-16 10:49:27,397 - markov_model.py[:153] - INFO - 生成的密码文件：result/guessed/markov/phpbb.*.txt\n",
            "2021-04-16 10:49:27,447 - markov_model.py[:161] - INFO - 测试集文件：dataset/en/myspace.txt，测试集大小：5000\n",
            "2021-04-16 10:49:27,893 - markov_model.py[:169] - INFO - alpha：4, generated：9983, guessed: 1, mr：0.02%\n",
            "2021-04-16 10:49:31,308 - markov_model.py[:169] - INFO - alpha：5, generated：98746, guessed: 5, mr：0.10%\n",
            "2021-04-16 10:50:15,916 - markov_model.py[:169] - INFO - alpha：6, generated：942831, guessed: 25, mr：0.50%\n",
            "2021-04-16 10:50:16,133 - markov_model.py[:161] - INFO - 测试集文件：dataset/en/phpbb.txt，测试集大小：5000\n",
            "2021-04-16 10:50:16,585 - markov_model.py[:169] - INFO - alpha：4, generated：9983, guessed: 3, mr：0.06%\n",
            "2021-04-16 10:50:17,168 - markov_model.py[:169] - INFO - alpha：5, generated：98746, guessed: 31, mr：0.62%\n",
            "2021-04-16 10:50:31,969 - markov_model.py[:169] - INFO - alpha：6, generated：942831, guessed: 120, mr：2.40%\n",
            "2021-04-16 10:50:32,086 - markov_model.py[:161] - INFO - 测试集文件：dataset/en/rockyou_small.txt，测试集大小：5000\n",
            "2021-04-16 10:50:32,541 - markov_model.py[:169] - INFO - alpha：4, generated：9983, guessed: 2, mr：0.04%\n",
            "2021-04-16 10:50:33,121 - markov_model.py[:169] - INFO - alpha：5, generated：98746, guessed: 16, mr：0.32%\n",
            "2021-04-16 10:50:47,971 - markov_model.py[:169] - INFO - alpha：6, generated：942831, guessed: 106, mr：2.12%\n",
            "2021-04-16 10:50:48,297 - main.py[:126] - INFO - End...\n"
          ],
          "name": "stdout"
        }
      ]
    },
    {
      "cell_type": "markdown",
      "metadata": {
        "id": "BLrZSMMQlVs_"
      },
      "source": [
        "## 画图"
      ]
    },
    {
      "cell_type": "code",
      "metadata": {
        "id": "rikGrdXnlZGQ"
      },
      "source": [
        "import matplotlib.pyplot as plt"
      ],
      "execution_count": null,
      "outputs": []
    }
  ]
}