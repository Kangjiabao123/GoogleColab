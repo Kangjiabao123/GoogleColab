{
  "nbformat": 4,
  "nbformat_minor": 0,
  "metadata": {
    "colab": {
      "name": "keras.ipynb",
      "provenance": [],
      "collapsed_sections": [],
      "toc_visible": true,
      "authorship_tag": "ABX9TyNQA/Yc2CnWLeTIVk58vmEO",
      "include_colab_link": true
    },
    "kernelspec": {
      "name": "python3",
      "display_name": "Python 3"
    }
  },
  "cells": [
    {
      "cell_type": "markdown",
      "metadata": {
        "id": "view-in-github",
        "colab_type": "text"
      },
      "source": [
        "<a href=\"https://colab.research.google.com/github/YapingWu/GoogleColab/blob/main/keras/keras.ipynb\" target=\"_parent\"><img src=\"https://colab.research.google.com/assets/colab-badge.svg\" alt=\"Open In Colab\"/></a>"
      ]
    },
    {
      "cell_type": "markdown",
      "metadata": {
        "id": "V9ffxsN7GO1Q"
      },
      "source": [
        "Keras有两种类型的模型，序贯模型（Sequential）和函数式模型（Model），函数式模型应用更为广泛，序贯模型是函数式模型的一种特殊情况。"
      ]
    },
    {
      "cell_type": "markdown",
      "metadata": {
        "id": "j4xK551kBeDO"
      },
      "source": [
        "打印平台版本信息\r\n",
        "```\r\n",
        "2.4.0\r\n",
        "keras==2.4.3\r\n",
        "tensorflow==2.4.1\r\n",
        "python==3.6.9\r\n",
        "numpy==1.19.5\r\n",
        "pandas==1.1.5\r\n",
        "matplotlib==3.2.2\r\n",
        "```"
      ]
    },
    {
      "cell_type": "code",
      "metadata": {
        "id": "FL5FedDnWbg9"
      },
      "source": [
        "# 打印平台版本信息\r\n",
        "# from tensorflow.python import keras\r\n",
        "# print(keras.__version__)\r\n",
        "import keras\r\n",
        "import tensorflow\r\n",
        "import platform\r\n",
        "import numpy\r\n",
        "import pandas\r\n",
        "import matplotlib\r\n",
        "print('keras==%s' % keras.__version__)\r\n",
        "print('tensorflow==%s' % tensorflow.__version__)\r\n",
        "print('python==%s' % platform.python_version())\r\n",
        "print('numpy==%s' % numpy.__version__)\r\n",
        "print('pandas==%s' % pandas.__version__)\r\n",
        "print('matplotlib==%s' % matplotlib.__version__)"
      ],
      "execution_count": null,
      "outputs": []
    },
    {
      "cell_type": "markdown",
      "metadata": {
        "id": "5sAt7YXlGja0"
      },
      "source": [
        "# 序贯模型 keras.models.Sequential\r\n",
        "序贯模型是函数式模型的简略版，为最简单的线性、从头到尾的结构顺序，不分叉。\r\n",
        "\r\n",
        "Sequential模型的基本组件\r\n",
        "一般需要：\r\n",
        "\r\n",
        "1、model.add，添加层；  \r\n",
        "2、model.compile，模型训练的BP模式设置；  \r\n",
        "3、model.fit，模型训练参数设置 + 训练；  \r\n",
        "4、模型评估  \r\n",
        "5、模型预测  "
      ]
    },
    {
      "cell_type": "code",
      "metadata": {
        "id": "BHvdWFdcGuSH"
      },
      "source": [
        "from keras.models import Sequential"
      ],
      "execution_count": null,
      "outputs": []
    },
    {
      "cell_type": "markdown",
      "metadata": {
        "id": "f2j13Q6QbOen"
      },
      "source": [
        "## model.add 添加层\r\n",
        "\r\n",
        "`add(self, layer)`\r\n",
        "\r\n",
        "\r\n"
      ]
    },
    {
      "cell_type": "code",
      "metadata": {
        "id": "8iXIWoIGbJ-z"
      },
      "source": [
        "model = Sequential()\r\n",
        "model.add(Dense(32, activation='relu', input_dim=100))"
      ],
      "execution_count": null,
      "outputs": []
    },
    {
      "cell_type": "markdown",
      "metadata": {
        "id": "i-35FnLrbbH8"
      },
      "source": [
        "## model.compile 模型训练的BP模式设置\r\n",
        "\r\n",
        "```\r\n",
        "compile(self, optimizer, # 字符串（预定义优化器名）或优化器对象，参考优化器\r\n",
        "        loss, # 字符串（预定义损失函数名）或目标函数，参考损失函数\r\n",
        "        metrics=None, # 列表，包含评估模型在训练和测试时的网络性能的指标，典型用法是metrics=[‘accuracy’] \r\n",
        "        sample_weight_mode=None # 如果你需要按时间步为样本赋权（2D权矩阵），将该值设为“temporal”\r\n",
        "        )\r\n",
        "```\r\n",
        "\r\n",
        "其中：  \r\n",
        "kwargs： 使用TensorFlow作为后端请忽略该参数，若使用Theano作为后端，kwargs的值将会传递给 K.function  \r\n",
        "\r\n",
        "注意：  \r\n",
        "模型在使用前必须编译，否则在调用fit或evaluate时会抛出异常。"
      ]
    },
    {
      "cell_type": "markdown",
      "metadata": {
        "id": "BS94sz5Ybw_s"
      },
      "source": [
        "## model.fit 模型训练参数设置 + 训练\r\n",
        "```\r\n",
        "fit(self, x, y, # x：输入数据。y：标签\r\n",
        "    batch_size=32, # 整数，指定进行梯度下降时每个batch包含的样本数。训练时一个batch的样本会被计算一次梯度下降，使目标函数优化一步。\r\n",
        "    epochs=10, # 整数，训练的轮数，每个epoch会把训练集轮一遍。\r\n",
        "    verbose=1, # 日志显示，0为不在标准输出流输出日志信息，1为输出进度条记录，2为每个epoch输出一行记录\r\n",
        "    callbacks=None, # list，其中的元素是keras.callbacks.Callback的对象。这个list中的回调函数将会在训练过程中的适当时机被调用，参考回调函数\r\n",
        "    validation_split=0.0, # 0~1之间的浮点数，用来指定训练集的一定比例数据作为验证集。验证集将不参与训练，并在每个epoch结束后测试的模型的指标，如损失函数、精确度等。注意，validation_split的划分在shuffle之前，因此如果你的数据本身是有序的，需要先手工打乱再指定validation_split，否则可能会出现验证集样本不均匀。\r\n",
        "    validation_data=None, # 形式为（X，y）的tuple，是指定的验证集。此参数将覆盖validation_spilt。\r\n",
        "    shuffle=True, # 布尔值或字符串，一般为布尔值，表示是否在训练过程中随机打乱输入样本的顺序。若为字符串“batch”，则是用来处理HDF5数据的特殊情况，它将在batch内部将数据打乱。\r\n",
        "    class_weight=None, # 字典，将不同的类别映射为不同的权值，该参数用来在训练过程中调整损失函数（只能用于训练）\r\n",
        "    sample_weight=None, \r\n",
        "    initial_epoch=0 # 从该参数指定的epoch开始训练，在继续之前的训练时有用。\r\n",
        "    )\r\n",
        "```\r\n",
        "fit函数返回一个History的对象，其History.history属性记录了损失函数和其他指标的数值随epoch变化的情况，如果有验证集的话，也包含了验证集的这些指标变化情况\r\n",
        "\r\n"
      ]
    },
    {
      "cell_type": "markdown",
      "metadata": {
        "id": "lTuX_xyNdk8-"
      },
      "source": [
        "## model.evaluate 模型评估\r\n",
        "本函数返回一个测试误差的标量值（如果模型没有其他评价指标），或一个标量的list（如果模型还有其他的评价指标）。  \r\n",
        "model.metrics_names将给出list中各个值的含义。\r\n",
        "\r\n",
        "\r\n",
        "```\r\n",
        "evaluate(self, x, y, \r\n",
        "         batch_size=32, \r\n",
        "         verbose=1, \r\n",
        "         sample_weight=None\r\n",
        "         )\r\n",
        "```\r\n",
        "参数与fit同名参数含义相同。\r\n",
        "\r\n",
        "\r\n",
        "\r\n"
      ]
    },
    {
      "cell_type": "markdown",
      "metadata": {
        "id": "PKEybOmBeIGd"
      },
      "source": [
        "## model.predict 模型预测 \r\n",
        "\r\n",
        "\r\n",
        "```\r\n",
        "predict(self, x, batch_size=32, verbose=0)\r\n",
        "predict_classes(self, x, batch_size=32, verbose=1)\r\n",
        "predict_proba(self, x, batch_size=32, verbose=1)\r\n",
        "```\r\n",
        "predict：按batch获得输入数据对应的输出；  \r\n",
        "predict_classes：按batch产生输入数据的类别预测结果；  \r\n",
        "predict_proba：按batch产生输入数据属于各个类别的概率\r\n",
        "\r\n",
        "函数的返回值是预测值的numpy array\r\n",
        "\r\n"
      ]
    },
    {
      "cell_type": "markdown",
      "metadata": {
        "id": "JtJblukrBtft"
      },
      "source": [
        "# 函数化模型 keras.models.Model"
      ]
    },
    {
      "cell_type": "markdown",
      "metadata": {
        "id": "AfULvhkSCS3Q"
      },
      "source": [
        "参考资料：\r\n",
        "1. [Sequential与Model模型、keras基本结构功能](https://blog.csdn.net/sinat_26917383/article/details/72857454)"
      ]
    }
  ]
}