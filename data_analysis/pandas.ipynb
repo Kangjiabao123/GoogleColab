{
  "nbformat": 4,
  "nbformat_minor": 0,
  "metadata": {
    "colab": {
      "name": "pandas.ipynb",
      "provenance": [],
      "authorship_tag": "ABX9TyNzF+IV3jbjMk5/ElDKNCJn",
      "include_colab_link": true
    },
    "kernelspec": {
      "name": "python3",
      "display_name": "Python 3"
    }
  },
  "cells": [
    {
      "cell_type": "markdown",
      "metadata": {
        "id": "view-in-github",
        "colab_type": "text"
      },
      "source": [
        "<a href=\"https://colab.research.google.com/github/YapingWu/GoogleColab/blob/main/data_analysis/pandas.ipynb\" target=\"_parent\"><img src=\"https://colab.research.google.com/assets/colab-badge.svg\" alt=\"Open In Colab\"/></a>"
      ]
    },
    {
      "cell_type": "markdown",
      "metadata": {
        "id": "ytWnxSEbSo2g"
      },
      "source": [
        "Pandas数据处理"
      ]
    },
    {
      "cell_type": "code",
      "metadata": {
        "id": "8V52jtoX0kiq"
      },
      "source": [
        "import pandas as pd\r\n",
        "import matplotlib.pyplot as plt\r\n",
        "\r\n",
        "data = ['L8 D1 ', 'L3 D3 ', 'L7 ', 'L6 D1 ', 'L7 D1 ', 'D6 ', 'D3 L3 ']\r\n",
        "df = pd.DataFrame(data, columns=['unit'])\r\n",
        "df['unit'] = df['unit'].apply(lambda x: x.strip())\r\n",
        "df['len'] = df['unit'].apply(lambda x: len(x.split(\" \")))\r\n",
        "df['cnt'] = 1\r\n",
        "\r\n",
        "df1 = df.groupby('len')['cnt'].sum().reset_index()\r\n",
        "print(df1.head(5))\r\n",
        "\r\n",
        "# plot函数作图\r\n",
        "plt.plot(df1['len'], df1['cnt'], marker='*') \r\n",
        "plt.xlabel(\"unit len\")\r\n",
        "plt.ylabel(\"cnt\") \r\n",
        "\r\n",
        "# show函数展示出这个图，如果没有这行代码，则程序完成绘图，但看不到\r\n",
        "plt.show()"
      ],
      "execution_count": null,
      "outputs": []
    },
    {
      "cell_type": "markdown",
      "metadata": {
        "id": "U-vLZSjZPCq3"
      },
      "source": [
        "# pandas cut。将数据分割成多个区间。   \r\n",
        "参考：[cut使用总结](https://www.cnblogs.com/sench/p/10128216.html)"
      ]
    },
    {
      "cell_type": "code",
      "metadata": {
        "colab": {
          "base_uri": "https://localhost:8080/"
        },
        "id": "2gmu0YUUPDYR",
        "outputId": "f87af7a2-2859-4702-8ab7-0bfa21aa132b"
      },
      "source": [
        "import numpy as np\r\n",
        "import pandas as pd\r\n",
        "\r\n",
        "ages = np.array([1,5,10,40,36,12,58,62,77,89,100,18,20,25,30,32])\r\n",
        "df = pd.DataFrame(ages, columns=['age'])\r\n",
        "\r\n",
        "#  将ages平均分为5个区间\r\n",
        "df['categories'] = pd.cut(df['age'], 5)\r\n",
        "# 指定区间进行分割\r\n",
        "df['categories1'] = pd.cut(df['age'], [0,5,20,30,50,100])\r\n",
        "print(df.head(5))"
      ],
      "execution_count": 16,
      "outputs": [
        {
          "output_type": "stream",
          "text": [
            "   age     categories categories1\n",
            "0    1  (0.901, 20.8]      (0, 5]\n",
            "1    5  (0.901, 20.8]      (0, 5]\n",
            "2   10  (0.901, 20.8]     (5, 20]\n",
            "3   40   (20.8, 40.6]    (30, 50]\n",
            "4   36   (20.8, 40.6]    (30, 50]\n"
          ],
          "name": "stdout"
        }
      ]
    },
    {
      "cell_type": "markdown",
      "metadata": {
        "id": "Fs_h8SaoSl6C"
      },
      "source": [
        "# groupby"
      ]
    },
    {
      "cell_type": "code",
      "metadata": {
        "colab": {
          "base_uri": "https://localhost:8080/",
          "height": 202
        },
        "id": "vLtoxjdDTMhu",
        "outputId": "f87d2e9f-0bbc-4928-b00a-2a67f6933dc5"
      },
      "source": [
        "# 统计每个分组中数据条数\r\n",
        "df.groupby('categories1').size().reset_index()"
      ],
      "execution_count": 19,
      "outputs": [
        {
          "output_type": "execute_result",
          "data": {
            "text/html": [
              "<div>\n",
              "<style scoped>\n",
              "    .dataframe tbody tr th:only-of-type {\n",
              "        vertical-align: middle;\n",
              "    }\n",
              "\n",
              "    .dataframe tbody tr th {\n",
              "        vertical-align: top;\n",
              "    }\n",
              "\n",
              "    .dataframe thead th {\n",
              "        text-align: right;\n",
              "    }\n",
              "</style>\n",
              "<table border=\"1\" class=\"dataframe\">\n",
              "  <thead>\n",
              "    <tr style=\"text-align: right;\">\n",
              "      <th></th>\n",
              "      <th>categories1</th>\n",
              "      <th>0</th>\n",
              "    </tr>\n",
              "  </thead>\n",
              "  <tbody>\n",
              "    <tr>\n",
              "      <th>0</th>\n",
              "      <td>(0, 5]</td>\n",
              "      <td>2</td>\n",
              "    </tr>\n",
              "    <tr>\n",
              "      <th>1</th>\n",
              "      <td>(5, 20]</td>\n",
              "      <td>4</td>\n",
              "    </tr>\n",
              "    <tr>\n",
              "      <th>2</th>\n",
              "      <td>(20, 30]</td>\n",
              "      <td>2</td>\n",
              "    </tr>\n",
              "    <tr>\n",
              "      <th>3</th>\n",
              "      <td>(30, 50]</td>\n",
              "      <td>3</td>\n",
              "    </tr>\n",
              "    <tr>\n",
              "      <th>4</th>\n",
              "      <td>(50, 100]</td>\n",
              "      <td>5</td>\n",
              "    </tr>\n",
              "  </tbody>\n",
              "</table>\n",
              "</div>"
            ],
            "text/plain": [
              "  categories1  0\n",
              "0      (0, 5]  2\n",
              "1     (5, 20]  4\n",
              "2    (20, 30]  2\n",
              "3    (30, 50]  3\n",
              "4   (50, 100]  5"
            ]
          },
          "metadata": {
            "tags": []
          },
          "execution_count": 19
        }
      ]
    },
    {
      "cell_type": "code",
      "metadata": {
        "colab": {
          "base_uri": "https://localhost:8080/",
          "height": 202
        },
        "id": "1am4cicDXcs4",
        "outputId": "f3cab405-03c0-4247-a60d-4b54035ec82d"
      },
      "source": [
        "df['categories1'].value_counts().reset_index()"
      ],
      "execution_count": 21,
      "outputs": [
        {
          "output_type": "execute_result",
          "data": {
            "text/html": [
              "<div>\n",
              "<style scoped>\n",
              "    .dataframe tbody tr th:only-of-type {\n",
              "        vertical-align: middle;\n",
              "    }\n",
              "\n",
              "    .dataframe tbody tr th {\n",
              "        vertical-align: top;\n",
              "    }\n",
              "\n",
              "    .dataframe thead th {\n",
              "        text-align: right;\n",
              "    }\n",
              "</style>\n",
              "<table border=\"1\" class=\"dataframe\">\n",
              "  <thead>\n",
              "    <tr style=\"text-align: right;\">\n",
              "      <th></th>\n",
              "      <th>index</th>\n",
              "      <th>categories1</th>\n",
              "    </tr>\n",
              "  </thead>\n",
              "  <tbody>\n",
              "    <tr>\n",
              "      <th>0</th>\n",
              "      <td>(50, 100]</td>\n",
              "      <td>5</td>\n",
              "    </tr>\n",
              "    <tr>\n",
              "      <th>1</th>\n",
              "      <td>(5, 20]</td>\n",
              "      <td>4</td>\n",
              "    </tr>\n",
              "    <tr>\n",
              "      <th>2</th>\n",
              "      <td>(30, 50]</td>\n",
              "      <td>3</td>\n",
              "    </tr>\n",
              "    <tr>\n",
              "      <th>3</th>\n",
              "      <td>(20, 30]</td>\n",
              "      <td>2</td>\n",
              "    </tr>\n",
              "    <tr>\n",
              "      <th>4</th>\n",
              "      <td>(0, 5]</td>\n",
              "      <td>2</td>\n",
              "    </tr>\n",
              "  </tbody>\n",
              "</table>\n",
              "</div>"
            ],
            "text/plain": [
              "       index  categories1\n",
              "0  (50, 100]            5\n",
              "1    (5, 20]            4\n",
              "2   (30, 50]            3\n",
              "3   (20, 30]            2\n",
              "4     (0, 5]            2"
            ]
          },
          "metadata": {
            "tags": []
          },
          "execution_count": 21
        }
      ]
    }
  ]
}